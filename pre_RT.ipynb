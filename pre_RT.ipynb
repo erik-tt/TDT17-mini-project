{
 "cells": [
  {
   "cell_type": "markdown",
   "metadata": {},
   "source": [
    "# Task 1: preRT segmentation"
   ]
  },
  {
   "cell_type": "code",
   "execution_count": 1,
   "metadata": {},
   "outputs": [
    {
     "name": "stderr",
     "output_type": "stream",
     "text": [
      "/cluster/apps/eb/software/Anaconda3/2022.10/lib/python3.9/site-packages/scipy/__init__.py:155: UserWarning: A NumPy version >=1.18.5 and <1.25.0 is required for this version of SciPy (detected version 1.26.4\n",
      "  warnings.warn(f\"A NumPy version >={np_minversion} and <{np_maxversion}\"\n"
     ]
    }
   ],
   "source": [
    "import numpy as np\n",
    "import matplotlib.pyplot as plt\n",
    "from monai.transforms import LoadImage\n",
    "from monai.data import Dataset, DataLoader, ThreadDataLoader, CacheDataset, decollate_batch\n",
    "from monai.losses import DiceLoss, DiceCELoss, FocalLoss\n",
    "from monai.metrics import DiceMetric\n",
    "from monai.networks.nets import UNet, SwinUNETR, BasicUNetPlusPlus, SegResNet, resnet152, UNETR\n",
    "from monai.utils import set_determinism\n",
    "import os.path\n",
    "import random\n",
    "import torch\n",
    "\n",
    "from monai.transforms import (\n",
    "    Compose,\n",
    "    LoadImaged,\n",
    "    Compose,\n",
    "    LoadImaged,\n",
    "    RandSpatialCropd,\n",
    "    EnsureChannelFirstd,\n",
    "    ToTensord,\n",
    "    Resized,\n",
    "    AsDiscreted,\n",
    "    RandFlipd,\n",
    "    CropForegroundd,\n",
    "    NormalizeIntensityd,\n",
    "    Spacingd,\n",
    "    AsDiscrete,\n",
    "    CenterSpatialCropd\n",
    ")"
   ]
  },
  {
   "cell_type": "code",
   "execution_count": 2,
   "metadata": {},
   "outputs": [],
   "source": [
    "data_path = \"/cluster/projects/vc/data/mic/open/HNTS-MRG/train/\""
   ]
  },
  {
   "cell_type": "code",
   "execution_count": 55,
   "metadata": {},
   "outputs": [
    {
     "name": "stdout",
     "output_type": "stream",
     "text": [
      "130\n"
     ]
    }
   ],
   "source": [
    "data_preRT = []\n",
    "for patient_num in os.listdir(data_path):\n",
    "    patient = f\"{data_path}{patient_num}\"\n",
    "    image = f\"{patient}/preRT/{patient_num}_preRT_T2.nii.gz\"\n",
    "    mask = f\"{patient}/preRT/{patient_num}_preRT_mask.nii.gz\"\n",
    "    \n",
    "    data_preRT.append({\"image\": image, \"label\": mask})\n",
    "\n",
    "print(len(data_preRT))"
   ]
  },
  {
   "cell_type": "code",
   "execution_count": 303,
   "metadata": {},
   "outputs": [],
   "source": [
    "set_determinism(seed=1)\n",
    "\n",
    "training_data = data_preRT[:105]\n",
    "validation_data = data_preRT[105:]\n",
    "roi = (256, 256, 48)\n",
    "\n",
    "train_transforms = Compose(\n",
    "     [\n",
    "        LoadImaged(keys=[\"image\", \"label\"]),\n",
    "        EnsureChannelFirstd(keys=[\"image\", \"label\"]),\n",
    "        CropForegroundd(\n",
    "                keys=[\"image\", \"label\"],\n",
    "                source_key=\"image\",\n",
    "                k_divisible=[roi[0], roi[1], roi[2]],\n",
    "                allow_smaller=False\n",
    "        ),\n",
    "        RandSpatialCropd(\n",
    "            keys=[\"image\", \"label\"],\n",
    "            roi_size = [roi[0], roi[1], roi[2]],\n",
    "            random_center = True,\n",
    "            random_size = False\n",
    "            ),\n",
    "        RandFlipd(keys=[\"image\", \"label\"], prob=0.5, spatial_axis=0),\n",
    "        RandFlipd(keys=[\"image\", \"label\"], prob=0.5, spatial_axis=1),\n",
    "        RandFlipd(keys=[\"image\", \"label\"], prob=0.5, spatial_axis=2),\n",
    "        NormalizeIntensityd(keys=\"image\", nonzero=True, channel_wise=True),\n",
    "        #AsDiscreted(keys=[\"label\"], to_onehot=3),\n",
    "        ToTensord(keys=[\"image\", \"label\"])\n",
    "    ]\n",
    ")\n",
    "\n",
    "val_transforms = Compose(\n",
    "     [\n",
    "        LoadImaged(keys=[\"image\", \"label\"]),\n",
    "        EnsureChannelFirstd(keys=[\"image\", \"label\"]),\n",
    "        CenterSpatialCropd(keys=[\"image\", \"label\"], roi_size=(256, 256, 48)),  # Crop center\n",
    "        NormalizeIntensityd(keys=\"image\", nonzero=True, channel_wise=True),\n",
    "        #AsDiscreted(keys=[\"label\"], to_onehot=3),\n",
    "        ToTensord(keys=[\"image\", \"label\"])\n",
    "    ]\n",
    ")"
   ]
  },
  {
   "cell_type": "code",
   "execution_count": 304,
   "metadata": {},
   "outputs": [
    {
     "name": "stderr",
     "output_type": "stream",
     "text": [
      "Loading dataset: 100%|██████████| 105/105 [01:11<00:00,  1.48it/s]\n",
      "Loading dataset: 100%|██████████| 25/25 [00:14<00:00,  1.69it/s]\n"
     ]
    }
   ],
   "source": [
    "train_ds = CacheDataset(data=training_data, transform=train_transforms, cache_rate=1.0)\n",
    "val_ds = CacheDataset(data=validation_data, transform=val_transforms, cache_rate=1.0)"
   ]
  },
  {
   "cell_type": "code",
   "execution_count": 305,
   "metadata": {},
   "outputs": [],
   "source": [
    "train_dataloader = DataLoader(train_ds, batch_size=4, shuffle=True, num_workers=0)\n",
    "val_dataloader = DataLoader(val_ds, batch_size=4, shuffle=False, num_workers=0)"
   ]
  },
  {
   "cell_type": "code",
   "execution_count": 306,
   "metadata": {},
   "outputs": [],
   "source": [
    "device = torch.device(\"cuda\" if torch.cuda.is_available() else \"cpu\")\n",
    "model = None"
   ]
  },
  {
   "cell_type": "code",
   "execution_count": 334,
   "metadata": {},
   "outputs": [],
   "source": [
    "#Run this cell for UNet\n",
    "model = UNet(\n",
    "    spatial_dims=3,\n",
    "    in_channels=1,\n",
    "    out_channels=3,\n",
    "    channels=(16,32,64,128,256),\n",
    "    strides=(2, 2, 2, 2),\n",
    ").to(device)\n",
    "\n",
    "model_name = \"U-Net\""
   ]
  },
  {
   "cell_type": "code",
   "execution_count": 58,
   "metadata": {},
   "outputs": [],
   "source": [
    "model = SwinUNETR(\n",
    "    img_size = roi,\n",
    "    in_channels=1,\n",
    "    out_channels=3,\n",
    ").to(device)\n",
    "\n",
    "model_name = \"Swin-UNet\""
   ]
  },
  {
   "cell_type": "code",
   "execution_count": null,
   "metadata": {},
   "outputs": [],
   "source": [
    "model = BasicUNetPlusPlus(\n",
    "    spatial_dims=3,\n",
    "    in_channels=1,\n",
    "    out_channels=3,\n",
    ")\n",
    "\n",
    "model_name = \"Basic U-Net++\""
   ]
  },
  {
   "cell_type": "code",
   "execution_count": 332,
   "metadata": {},
   "outputs": [],
   "source": [
    "model = SegResNet(\n",
    "    blocks_down=[1, 2, 2, 4],\n",
    "    blocks_up=[1, 1, 1],\n",
    "    init_filters=16,\n",
    "    in_channels=1,\n",
    "    out_channels=3,\n",
    "    dropout_prob=0.2,\n",
    ").to(device)\n",
    "\n",
    "model_name = \"SegResNet\""
   ]
  },
  {
   "cell_type": "code",
   "execution_count": 318,
   "metadata": {},
   "outputs": [
    {
     "name": "stdout",
     "output_type": "stream",
     "text": [
      "Class counts: [313.72273618   1.           1.08019141]\n"
     ]
    }
   ],
   "source": [
    "from collections import Counter\n",
    "\n",
    "class_counts = Counter()\n",
    "\n",
    "for idx in range(len(train_ds)):\n",
    "    label = train_ds[idx][\"label\"]\n",
    "\n",
    "    if label.ndim > 1 and label.shape[0] > 1:  \n",
    "        label = np.argmax(label, axis=0)\n",
    "    unique_values, counts = np.unique(label, return_counts=True)\n",
    "    class_counts.update(dict(zip(unique_values, counts)))\n",
    "\n",
    "class_counts = np.array([class_counts.get(cls, 0) for cls in range(3)])\n",
    "class_counts = class_counts / class_counts.min()\n",
    "print(f\"Class counts: {class_counts}\")\n"
   ]
  },
  {
   "cell_type": "code",
   "execution_count": 319,
   "metadata": {},
   "outputs": [
    {
     "name": "stdout",
     "output_type": "stream",
     "text": [
      "tensor([0.0054, 0.5164, 0.4782], device='cuda:0')\n"
     ]
    }
   ],
   "source": [
    "beta = 0.99\n",
    "effective_num = (1 - np.power(beta, class_counts)) / (1 - beta)\n",
    "\n",
    "class_weights = 1.0 / effective_num\n",
    "\n",
    "class_weights = class_weights / np.sum(class_weights)\n",
    "\n",
    "class_weights_tensor = torch.tensor(class_weights).float().to(device)\n",
    "print(class_weights_tensor)"
   ]
  },
  {
   "cell_type": "code",
   "execution_count": 323,
   "metadata": {},
   "outputs": [
    {
     "name": "stderr",
     "output_type": "stream",
     "text": [
      "You are using `torch.load` with `weights_only=False` (the current default value), which uses the default pickle module implicitly. It is possible to construct malicious pickle data which will execute arbitrary code during unpickling (See https://github.com/pytorch/pytorch/blob/main/SECURITY.md#untrusted-models for more details). In a future release, the default value for `weights_only` will be flipped to `True`. This limits the functions that could be executed during unpickling. Arbitrary objects will no longer be allowed to be loaded via this mode unless they are explicitly allowlisted by the user via `torch.serialization.add_safe_globals`. We recommend you start setting `weights_only=True` for any use case where you don't have full control of the loaded file. Please open an issue on GitHub for any issues related to this experimental feature.\n"
     ]
    },
    {
     "data": {
      "text/plain": [
       "<All keys matched successfully>"
      ]
     },
     "execution_count": 323,
     "metadata": {},
     "output_type": "execute_result"
    }
   ],
   "source": [
    "# Step 2: Load the state dictionary\n",
    "state_dict = torch.load(\"model_weights.pth\")\n",
    "\n",
    "# Step 3: Load the weights into the model\n",
    "model.load_state_dict(state_dict)"
   ]
  },
  {
   "cell_type": "code",
   "execution_count": 336,
   "metadata": {},
   "outputs": [
    {
     "name": "stdout",
     "output_type": "stream",
     "text": [
      "Training: U-Net\n",
      "----------\n",
      "epoch 1/200\n"
     ]
    },
    {
     "name": "stderr",
     "output_type": "stream",
     "text": [
      "100%|██████████| 27/27 [00:11<00:00,  2.40it/s]\n",
      "100%|██████████| 7/7 [00:00<00:00, 23.31it/s]\n"
     ]
    },
    {
     "name": "stdout",
     "output_type": "stream",
     "text": [
      "Training mean loss: 0.6552641855345832\n",
      "Validation mean loss: 0.6667682102748326\n",
      "Training dice 0.5802717208862305\n",
      "Validation Mean Dice: 0.41957420110702515\n",
      "----------\n",
      "epoch 2/200\n"
     ]
    },
    {
     "name": "stderr",
     "output_type": "stream",
     "text": [
      "100%|██████████| 27/27 [00:11<00:00,  2.38it/s]\n",
      "100%|██████████| 7/7 [00:00<00:00, 23.38it/s]\n"
     ]
    },
    {
     "name": "stdout",
     "output_type": "stream",
     "text": [
      "Training mean loss: 0.6543259311605383\n",
      "Validation mean loss: 0.6560918603624616\n",
      "Training dice 0.5404253005981445\n",
      "Validation Mean Dice: 0.44157350063323975\n",
      "----------\n",
      "epoch 3/200\n"
     ]
    },
    {
     "name": "stderr",
     "output_type": "stream",
     "text": [
      "100%|██████████| 27/27 [00:11<00:00,  2.35it/s]\n",
      "100%|██████████| 7/7 [00:00<00:00, 22.98it/s]\n"
     ]
    },
    {
     "name": "stdout",
     "output_type": "stream",
     "text": [
      "Training mean loss: 0.6512604819403754\n",
      "Validation mean loss: 0.6341768162591117\n",
      "Training dice 0.5555133819580078\n",
      "Validation Mean Dice: 0.4554598331451416\n",
      "----------\n",
      "epoch 4/200\n"
     ]
    },
    {
     "name": "stderr",
     "output_type": "stream",
     "text": [
      "100%|██████████| 27/27 [00:11<00:00,  2.32it/s]\n",
      "100%|██████████| 7/7 [00:00<00:00, 21.36it/s]\n"
     ]
    },
    {
     "name": "stdout",
     "output_type": "stream",
     "text": [
      "Training mean loss: 0.6488149740077831\n",
      "Validation mean loss: 0.64042181628091\n",
      "Training dice 0.5825062990188599\n",
      "Validation Mean Dice: 0.4616153836250305\n",
      "----------\n",
      "epoch 5/200\n"
     ]
    },
    {
     "name": "stderr",
     "output_type": "stream",
     "text": [
      "100%|██████████| 27/27 [00:11<00:00,  2.39it/s]\n",
      "100%|██████████| 7/7 [00:00<00:00, 23.55it/s]\n"
     ]
    },
    {
     "name": "stdout",
     "output_type": "stream",
     "text": [
      "Training mean loss: 0.6499881700233177\n",
      "Validation mean loss: 0.6619339415005275\n",
      "Training dice 0.5685465335845947\n",
      "Validation Mean Dice: 0.4470454752445221\n",
      "----------\n",
      "epoch 6/200\n"
     ]
    },
    {
     "name": "stderr",
     "output_type": "stream",
     "text": [
      "100%|██████████| 27/27 [00:11<00:00,  2.39it/s]\n",
      "100%|██████████| 7/7 [00:00<00:00, 23.32it/s]\n"
     ]
    },
    {
     "name": "stdout",
     "output_type": "stream",
     "text": [
      "Training mean loss: 0.6443770064247979\n",
      "Validation mean loss: 0.6395662001201085\n",
      "Training dice 0.5839871168136597\n",
      "Validation Mean Dice: 0.4657704830169678\n",
      "----------\n",
      "epoch 7/200\n"
     ]
    },
    {
     "name": "stderr",
     "output_type": "stream",
     "text": [
      "100%|██████████| 27/27 [00:11<00:00,  2.36it/s]\n",
      "100%|██████████| 7/7 [00:00<00:00, 23.54it/s]\n"
     ]
    },
    {
     "name": "stdout",
     "output_type": "stream",
     "text": [
      "Training mean loss: 0.6477241096673189\n",
      "Validation mean loss: 0.6343477623803275\n",
      "Training dice 0.5794012546539307\n",
      "Validation Mean Dice: 0.4825984835624695\n",
      "----------\n",
      "epoch 8/200\n"
     ]
    },
    {
     "name": "stderr",
     "output_type": "stream",
     "text": [
      "100%|██████████| 27/27 [00:11<00:00,  2.38it/s]\n",
      "100%|██████████| 7/7 [00:00<00:00, 23.31it/s]\n"
     ]
    },
    {
     "name": "stdout",
     "output_type": "stream",
     "text": [
      "Training mean loss: 0.6426290560651708\n",
      "Validation mean loss: 0.6236294422830854\n",
      "Training dice 0.5782962441444397\n",
      "Validation Mean Dice: 0.49128884077072144\n",
      "----------\n",
      "epoch 9/200\n"
     ]
    },
    {
     "name": "stderr",
     "output_type": "stream",
     "text": [
      "100%|██████████| 27/27 [00:11<00:00,  2.36it/s]\n",
      "100%|██████████| 7/7 [00:00<00:00, 22.33it/s]\n"
     ]
    },
    {
     "name": "stdout",
     "output_type": "stream",
     "text": [
      "Training mean loss: 0.644663049115075\n",
      "Validation mean loss: 0.6260124530111041\n",
      "Training dice 0.5670012831687927\n",
      "Validation Mean Dice: 0.475260466337204\n",
      "----------\n",
      "epoch 10/200\n"
     ]
    },
    {
     "name": "stderr",
     "output_type": "stream",
     "text": [
      "100%|██████████| 27/27 [00:11<00:00,  2.40it/s]\n",
      "100%|██████████| 7/7 [00:00<00:00, 22.85it/s]\n"
     ]
    },
    {
     "name": "stdout",
     "output_type": "stream",
     "text": [
      "Training mean loss: 0.6327266295750936\n",
      "Validation mean loss: 0.6215103779520307\n",
      "Training dice 0.5807393193244934\n",
      "Validation Mean Dice: 0.47742506861686707\n",
      "----------\n",
      "epoch 11/200\n"
     ]
    },
    {
     "name": "stderr",
     "output_type": "stream",
     "text": [
      "100%|██████████| 27/27 [00:11<00:00,  2.30it/s]\n",
      "100%|██████████| 7/7 [00:00<00:00, 23.58it/s]\n"
     ]
    },
    {
     "name": "stdout",
     "output_type": "stream",
     "text": [
      "Training mean loss: 0.6367984414100647\n",
      "Validation mean loss: 0.6407280053411212\n",
      "Training dice 0.6498540043830872\n",
      "Validation Mean Dice: 0.4483844041824341\n",
      "----------\n",
      "epoch 12/200\n"
     ]
    },
    {
     "name": "stderr",
     "output_type": "stream",
     "text": [
      "100%|██████████| 27/27 [00:11<00:00,  2.34it/s]\n",
      "100%|██████████| 7/7 [00:00<00:00, 23.10it/s]\n"
     ]
    },
    {
     "name": "stdout",
     "output_type": "stream",
     "text": [
      "Training mean loss: 0.6368517544534471\n",
      "Validation mean loss: 0.6142411657742092\n",
      "Training dice 0.578000545501709\n",
      "Validation Mean Dice: 0.4850841760635376\n",
      "----------\n",
      "epoch 13/200\n"
     ]
    },
    {
     "name": "stderr",
     "output_type": "stream",
     "text": [
      "100%|██████████| 27/27 [00:11<00:00,  2.33it/s]\n",
      "100%|██████████| 7/7 [00:00<00:00, 22.79it/s]\n"
     ]
    },
    {
     "name": "stdout",
     "output_type": "stream",
     "text": [
      "Training mean loss: 0.6373047497537401\n",
      "Validation mean loss: 0.6321927905082703\n",
      "Training dice 0.6165788173675537\n",
      "Validation Mean Dice: 0.46714428067207336\n",
      "----------\n",
      "epoch 14/200\n"
     ]
    },
    {
     "name": "stderr",
     "output_type": "stream",
     "text": [
      "100%|██████████| 27/27 [00:11<00:00,  2.40it/s]\n",
      "100%|██████████| 7/7 [00:00<00:00, 22.17it/s]\n"
     ]
    },
    {
     "name": "stdout",
     "output_type": "stream",
     "text": [
      "Training mean loss: 0.6255065136485629\n",
      "Validation mean loss: 0.6214113746370588\n",
      "Training dice 0.5963036417961121\n",
      "Validation Mean Dice: 0.47655487060546875\n",
      "----------\n",
      "epoch 15/200\n"
     ]
    },
    {
     "name": "stderr",
     "output_type": "stream",
     "text": [
      "100%|██████████| 27/27 [00:11<00:00,  2.39it/s]\n",
      "100%|██████████| 7/7 [00:00<00:00, 23.50it/s]\n"
     ]
    },
    {
     "name": "stdout",
     "output_type": "stream",
     "text": [
      "Training mean loss: 0.6350804456958065\n",
      "Validation mean loss: 0.637258265699659\n",
      "Training dice 0.5999184846878052\n",
      "Validation Mean Dice: 0.4579639434814453\n",
      "----------\n",
      "epoch 16/200\n"
     ]
    },
    {
     "name": "stderr",
     "output_type": "stream",
     "text": [
      "100%|██████████| 27/27 [00:11<00:00,  2.39it/s]\n",
      "100%|██████████| 7/7 [00:00<00:00, 23.38it/s]\n"
     ]
    },
    {
     "name": "stdout",
     "output_type": "stream",
     "text": [
      "Training mean loss: 0.6378631967085379\n",
      "Validation mean loss: 0.6249035767146519\n",
      "Training dice 0.6303749680519104\n",
      "Validation Mean Dice: 0.4810132682323456\n",
      "----------\n",
      "epoch 17/200\n"
     ]
    },
    {
     "name": "stderr",
     "output_type": "stream",
     "text": [
      "100%|██████████| 27/27 [00:11<00:00,  2.36it/s]\n",
      "100%|██████████| 7/7 [00:00<00:00, 23.40it/s]\n"
     ]
    },
    {
     "name": "stdout",
     "output_type": "stream",
     "text": [
      "Training mean loss: 0.6369661799183598\n",
      "Validation mean loss: 0.6222753695079258\n",
      "Training dice 0.5789979100227356\n",
      "Validation Mean Dice: 0.48617589473724365\n",
      "----------\n",
      "epoch 18/200\n"
     ]
    },
    {
     "name": "stderr",
     "output_type": "stream",
     "text": [
      "100%|██████████| 27/27 [00:11<00:00,  2.36it/s]\n",
      "100%|██████████| 7/7 [00:00<00:00, 23.07it/s]\n"
     ]
    },
    {
     "name": "stdout",
     "output_type": "stream",
     "text": [
      "Training mean loss: 0.6249740344506723\n",
      "Validation mean loss: 0.6266389744622367\n",
      "Training dice 0.6252251267433167\n",
      "Validation Mean Dice: 0.4899592101573944\n",
      "----------\n",
      "epoch 19/200\n"
     ]
    },
    {
     "name": "stderr",
     "output_type": "stream",
     "text": [
      "100%|██████████| 27/27 [00:11<00:00,  2.36it/s]\n",
      "100%|██████████| 7/7 [00:00<00:00, 22.21it/s]\n"
     ]
    },
    {
     "name": "stdout",
     "output_type": "stream",
     "text": [
      "Training mean loss: 0.6316496862305535\n",
      "Validation mean loss: 0.6255734477724347\n",
      "Training dice 0.5944312810897827\n",
      "Validation Mean Dice: 0.4895445704460144\n",
      "----------\n",
      "epoch 20/200\n"
     ]
    },
    {
     "name": "stderr",
     "output_type": "stream",
     "text": [
      "100%|██████████| 27/27 [00:11<00:00,  2.36it/s]\n",
      "100%|██████████| 7/7 [00:00<00:00, 22.71it/s]\n"
     ]
    },
    {
     "name": "stdout",
     "output_type": "stream",
     "text": [
      "Training mean loss: 0.6212594089684663\n",
      "Validation mean loss: 0.6227245926856995\n",
      "Training dice 0.5832247138023376\n",
      "Validation Mean Dice: 0.5007661581039429\n",
      "----------\n",
      "epoch 21/200\n"
     ]
    },
    {
     "name": "stderr",
     "output_type": "stream",
     "text": [
      "100%|██████████| 27/27 [00:11<00:00,  2.37it/s]\n",
      "100%|██████████| 7/7 [00:00<00:00, 23.24it/s]\n"
     ]
    },
    {
     "name": "stdout",
     "output_type": "stream",
     "text": [
      "Training mean loss: 0.6334098290514063\n",
      "Validation mean loss: 0.6410159298351833\n",
      "Training dice 0.609619140625\n",
      "Validation Mean Dice: 0.46880972385406494\n",
      "----------\n",
      "epoch 22/200\n"
     ]
    },
    {
     "name": "stderr",
     "output_type": "stream",
     "text": [
      "100%|██████████| 27/27 [00:11<00:00,  2.35it/s]\n",
      "100%|██████████| 7/7 [00:00<00:00, 23.45it/s]\n"
     ]
    },
    {
     "name": "stdout",
     "output_type": "stream",
     "text": [
      "Training mean loss: 0.6121583007000111\n",
      "Validation mean loss: 0.6273668323244367\n",
      "Training dice 0.5994025468826294\n",
      "Validation Mean Dice: 0.5003316402435303\n",
      "----------\n",
      "epoch 23/200\n"
     ]
    },
    {
     "name": "stderr",
     "output_type": "stream",
     "text": [
      "100%|██████████| 27/27 [00:11<00:00,  2.35it/s]\n",
      "100%|██████████| 7/7 [00:00<00:00, 23.19it/s]\n"
     ]
    },
    {
     "name": "stdout",
     "output_type": "stream",
     "text": [
      "Training mean loss: 0.6140230761633979\n",
      "Validation mean loss: 0.6212787202426365\n",
      "Training dice 0.6332517862319946\n",
      "Validation Mean Dice: 0.504983127117157\n",
      "----------\n",
      "epoch 24/200\n"
     ]
    },
    {
     "name": "stderr",
     "output_type": "stream",
     "text": [
      "100%|██████████| 27/27 [00:11<00:00,  2.37it/s]\n",
      "100%|██████████| 7/7 [00:00<00:00, 22.20it/s]\n"
     ]
    },
    {
     "name": "stdout",
     "output_type": "stream",
     "text": [
      "Training mean loss: 0.6230982387507403\n",
      "Validation mean loss: 0.5997858898980277\n",
      "Training dice 0.5934427380561829\n",
      "Validation Mean Dice: 0.5528827905654907\n",
      "----------\n",
      "epoch 25/200\n"
     ]
    },
    {
     "name": "stderr",
     "output_type": "stream",
     "text": [
      "100%|██████████| 27/27 [00:11<00:00,  2.40it/s]\n",
      "100%|██████████| 7/7 [00:00<00:00, 22.69it/s]\n"
     ]
    },
    {
     "name": "stdout",
     "output_type": "stream",
     "text": [
      "Training mean loss: 0.6131472653812833\n",
      "Validation mean loss: 0.5917826294898987\n",
      "Training dice 0.6231845021247864\n",
      "Validation Mean Dice: 0.5403693318367004\n",
      "----------\n",
      "epoch 26/200\n"
     ]
    },
    {
     "name": "stderr",
     "output_type": "stream",
     "text": [
      "100%|██████████| 27/27 [00:11<00:00,  2.35it/s]\n",
      "100%|██████████| 7/7 [00:00<00:00, 23.07it/s]\n"
     ]
    },
    {
     "name": "stdout",
     "output_type": "stream",
     "text": [
      "Training mean loss: 0.6140884889496697\n",
      "Validation mean loss: 0.5901662196431842\n",
      "Training dice 0.6260249614715576\n",
      "Validation Mean Dice: 0.5584099292755127\n",
      "----------\n",
      "epoch 27/200\n"
     ]
    },
    {
     "name": "stderr",
     "output_type": "stream",
     "text": [
      "100%|██████████| 27/27 [00:11<00:00,  2.33it/s]\n",
      "100%|██████████| 7/7 [00:00<00:00, 23.20it/s]\n"
     ]
    },
    {
     "name": "stdout",
     "output_type": "stream",
     "text": [
      "Training mean loss: 0.600336456740344\n",
      "Validation mean loss: 0.5770478802067893\n",
      "Training dice 0.622812032699585\n",
      "Validation Mean Dice: 0.5567989349365234\n",
      "----------\n",
      "epoch 28/200\n"
     ]
    },
    {
     "name": "stderr",
     "output_type": "stream",
     "text": [
      "100%|██████████| 27/27 [00:11<00:00,  2.37it/s]\n",
      "100%|██████████| 7/7 [00:00<00:00, 22.34it/s]\n"
     ]
    },
    {
     "name": "stdout",
     "output_type": "stream",
     "text": [
      "Training mean loss: 0.5889603109271438\n",
      "Validation mean loss: 0.6002573796680996\n",
      "Training dice 0.6163556575775146\n",
      "Validation Mean Dice: 0.5505987405776978\n",
      "----------\n",
      "epoch 29/200\n"
     ]
    },
    {
     "name": "stderr",
     "output_type": "stream",
     "text": [
      "100%|██████████| 27/27 [00:11<00:00,  2.37it/s]\n",
      "100%|██████████| 7/7 [00:00<00:00, 22.19it/s]\n"
     ]
    },
    {
     "name": "stdout",
     "output_type": "stream",
     "text": [
      "Training mean loss: 0.6025319673396923\n",
      "Validation mean loss: 0.5876425547259194\n",
      "Training dice 0.6583932638168335\n",
      "Validation Mean Dice: 0.5341206192970276\n",
      "----------\n",
      "epoch 30/200\n"
     ]
    },
    {
     "name": "stderr",
     "output_type": "stream",
     "text": [
      "100%|██████████| 27/27 [00:11<00:00,  2.34it/s]\n",
      "100%|██████████| 7/7 [00:00<00:00, 22.21it/s]\n"
     ]
    },
    {
     "name": "stdout",
     "output_type": "stream",
     "text": [
      "Training mean loss: 0.5959649549590217\n",
      "Validation mean loss: 0.5618257863180978\n",
      "Training dice 0.6477174162864685\n",
      "Validation Mean Dice: 0.5894355177879333\n",
      "----------\n",
      "epoch 31/200\n"
     ]
    },
    {
     "name": "stderr",
     "output_type": "stream",
     "text": [
      "100%|██████████| 27/27 [00:11<00:00,  2.38it/s]\n",
      "100%|██████████| 7/7 [00:00<00:00, 23.20it/s]\n"
     ]
    },
    {
     "name": "stdout",
     "output_type": "stream",
     "text": [
      "Training mean loss: 0.595994563014419\n",
      "Validation mean loss: 0.5866916605404445\n",
      "Training dice 0.6492290496826172\n",
      "Validation Mean Dice: 0.563361644744873\n",
      "----------\n",
      "epoch 32/200\n"
     ]
    },
    {
     "name": "stderr",
     "output_type": "stream",
     "text": [
      "100%|██████████| 27/27 [00:11<00:00,  2.35it/s]\n",
      "100%|██████████| 7/7 [00:00<00:00, 23.90it/s]\n"
     ]
    },
    {
     "name": "stdout",
     "output_type": "stream",
     "text": [
      "Training mean loss: 0.5798848988833251\n",
      "Validation mean loss: 0.52702796459198\n",
      "Training dice 0.6514710187911987\n",
      "Validation Mean Dice: 0.6093305349349976\n",
      "----------\n",
      "epoch 33/200\n"
     ]
    },
    {
     "name": "stderr",
     "output_type": "stream",
     "text": [
      "100%|██████████| 27/27 [00:11<00:00,  2.40it/s]\n",
      "100%|██████████| 7/7 [00:00<00:00, 23.58it/s]\n"
     ]
    },
    {
     "name": "stdout",
     "output_type": "stream",
     "text": [
      "Training mean loss: 0.5874984242297985\n",
      "Validation mean loss: 0.5498560070991516\n",
      "Training dice 0.6672083735466003\n",
      "Validation Mean Dice: 0.5847256183624268\n",
      "----------\n",
      "epoch 34/200\n"
     ]
    },
    {
     "name": "stderr",
     "output_type": "stream",
     "text": [
      "100%|██████████| 27/27 [00:11<00:00,  2.39it/s]\n",
      "100%|██████████| 7/7 [00:00<00:00, 22.81it/s]\n"
     ]
    },
    {
     "name": "stdout",
     "output_type": "stream",
     "text": [
      "Training mean loss: 0.5815819490838934\n",
      "Validation mean loss: 0.5892935906137738\n",
      "Training dice 0.6316700577735901\n",
      "Validation Mean Dice: 0.5670261979103088\n",
      "----------\n",
      "epoch 35/200\n"
     ]
    },
    {
     "name": "stderr",
     "output_type": "stream",
     "text": [
      "100%|██████████| 27/27 [00:11<00:00,  2.38it/s]\n",
      "100%|██████████| 7/7 [00:00<00:00, 23.70it/s]\n"
     ]
    },
    {
     "name": "stdout",
     "output_type": "stream",
     "text": [
      "Training mean loss: 0.6024103021180188\n",
      "Validation mean loss: 0.5452077729361398\n",
      "Training dice 0.6589503884315491\n",
      "Validation Mean Dice: 0.5990418195724487\n",
      "----------\n",
      "epoch 36/200\n"
     ]
    },
    {
     "name": "stderr",
     "output_type": "stream",
     "text": [
      "100%|██████████| 27/27 [00:11<00:00,  2.37it/s]\n",
      "100%|██████████| 7/7 [00:00<00:00, 23.15it/s]\n"
     ]
    },
    {
     "name": "stdout",
     "output_type": "stream",
     "text": [
      "Training mean loss: 0.5900479179841501\n",
      "Validation mean loss: 0.5377027818134853\n",
      "Training dice 0.700151264667511\n",
      "Validation Mean Dice: 0.6020991802215576\n",
      "----------\n",
      "epoch 37/200\n"
     ]
    },
    {
     "name": "stderr",
     "output_type": "stream",
     "text": [
      "100%|██████████| 27/27 [00:11<00:00,  2.38it/s]\n",
      "100%|██████████| 7/7 [00:00<00:00, 23.58it/s]\n"
     ]
    },
    {
     "name": "stdout",
     "output_type": "stream",
     "text": [
      "Training mean loss: 0.5794103498812075\n",
      "Validation mean loss: 0.5415958123547691\n",
      "Training dice 0.6682842373847961\n",
      "Validation Mean Dice: 0.595536470413208\n",
      "----------\n",
      "epoch 38/200\n"
     ]
    },
    {
     "name": "stderr",
     "output_type": "stream",
     "text": [
      "100%|██████████| 27/27 [00:11<00:00,  2.40it/s]\n",
      "100%|██████████| 7/7 [00:00<00:00, 23.81it/s]\n"
     ]
    },
    {
     "name": "stdout",
     "output_type": "stream",
     "text": [
      "Training mean loss: 0.5955046536745848\n",
      "Validation mean loss: 0.5463530761854989\n",
      "Training dice 0.6485751867294312\n",
      "Validation Mean Dice: 0.6084816455841064\n",
      "----------\n",
      "epoch 39/200\n"
     ]
    },
    {
     "name": "stderr",
     "output_type": "stream",
     "text": [
      "100%|██████████| 27/27 [00:11<00:00,  2.39it/s]\n",
      "100%|██████████| 7/7 [00:00<00:00, 22.58it/s]\n"
     ]
    },
    {
     "name": "stdout",
     "output_type": "stream",
     "text": [
      "Training mean loss: 0.5773583198035205\n",
      "Validation mean loss: 0.5439398884773254\n",
      "Training dice 0.6759105324745178\n",
      "Validation Mean Dice: 0.5901785492897034\n",
      "----------\n",
      "epoch 40/200\n"
     ]
    },
    {
     "name": "stderr",
     "output_type": "stream",
     "text": [
      "100%|██████████| 27/27 [00:11<00:00,  2.38it/s]\n",
      "100%|██████████| 7/7 [00:00<00:00, 22.88it/s]\n"
     ]
    },
    {
     "name": "stdout",
     "output_type": "stream",
     "text": [
      "Training mean loss: 0.5624299292211179\n",
      "Validation mean loss: 0.5234040745667049\n",
      "Training dice 0.6852149367332458\n",
      "Validation Mean Dice: 0.6200075745582581\n",
      "----------\n",
      "epoch 41/200\n"
     ]
    },
    {
     "name": "stderr",
     "output_type": "stream",
     "text": [
      "100%|██████████| 27/27 [00:11<00:00,  2.35it/s]\n",
      "100%|██████████| 7/7 [00:00<00:00, 23.74it/s]\n"
     ]
    },
    {
     "name": "stdout",
     "output_type": "stream",
     "text": [
      "Training mean loss: 0.57375000472422\n",
      "Validation mean loss: 0.5542800171034676\n",
      "Training dice 0.6726184487342834\n",
      "Validation Mean Dice: 0.5936114192008972\n",
      "----------\n",
      "epoch 42/200\n"
     ]
    },
    {
     "name": "stderr",
     "output_type": "stream",
     "text": [
      "100%|██████████| 27/27 [00:11<00:00,  2.37it/s]\n",
      "100%|██████████| 7/7 [00:00<00:00, 23.74it/s]\n"
     ]
    },
    {
     "name": "stdout",
     "output_type": "stream",
     "text": [
      "Training mean loss: 0.5771574631885246\n",
      "Validation mean loss: 0.5739213824272156\n",
      "Training dice 0.7049309611320496\n",
      "Validation Mean Dice: 0.5822560787200928\n",
      "----------\n",
      "epoch 43/200\n"
     ]
    },
    {
     "name": "stderr",
     "output_type": "stream",
     "text": [
      "100%|██████████| 27/27 [00:11<00:00,  2.36it/s]\n",
      "100%|██████████| 7/7 [00:00<00:00, 23.41it/s]\n"
     ]
    },
    {
     "name": "stdout",
     "output_type": "stream",
     "text": [
      "Training mean loss: 0.590812008689951\n",
      "Validation mean loss: 0.5640394347054618\n",
      "Training dice 0.6962032318115234\n",
      "Validation Mean Dice: 0.5832506418228149\n",
      "----------\n",
      "epoch 44/200\n"
     ]
    },
    {
     "name": "stderr",
     "output_type": "stream",
     "text": [
      "100%|██████████| 27/27 [00:11<00:00,  2.38it/s]\n",
      "100%|██████████| 7/7 [00:00<00:00, 22.83it/s]\n"
     ]
    },
    {
     "name": "stdout",
     "output_type": "stream",
     "text": [
      "Training mean loss: 0.5718349085913764\n",
      "Validation mean loss: 0.5474548850740705\n",
      "Training dice 0.6678947806358337\n",
      "Validation Mean Dice: 0.5795304179191589\n",
      "----------\n",
      "epoch 45/200\n"
     ]
    },
    {
     "name": "stderr",
     "output_type": "stream",
     "text": [
      "100%|██████████| 27/27 [00:11<00:00,  2.42it/s]\n",
      "100%|██████████| 7/7 [00:00<00:00, 23.65it/s]\n"
     ]
    },
    {
     "name": "stdout",
     "output_type": "stream",
     "text": [
      "Training mean loss: 0.5637962144834024\n",
      "Validation mean loss: 0.558422429221017\n",
      "Training dice 0.6459794044494629\n",
      "Validation Mean Dice: 0.5906752943992615\n",
      "----------\n",
      "epoch 46/200\n"
     ]
    },
    {
     "name": "stderr",
     "output_type": "stream",
     "text": [
      "100%|██████████| 27/27 [00:11<00:00,  2.38it/s]\n",
      "100%|██████████| 7/7 [00:00<00:00, 23.96it/s]\n"
     ]
    },
    {
     "name": "stdout",
     "output_type": "stream",
     "text": [
      "Training mean loss: 0.5718573398060269\n",
      "Validation mean loss: 0.5282903569085258\n",
      "Training dice 0.6653376817703247\n",
      "Validation Mean Dice: 0.6185351014137268\n",
      "----------\n",
      "epoch 47/200\n"
     ]
    },
    {
     "name": "stderr",
     "output_type": "stream",
     "text": [
      "100%|██████████| 27/27 [00:11<00:00,  2.36it/s]\n",
      "100%|██████████| 7/7 [00:00<00:00, 23.56it/s]\n"
     ]
    },
    {
     "name": "stdout",
     "output_type": "stream",
     "text": [
      "Training mean loss: 0.567040870587031\n",
      "Validation mean loss: 0.541660589831216\n",
      "Training dice 0.6925932168960571\n",
      "Validation Mean Dice: 0.5949035882949829\n",
      "----------\n",
      "epoch 48/200\n"
     ]
    },
    {
     "name": "stderr",
     "output_type": "stream",
     "text": [
      "100%|██████████| 27/27 [00:11<00:00,  2.38it/s]\n",
      "100%|██████████| 7/7 [00:00<00:00, 22.72it/s]\n"
     ]
    },
    {
     "name": "stdout",
     "output_type": "stream",
     "text": [
      "Training mean loss: 0.5781933058191229\n",
      "Validation mean loss: 0.5092590536390033\n",
      "Training dice 0.6643925309181213\n",
      "Validation Mean Dice: 0.6387509703636169\n",
      "----------\n",
      "epoch 49/200\n"
     ]
    },
    {
     "name": "stderr",
     "output_type": "stream",
     "text": [
      "100%|██████████| 27/27 [00:11<00:00,  2.45it/s]\n",
      "100%|██████████| 7/7 [00:00<00:00, 22.68it/s]\n"
     ]
    },
    {
     "name": "stdout",
     "output_type": "stream",
     "text": [
      "Training mean loss: 0.5879603149714293\n",
      "Validation mean loss: 0.4924848803452083\n",
      "Training dice 0.6756519675254822\n",
      "Validation Mean Dice: 0.6504075527191162\n",
      "----------\n",
      "epoch 50/200\n"
     ]
    },
    {
     "name": "stderr",
     "output_type": "stream",
     "text": [
      "100%|██████████| 27/27 [00:11<00:00,  2.43it/s]\n",
      "100%|██████████| 7/7 [00:00<00:00, 24.07it/s]\n"
     ]
    },
    {
     "name": "stdout",
     "output_type": "stream",
     "text": [
      "Training mean loss: 0.556975574405105\n",
      "Validation mean loss: 0.4895046523639134\n",
      "Training dice 0.6870255470275879\n",
      "Validation Mean Dice: 0.6538461446762085\n",
      "----------\n",
      "epoch 51/200\n"
     ]
    },
    {
     "name": "stderr",
     "output_type": "stream",
     "text": [
      "100%|██████████| 27/27 [00:11<00:00,  2.40it/s]\n",
      "100%|██████████| 7/7 [00:00<00:00, 23.64it/s]\n"
     ]
    },
    {
     "name": "stdout",
     "output_type": "stream",
     "text": [
      "Training mean loss: 0.5648555358250936\n",
      "Validation mean loss: 0.5037926988942283\n",
      "Training dice 0.6911182403564453\n",
      "Validation Mean Dice: 0.6344683170318604\n",
      "----------\n",
      "epoch 52/200\n"
     ]
    },
    {
     "name": "stderr",
     "output_type": "stream",
     "text": [
      "100%|██████████| 27/27 [00:11<00:00,  2.41it/s]\n",
      "100%|██████████| 7/7 [00:00<00:00, 23.53it/s]\n"
     ]
    },
    {
     "name": "stdout",
     "output_type": "stream",
     "text": [
      "Training mean loss: 0.5594095598768305\n",
      "Validation mean loss: 0.5175031764166695\n",
      "Training dice 0.7004128694534302\n",
      "Validation Mean Dice: 0.6244062185287476\n",
      "----------\n",
      "epoch 53/200\n"
     ]
    },
    {
     "name": "stderr",
     "output_type": "stream",
     "text": [
      "100%|██████████| 27/27 [00:11<00:00,  2.42it/s]\n",
      "100%|██████████| 7/7 [00:00<00:00, 23.38it/s]\n"
     ]
    },
    {
     "name": "stdout",
     "output_type": "stream",
     "text": [
      "Training mean loss: 0.5654726613450933\n",
      "Validation mean loss: 0.5393420159816742\n",
      "Training dice 0.6965430974960327\n",
      "Validation Mean Dice: 0.6049714684486389\n",
      "----------\n",
      "epoch 54/200\n"
     ]
    },
    {
     "name": "stderr",
     "output_type": "stream",
     "text": [
      "100%|██████████| 27/27 [00:11<00:00,  2.35it/s]\n",
      "100%|██████████| 7/7 [00:00<00:00, 22.93it/s]\n"
     ]
    },
    {
     "name": "stdout",
     "output_type": "stream",
     "text": [
      "Training mean loss: 0.5489347367374985\n",
      "Validation mean loss: 0.5086394335542407\n",
      "Training dice 0.6957981586456299\n",
      "Validation Mean Dice: 0.6405842304229736\n",
      "----------\n",
      "epoch 55/200\n"
     ]
    },
    {
     "name": "stderr",
     "output_type": "stream",
     "text": [
      "100%|██████████| 27/27 [00:11<00:00,  2.39it/s]\n",
      "100%|██████████| 7/7 [00:00<00:00, 23.65it/s]\n"
     ]
    },
    {
     "name": "stdout",
     "output_type": "stream",
     "text": [
      "Training mean loss: 0.5538372695446014\n",
      "Validation mean loss: 0.5116818078926632\n",
      "Training dice 0.6651385426521301\n",
      "Validation Mean Dice: 0.6391593217849731\n",
      "----------\n",
      "epoch 56/200\n"
     ]
    },
    {
     "name": "stderr",
     "output_type": "stream",
     "text": [
      "100%|██████████| 27/27 [00:11<00:00,  2.33it/s]\n",
      "100%|██████████| 7/7 [00:00<00:00, 23.44it/s]\n"
     ]
    },
    {
     "name": "stdout",
     "output_type": "stream",
     "text": [
      "Training mean loss: 0.5831670959790548\n",
      "Validation mean loss: 0.5312544618334089\n",
      "Training dice 0.6595938801765442\n",
      "Validation Mean Dice: 0.6178662180900574\n",
      "----------\n",
      "epoch 57/200\n"
     ]
    },
    {
     "name": "stderr",
     "output_type": "stream",
     "text": [
      "100%|██████████| 27/27 [00:11<00:00,  2.39it/s]\n",
      "100%|██████████| 7/7 [00:00<00:00, 23.45it/s]\n"
     ]
    },
    {
     "name": "stdout",
     "output_type": "stream",
     "text": [
      "Training mean loss: 0.578270994954639\n",
      "Validation mean loss: 0.48874356491225107\n",
      "Training dice 0.6691612601280212\n",
      "Validation Mean Dice: 0.6491329073905945\n",
      "----------\n",
      "epoch 58/200\n"
     ]
    },
    {
     "name": "stderr",
     "output_type": "stream",
     "text": [
      "100%|██████████| 27/27 [00:11<00:00,  2.38it/s]\n",
      "100%|██████████| 7/7 [00:00<00:00, 23.55it/s]\n"
     ]
    },
    {
     "name": "stdout",
     "output_type": "stream",
     "text": [
      "Training mean loss: 0.5441119141048856\n",
      "Validation mean loss: 0.5364756115845272\n",
      "Training dice 0.7071746587753296\n",
      "Validation Mean Dice: 0.6055343151092529\n",
      "----------\n",
      "epoch 59/200\n"
     ]
    },
    {
     "name": "stderr",
     "output_type": "stream",
     "text": [
      "100%|██████████| 27/27 [00:11<00:00,  2.40it/s]\n",
      "100%|██████████| 7/7 [00:00<00:00, 23.01it/s]\n"
     ]
    },
    {
     "name": "stdout",
     "output_type": "stream",
     "text": [
      "Training mean loss: 0.564509720714004\n",
      "Validation mean loss: 0.49150839873722624\n",
      "Training dice 0.6598860025405884\n",
      "Validation Mean Dice: 0.646079957485199\n",
      "----------\n",
      "epoch 60/200\n"
     ]
    },
    {
     "name": "stderr",
     "output_type": "stream",
     "text": [
      "100%|██████████| 27/27 [00:11<00:00,  2.44it/s]\n",
      "100%|██████████| 7/7 [00:00<00:00, 23.11it/s]\n"
     ]
    },
    {
     "name": "stdout",
     "output_type": "stream",
     "text": [
      "Training mean loss: 0.56888633635309\n",
      "Validation mean loss: 0.5058833232947758\n",
      "Training dice 0.6881667375564575\n",
      "Validation Mean Dice: 0.6379817724227905\n",
      "----------\n",
      "epoch 61/200\n"
     ]
    },
    {
     "name": "stderr",
     "output_type": "stream",
     "text": [
      "100%|██████████| 27/27 [00:11<00:00,  2.41it/s]\n",
      "100%|██████████| 7/7 [00:00<00:00, 22.98it/s]\n"
     ]
    },
    {
     "name": "stdout",
     "output_type": "stream",
     "text": [
      "Training mean loss: 0.5535604644704748\n",
      "Validation mean loss: 0.5075017469269889\n",
      "Training dice 0.6744057536125183\n",
      "Validation Mean Dice: 0.6336244940757751\n",
      "----------\n",
      "epoch 62/200\n"
     ]
    },
    {
     "name": "stderr",
     "output_type": "stream",
     "text": [
      "100%|██████████| 27/27 [00:11<00:00,  2.40it/s]\n",
      "100%|██████████| 7/7 [00:00<00:00, 23.76it/s]\n"
     ]
    },
    {
     "name": "stdout",
     "output_type": "stream",
     "text": [
      "Training mean loss: 0.5499292556886319\n",
      "Validation mean loss: 0.5160130602972848\n",
      "Training dice 0.6917634010314941\n",
      "Validation Mean Dice: 0.6288689374923706\n",
      "----------\n",
      "epoch 63/200\n"
     ]
    },
    {
     "name": "stderr",
     "output_type": "stream",
     "text": [
      "100%|██████████| 27/27 [00:11<00:00,  2.36it/s]\n",
      "100%|██████████| 7/7 [00:00<00:00, 23.52it/s]\n"
     ]
    },
    {
     "name": "stdout",
     "output_type": "stream",
     "text": [
      "Training mean loss: 0.560710429041474\n",
      "Validation mean loss: 0.4914718781198774\n",
      "Training dice 0.6940566301345825\n",
      "Validation Mean Dice: 0.6539089679718018\n",
      "----------\n",
      "epoch 64/200\n"
     ]
    },
    {
     "name": "stderr",
     "output_type": "stream",
     "text": [
      "100%|██████████| 27/27 [00:11<00:00,  2.39it/s]\n",
      "100%|██████████| 7/7 [00:00<00:00, 22.77it/s]\n"
     ]
    },
    {
     "name": "stdout",
     "output_type": "stream",
     "text": [
      "Training mean loss: 0.5604579404548362\n",
      "Validation mean loss: 0.4915835091045925\n",
      "Training dice 0.6991218328475952\n",
      "Validation Mean Dice: 0.6460503935813904\n",
      "----------\n",
      "epoch 65/200\n"
     ]
    },
    {
     "name": "stderr",
     "output_type": "stream",
     "text": [
      "100%|██████████| 27/27 [00:11<00:00,  2.37it/s]\n",
      "100%|██████████| 7/7 [00:00<00:00, 23.38it/s]\n"
     ]
    },
    {
     "name": "stdout",
     "output_type": "stream",
     "text": [
      "Training mean loss: 0.5649963661476418\n",
      "Validation mean loss: 0.4927883744239807\n",
      "Training dice 0.7046414613723755\n",
      "Validation Mean Dice: 0.642620325088501\n",
      "----------\n",
      "epoch 66/200\n"
     ]
    },
    {
     "name": "stderr",
     "output_type": "stream",
     "text": [
      "100%|██████████| 27/27 [00:11<00:00,  2.43it/s]\n",
      "100%|██████████| 7/7 [00:00<00:00, 23.15it/s]\n"
     ]
    },
    {
     "name": "stdout",
     "output_type": "stream",
     "text": [
      "Training mean loss: 0.5594133657437784\n",
      "Validation mean loss: 0.47737921135766165\n",
      "Training dice 0.6885610222816467\n",
      "Validation Mean Dice: 0.6588261127471924\n",
      "----------\n",
      "epoch 67/200\n"
     ]
    },
    {
     "name": "stderr",
     "output_type": "stream",
     "text": [
      "100%|██████████| 27/27 [00:11<00:00,  2.35it/s]\n",
      "100%|██████████| 7/7 [00:00<00:00, 23.44it/s]\n"
     ]
    },
    {
     "name": "stdout",
     "output_type": "stream",
     "text": [
      "Training mean loss: 0.5467555931320897\n",
      "Validation mean loss: 0.5258683221680778\n",
      "Training dice 0.6915790438652039\n",
      "Validation Mean Dice: 0.6161783337593079\n",
      "----------\n",
      "epoch 68/200\n"
     ]
    },
    {
     "name": "stderr",
     "output_type": "stream",
     "text": [
      "100%|██████████| 27/27 [00:11<00:00,  2.37it/s]\n",
      "100%|██████████| 7/7 [00:00<00:00, 23.27it/s]\n"
     ]
    },
    {
     "name": "stdout",
     "output_type": "stream",
     "text": [
      "Training mean loss: 0.5388316302387802\n",
      "Validation mean loss: 0.5026939596448626\n",
      "Training dice 0.6886128187179565\n",
      "Validation Mean Dice: 0.62993323802948\n",
      "----------\n",
      "epoch 69/200\n"
     ]
    },
    {
     "name": "stderr",
     "output_type": "stream",
     "text": [
      "100%|██████████| 27/27 [00:11<00:00,  2.30it/s]\n",
      "100%|██████████| 7/7 [00:00<00:00, 21.90it/s]\n"
     ]
    },
    {
     "name": "stdout",
     "output_type": "stream",
     "text": [
      "Training mean loss: 0.5214926468001472\n",
      "Validation mean loss: 0.4829861947468349\n",
      "Training dice 0.7261622548103333\n",
      "Validation Mean Dice: 0.6571332812309265\n",
      "----------\n",
      "epoch 70/200\n"
     ]
    },
    {
     "name": "stderr",
     "output_type": "stream",
     "text": [
      "100%|██████████| 27/27 [00:11<00:00,  2.35it/s]\n",
      "100%|██████████| 7/7 [00:00<00:00, 22.76it/s]\n"
     ]
    },
    {
     "name": "stdout",
     "output_type": "stream",
     "text": [
      "Training mean loss: 0.5321844209123541\n",
      "Validation mean loss: 0.5106716794627053\n",
      "Training dice 0.6817294359207153\n",
      "Validation Mean Dice: 0.6364243030548096\n",
      "----------\n",
      "epoch 71/200\n"
     ]
    },
    {
     "name": "stderr",
     "output_type": "stream",
     "text": [
      "100%|██████████| 27/27 [00:11<00:00,  2.37it/s]\n",
      "100%|██████████| 7/7 [00:00<00:00, 23.12it/s]\n"
     ]
    },
    {
     "name": "stdout",
     "output_type": "stream",
     "text": [
      "Training mean loss: 0.5512070412989016\n",
      "Validation mean loss: 0.48456415959766935\n",
      "Training dice 0.6926594972610474\n",
      "Validation Mean Dice: 0.6584173440933228\n",
      "----------\n",
      "epoch 72/200\n"
     ]
    },
    {
     "name": "stderr",
     "output_type": "stream",
     "text": [
      "100%|██████████| 27/27 [00:11<00:00,  2.37it/s]\n",
      "100%|██████████| 7/7 [00:00<00:00, 22.40it/s]\n"
     ]
    },
    {
     "name": "stdout",
     "output_type": "stream",
     "text": [
      "Training mean loss: 0.5603731252529003\n",
      "Validation mean loss: 0.5085887440613338\n",
      "Training dice 0.7257624268531799\n",
      "Validation Mean Dice: 0.6278162598609924\n",
      "----------\n",
      "epoch 73/200\n"
     ]
    },
    {
     "name": "stderr",
     "output_type": "stream",
     "text": [
      "100%|██████████| 27/27 [00:11<00:00,  2.40it/s]\n",
      "100%|██████████| 7/7 [00:00<00:00, 22.24it/s]\n"
     ]
    },
    {
     "name": "stdout",
     "output_type": "stream",
     "text": [
      "Training mean loss: 0.5290262544596637\n",
      "Validation mean loss: 0.4877471455505916\n",
      "Training dice 0.7057832479476929\n",
      "Validation Mean Dice: 0.6509271264076233\n",
      "----------\n",
      "epoch 74/200\n"
     ]
    },
    {
     "name": "stderr",
     "output_type": "stream",
     "text": [
      "100%|██████████| 27/27 [00:11<00:00,  2.34it/s]\n",
      "100%|██████████| 7/7 [00:00<00:00, 21.48it/s]\n"
     ]
    },
    {
     "name": "stdout",
     "output_type": "stream",
     "text": [
      "Training mean loss: 0.5266313243795324\n",
      "Validation mean loss: 0.49620660287993296\n",
      "Training dice 0.7084438800811768\n",
      "Validation Mean Dice: 0.6419979929924011\n",
      "----------\n",
      "epoch 75/200\n"
     ]
    },
    {
     "name": "stderr",
     "output_type": "stream",
     "text": [
      "100%|██████████| 27/27 [00:11<00:00,  2.36it/s]\n",
      "100%|██████████| 7/7 [00:00<00:00, 22.30it/s]\n"
     ]
    },
    {
     "name": "stdout",
     "output_type": "stream",
     "text": [
      "Training mean loss: 0.5418341568222752\n",
      "Validation mean loss: 0.4824598218713488\n",
      "Training dice 0.7006062865257263\n",
      "Validation Mean Dice: 0.6529135704040527\n",
      "----------\n",
      "epoch 76/200\n"
     ]
    },
    {
     "name": "stderr",
     "output_type": "stream",
     "text": [
      "100%|██████████| 27/27 [00:11<00:00,  2.36it/s]\n",
      "100%|██████████| 7/7 [00:00<00:00, 23.28it/s]\n"
     ]
    },
    {
     "name": "stdout",
     "output_type": "stream",
     "text": [
      "Training mean loss: 0.5644624078715289\n",
      "Validation mean loss: 0.5160878939288003\n",
      "Training dice 0.7044773697853088\n",
      "Validation Mean Dice: 0.6269370317459106\n",
      "----------\n",
      "epoch 77/200\n"
     ]
    },
    {
     "name": "stderr",
     "output_type": "stream",
     "text": [
      "100%|██████████| 27/27 [00:11<00:00,  2.40it/s]\n",
      "100%|██████████| 7/7 [00:00<00:00, 22.28it/s]\n"
     ]
    },
    {
     "name": "stdout",
     "output_type": "stream",
     "text": [
      "Training mean loss: 0.5285564340926983\n",
      "Validation mean loss: 0.4914604553154537\n",
      "Training dice 0.6813018918037415\n",
      "Validation Mean Dice: 0.6519535779953003\n",
      "----------\n",
      "epoch 78/200\n"
     ]
    },
    {
     "name": "stderr",
     "output_type": "stream",
     "text": [
      "100%|██████████| 27/27 [00:11<00:00,  2.36it/s]\n",
      "100%|██████████| 7/7 [00:00<00:00, 22.67it/s]\n"
     ]
    },
    {
     "name": "stdout",
     "output_type": "stream",
     "text": [
      "Training mean loss: 0.5279767292517202\n",
      "Validation mean loss: 0.4999952273709433\n",
      "Training dice 0.6897281408309937\n",
      "Validation Mean Dice: 0.6455620527267456\n",
      "----------\n",
      "epoch 79/200\n"
     ]
    },
    {
     "name": "stderr",
     "output_type": "stream",
     "text": [
      "100%|██████████| 27/27 [00:11<00:00,  2.39it/s]\n",
      "100%|██████████| 7/7 [00:00<00:00, 22.11it/s]\n"
     ]
    },
    {
     "name": "stdout",
     "output_type": "stream",
     "text": [
      "Training mean loss: 0.54489576154285\n",
      "Validation mean loss: 0.4754269633974348\n",
      "Training dice 0.7073971033096313\n",
      "Validation Mean Dice: 0.662209153175354\n",
      "----------\n",
      "epoch 80/200\n"
     ]
    },
    {
     "name": "stderr",
     "output_type": "stream",
     "text": [
      "100%|██████████| 27/27 [00:11<00:00,  2.39it/s]\n",
      "100%|██████████| 7/7 [00:00<00:00, 22.83it/s]\n"
     ]
    },
    {
     "name": "stdout",
     "output_type": "stream",
     "text": [
      "Training mean loss: 0.5542663655899189\n",
      "Validation mean loss: 0.48122973101479666\n",
      "Training dice 0.6917731761932373\n",
      "Validation Mean Dice: 0.6601017713546753\n",
      "----------\n",
      "epoch 81/200\n"
     ]
    },
    {
     "name": "stderr",
     "output_type": "stream",
     "text": [
      "100%|██████████| 27/27 [00:11<00:00,  2.39it/s]\n",
      "100%|██████████| 7/7 [00:00<00:00, 23.42it/s]\n"
     ]
    },
    {
     "name": "stdout",
     "output_type": "stream",
     "text": [
      "Training mean loss: 0.5523742106225755\n",
      "Validation mean loss: 0.45508659737450735\n",
      "Training dice 0.6854060292243958\n",
      "Validation Mean Dice: 0.6854231357574463\n",
      "----------\n",
      "epoch 82/200\n"
     ]
    },
    {
     "name": "stderr",
     "output_type": "stream",
     "text": [
      "100%|██████████| 27/27 [00:11<00:00,  2.38it/s]\n",
      "100%|██████████| 7/7 [00:00<00:00, 23.49it/s]\n"
     ]
    },
    {
     "name": "stdout",
     "output_type": "stream",
     "text": [
      "Training mean loss: 0.542092717356152\n",
      "Validation mean loss: 0.47509701762880596\n",
      "Training dice 0.6846572160720825\n",
      "Validation Mean Dice: 0.6689638495445251\n",
      "----------\n",
      "epoch 83/200\n"
     ]
    },
    {
     "name": "stderr",
     "output_type": "stream",
     "text": [
      "100%|██████████| 27/27 [00:11<00:00,  2.36it/s]\n",
      "100%|██████████| 7/7 [00:00<00:00, 22.53it/s]\n"
     ]
    },
    {
     "name": "stdout",
     "output_type": "stream",
     "text": [
      "Training mean loss: 0.5464390670811688\n",
      "Validation mean loss: 0.4726747955594744\n",
      "Training dice 0.7142660021781921\n",
      "Validation Mean Dice: 0.6665425896644592\n",
      "----------\n",
      "epoch 84/200\n"
     ]
    },
    {
     "name": "stderr",
     "output_type": "stream",
     "text": [
      "100%|██████████| 27/27 [00:11<00:00,  2.34it/s]\n",
      "100%|██████████| 7/7 [00:00<00:00, 22.11it/s]\n"
     ]
    },
    {
     "name": "stdout",
     "output_type": "stream",
     "text": [
      "Training mean loss: 0.5166017722200464\n",
      "Validation mean loss: 0.47350944365773884\n",
      "Training dice 0.7234739065170288\n",
      "Validation Mean Dice: 0.6704524159431458\n",
      "----------\n",
      "epoch 85/200\n"
     ]
    },
    {
     "name": "stderr",
     "output_type": "stream",
     "text": [
      "100%|██████████| 27/27 [00:11<00:00,  2.29it/s]\n",
      "100%|██████████| 7/7 [00:00<00:00, 22.99it/s]\n"
     ]
    },
    {
     "name": "stdout",
     "output_type": "stream",
     "text": [
      "Training mean loss: 0.5427180352034392\n",
      "Validation mean loss: 0.48372372133391245\n",
      "Training dice 0.6965188980102539\n",
      "Validation Mean Dice: 0.6588952541351318\n",
      "----------\n",
      "epoch 86/200\n"
     ]
    },
    {
     "name": "stderr",
     "output_type": "stream",
     "text": [
      "100%|██████████| 27/27 [00:11<00:00,  2.36it/s]\n",
      "100%|██████████| 7/7 [00:00<00:00, 23.32it/s]\n"
     ]
    },
    {
     "name": "stdout",
     "output_type": "stream",
     "text": [
      "Training mean loss: 0.5423059827751584\n",
      "Validation mean loss: 0.49617276021412443\n",
      "Training dice 0.733174741268158\n",
      "Validation Mean Dice: 0.6495262384414673\n",
      "----------\n",
      "epoch 87/200\n"
     ]
    },
    {
     "name": "stderr",
     "output_type": "stream",
     "text": [
      "100%|██████████| 27/27 [00:11<00:00,  2.37it/s]\n",
      "100%|██████████| 7/7 [00:00<00:00, 23.24it/s]\n"
     ]
    },
    {
     "name": "stdout",
     "output_type": "stream",
     "text": [
      "Training mean loss: 0.5315210101781068\n",
      "Validation mean loss: 0.4912891047341483\n",
      "Training dice 0.7066183686256409\n",
      "Validation Mean Dice: 0.6572496294975281\n",
      "----------\n",
      "epoch 88/200\n"
     ]
    },
    {
     "name": "stderr",
     "output_type": "stream",
     "text": [
      "100%|██████████| 27/27 [00:11<00:00,  2.36it/s]\n",
      "100%|██████████| 7/7 [00:00<00:00, 22.28it/s]\n"
     ]
    },
    {
     "name": "stdout",
     "output_type": "stream",
     "text": [
      "Training mean loss: 0.5504376203925522\n",
      "Validation mean loss: 0.4786908541406904\n",
      "Training dice 0.7103232145309448\n",
      "Validation Mean Dice: 0.6538550853729248\n",
      "----------\n",
      "epoch 89/200\n"
     ]
    },
    {
     "name": "stderr",
     "output_type": "stream",
     "text": [
      "100%|██████████| 27/27 [00:11<00:00,  2.37it/s]\n",
      "100%|██████████| 7/7 [00:00<00:00, 23.17it/s]\n"
     ]
    },
    {
     "name": "stdout",
     "output_type": "stream",
     "text": [
      "Training mean loss: 0.5272706658751877\n",
      "Validation mean loss: 0.47854102509362356\n",
      "Training dice 0.6965968012809753\n",
      "Validation Mean Dice: 0.657122790813446\n",
      "----------\n",
      "epoch 90/200\n"
     ]
    },
    {
     "name": "stderr",
     "output_type": "stream",
     "text": [
      "100%|██████████| 27/27 [00:11<00:00,  2.39it/s]\n",
      "100%|██████████| 7/7 [00:00<00:00, 23.04it/s]\n"
     ]
    },
    {
     "name": "stdout",
     "output_type": "stream",
     "text": [
      "Training mean loss: 0.535115717737763\n",
      "Validation mean loss: 0.4860767722129822\n",
      "Training dice 0.6991623640060425\n",
      "Validation Mean Dice: 0.6536593437194824\n",
      "----------\n",
      "epoch 91/200\n"
     ]
    },
    {
     "name": "stderr",
     "output_type": "stream",
     "text": [
      "100%|██████████| 27/27 [00:11<00:00,  2.38it/s]\n",
      "100%|██████████| 7/7 [00:00<00:00, 22.67it/s]\n"
     ]
    },
    {
     "name": "stdout",
     "output_type": "stream",
     "text": [
      "Training mean loss: 0.5351881760138052\n",
      "Validation mean loss: 0.4793952022280012\n",
      "Training dice 0.7245323657989502\n",
      "Validation Mean Dice: 0.662933886051178\n",
      "----------\n",
      "epoch 92/200\n"
     ]
    },
    {
     "name": "stderr",
     "output_type": "stream",
     "text": [
      "100%|██████████| 27/27 [00:11<00:00,  2.36it/s]\n",
      "100%|██████████| 7/7 [00:00<00:00, 23.13it/s]\n"
     ]
    },
    {
     "name": "stdout",
     "output_type": "stream",
     "text": [
      "Training mean loss: 0.5454680732002964\n",
      "Validation mean loss: 0.47277537839753286\n",
      "Training dice 0.7178959250450134\n",
      "Validation Mean Dice: 0.6726144552230835\n",
      "----------\n",
      "epoch 93/200\n"
     ]
    },
    {
     "name": "stderr",
     "output_type": "stream",
     "text": [
      "100%|██████████| 27/27 [00:11<00:00,  2.34it/s]\n",
      "100%|██████████| 7/7 [00:00<00:00, 21.48it/s]\n"
     ]
    },
    {
     "name": "stdout",
     "output_type": "stream",
     "text": [
      "Training mean loss: 0.5286155773533715\n",
      "Validation mean loss: 0.4793560121740614\n",
      "Training dice 0.7220541834831238\n",
      "Validation Mean Dice: 0.6616639494895935\n",
      "----------\n",
      "epoch 94/200\n"
     ]
    },
    {
     "name": "stderr",
     "output_type": "stream",
     "text": [
      "100%|██████████| 27/27 [00:11<00:00,  2.34it/s]\n",
      "100%|██████████| 7/7 [00:00<00:00, 23.47it/s]\n"
     ]
    },
    {
     "name": "stdout",
     "output_type": "stream",
     "text": [
      "Training mean loss: 0.5167964178102987\n",
      "Validation mean loss: 0.48624501483780996\n",
      "Training dice 0.6969252228736877\n",
      "Validation Mean Dice: 0.6573206186294556\n",
      "----------\n",
      "epoch 95/200\n"
     ]
    },
    {
     "name": "stderr",
     "output_type": "stream",
     "text": [
      "100%|██████████| 27/27 [00:11<00:00,  2.37it/s]\n",
      "100%|██████████| 7/7 [00:00<00:00, 23.34it/s]\n"
     ]
    },
    {
     "name": "stdout",
     "output_type": "stream",
     "text": [
      "Training mean loss: 0.5235453976525201\n",
      "Validation mean loss: 0.49608898162841797\n",
      "Training dice 0.7260794043540955\n",
      "Validation Mean Dice: 0.6502401828765869\n",
      "----------\n",
      "epoch 96/200\n"
     ]
    },
    {
     "name": "stderr",
     "output_type": "stream",
     "text": [
      "100%|██████████| 27/27 [00:11<00:00,  2.38it/s]\n",
      "100%|██████████| 7/7 [00:00<00:00, 23.29it/s]\n"
     ]
    },
    {
     "name": "stdout",
     "output_type": "stream",
     "text": [
      "Training mean loss: 0.5086699370984678\n",
      "Validation mean loss: 0.5017818340233394\n",
      "Training dice 0.7225792407989502\n",
      "Validation Mean Dice: 0.6496530175209045\n",
      "----------\n",
      "epoch 97/200\n"
     ]
    },
    {
     "name": "stderr",
     "output_type": "stream",
     "text": [
      "100%|██████████| 27/27 [00:11<00:00,  2.40it/s]\n",
      "100%|██████████| 7/7 [00:00<00:00, 23.30it/s]\n"
     ]
    },
    {
     "name": "stdout",
     "output_type": "stream",
     "text": [
      "Training mean loss: 0.5405293979026653\n",
      "Validation mean loss: 0.47256687709263395\n",
      "Training dice 0.6867594122886658\n",
      "Validation Mean Dice: 0.6699784994125366\n",
      "----------\n",
      "epoch 98/200\n"
     ]
    },
    {
     "name": "stderr",
     "output_type": "stream",
     "text": [
      "100%|██████████| 27/27 [00:11<00:00,  2.38it/s]\n",
      "100%|██████████| 7/7 [00:00<00:00, 22.35it/s]\n"
     ]
    },
    {
     "name": "stdout",
     "output_type": "stream",
     "text": [
      "Training mean loss: 0.5185086638839157\n",
      "Validation mean loss: 0.4713626674243382\n",
      "Training dice 0.7006657123565674\n",
      "Validation Mean Dice: 0.6672148704528809\n",
      "----------\n",
      "epoch 99/200\n"
     ]
    },
    {
     "name": "stderr",
     "output_type": "stream",
     "text": [
      "100%|██████████| 27/27 [00:11<00:00,  2.39it/s]\n",
      "100%|██████████| 7/7 [00:00<00:00, 22.84it/s]\n"
     ]
    },
    {
     "name": "stdout",
     "output_type": "stream",
     "text": [
      "Training mean loss: 0.5292646520667605\n",
      "Validation mean loss: 0.4741015987736838\n",
      "Training dice 0.7296850085258484\n",
      "Validation Mean Dice: 0.6648717522621155\n",
      "----------\n",
      "epoch 100/200\n"
     ]
    },
    {
     "name": "stderr",
     "output_type": "stream",
     "text": [
      "100%|██████████| 27/27 [00:11<00:00,  2.40it/s]\n",
      "100%|██████████| 7/7 [00:00<00:00, 23.01it/s]\n"
     ]
    },
    {
     "name": "stdout",
     "output_type": "stream",
     "text": [
      "Training mean loss: 0.5212826982692436\n",
      "Validation mean loss: 0.46812561580113005\n",
      "Training dice 0.7174191474914551\n",
      "Validation Mean Dice: 0.6708507537841797\n",
      "----------\n",
      "epoch 101/200\n"
     ]
    },
    {
     "name": "stderr",
     "output_type": "stream",
     "text": [
      "100%|██████████| 27/27 [00:11<00:00,  2.36it/s]\n",
      "100%|██████████| 7/7 [00:00<00:00, 22.61it/s]\n"
     ]
    },
    {
     "name": "stdout",
     "output_type": "stream",
     "text": [
      "Training mean loss: 0.5244835239869577\n",
      "Validation mean loss: 0.4777811212199075\n",
      "Training dice 0.7121244668960571\n",
      "Validation Mean Dice: 0.6661995649337769\n",
      "----------\n",
      "epoch 102/200\n"
     ]
    },
    {
     "name": "stderr",
     "output_type": "stream",
     "text": [
      "100%|██████████| 27/27 [00:11<00:00,  2.40it/s]\n",
      "100%|██████████| 7/7 [00:00<00:00, 23.17it/s]\n"
     ]
    },
    {
     "name": "stdout",
     "output_type": "stream",
     "text": [
      "Training mean loss: 0.5484765745975353\n",
      "Validation mean loss: 0.4968292457716806\n",
      "Training dice 0.7429682612419128\n",
      "Validation Mean Dice: 0.6404435038566589\n",
      "----------\n",
      "epoch 103/200\n"
     ]
    },
    {
     "name": "stderr",
     "output_type": "stream",
     "text": [
      "100%|██████████| 27/27 [00:11<00:00,  2.37it/s]\n",
      "100%|██████████| 7/7 [00:00<00:00, 22.05it/s]\n"
     ]
    },
    {
     "name": "stdout",
     "output_type": "stream",
     "text": [
      "Training mean loss: 0.5204391943083869\n",
      "Validation mean loss: 0.47094313161713736\n",
      "Training dice 0.737892210483551\n",
      "Validation Mean Dice: 0.6738141775131226\n",
      "----------\n",
      "epoch 104/200\n"
     ]
    },
    {
     "name": "stderr",
     "output_type": "stream",
     "text": [
      "100%|██████████| 27/27 [00:11<00:00,  2.38it/s]\n",
      "100%|██████████| 7/7 [00:00<00:00, 23.15it/s]\n"
     ]
    },
    {
     "name": "stdout",
     "output_type": "stream",
     "text": [
      "Training mean loss: 0.5530916319953071\n",
      "Validation mean loss: 0.4925972563879831\n",
      "Training dice 0.6861244440078735\n",
      "Validation Mean Dice: 0.6531814336776733\n",
      "----------\n",
      "epoch 105/200\n"
     ]
    },
    {
     "name": "stderr",
     "output_type": "stream",
     "text": [
      "100%|██████████| 27/27 [00:11<00:00,  2.37it/s]\n",
      "100%|██████████| 7/7 [00:00<00:00, 22.40it/s]\n"
     ]
    },
    {
     "name": "stdout",
     "output_type": "stream",
     "text": [
      "Training mean loss: 0.5376674091374433\n",
      "Validation mean loss: 0.5036911368370056\n",
      "Training dice 0.7281861901283264\n",
      "Validation Mean Dice: 0.6428705453872681\n",
      "----------\n",
      "epoch 106/200\n"
     ]
    },
    {
     "name": "stderr",
     "output_type": "stream",
     "text": [
      "100%|██████████| 27/27 [00:11<00:00,  2.37it/s]\n",
      "100%|██████████| 7/7 [00:00<00:00, 23.14it/s]\n"
     ]
    },
    {
     "name": "stdout",
     "output_type": "stream",
     "text": [
      "Training mean loss: 0.5268057772406826\n",
      "Validation mean loss: 0.479882823569434\n",
      "Training dice 0.7336212992668152\n",
      "Validation Mean Dice: 0.6636134386062622\n",
      "----------\n",
      "epoch 107/200\n"
     ]
    },
    {
     "name": "stderr",
     "output_type": "stream",
     "text": [
      "100%|██████████| 27/27 [00:11<00:00,  2.37it/s]\n",
      "100%|██████████| 7/7 [00:00<00:00, 22.72it/s]\n"
     ]
    },
    {
     "name": "stdout",
     "output_type": "stream",
     "text": [
      "Training mean loss: 0.5303758559403596\n",
      "Validation mean loss: 0.4803832599094936\n",
      "Training dice 0.7235597372055054\n",
      "Validation Mean Dice: 0.6684238910675049\n",
      "----------\n",
      "epoch 108/200\n"
     ]
    },
    {
     "name": "stderr",
     "output_type": "stream",
     "text": [
      "100%|██████████| 27/27 [00:11<00:00,  2.38it/s]\n",
      "100%|██████████| 7/7 [00:00<00:00, 22.10it/s]\n"
     ]
    },
    {
     "name": "stdout",
     "output_type": "stream",
     "text": [
      "Training mean loss: 0.5287117063999176\n",
      "Validation mean loss: 0.47702762484550476\n",
      "Training dice 0.7278414964675903\n",
      "Validation Mean Dice: 0.6670058965682983\n",
      "----------\n",
      "epoch 109/200\n"
     ]
    },
    {
     "name": "stderr",
     "output_type": "stream",
     "text": [
      "100%|██████████| 27/27 [00:11<00:00,  2.43it/s]\n",
      "100%|██████████| 7/7 [00:00<00:00, 23.02it/s]\n"
     ]
    },
    {
     "name": "stdout",
     "output_type": "stream",
     "text": [
      "Training mean loss: 0.5307833607550021\n",
      "Validation mean loss: 0.4577341675758362\n",
      "Training dice 0.7281063795089722\n",
      "Validation Mean Dice: 0.682261049747467\n",
      "----------\n",
      "epoch 110/200\n"
     ]
    },
    {
     "name": "stderr",
     "output_type": "stream",
     "text": [
      "100%|██████████| 27/27 [00:11<00:00,  2.39it/s]\n",
      "100%|██████████| 7/7 [00:00<00:00, 23.42it/s]\n"
     ]
    },
    {
     "name": "stdout",
     "output_type": "stream",
     "text": [
      "Training mean loss: 0.5439222863426915\n",
      "Validation mean loss: 0.47773249660219463\n",
      "Training dice 0.7102561593055725\n",
      "Validation Mean Dice: 0.6624327301979065\n",
      "----------\n",
      "epoch 111/200\n"
     ]
    },
    {
     "name": "stderr",
     "output_type": "stream",
     "text": [
      "100%|██████████| 27/27 [00:11<00:00,  2.36it/s]\n",
      "100%|██████████| 7/7 [00:00<00:00, 23.13it/s]\n"
     ]
    },
    {
     "name": "stdout",
     "output_type": "stream",
     "text": [
      "Training mean loss: 0.5289823479122586\n",
      "Validation mean loss: 0.4702949140753065\n",
      "Training dice 0.717091977596283\n",
      "Validation Mean Dice: 0.6649325489997864\n",
      "----------\n",
      "epoch 112/200\n"
     ]
    },
    {
     "name": "stderr",
     "output_type": "stream",
     "text": [
      "100%|██████████| 27/27 [00:11<00:00,  2.35it/s]\n",
      "100%|██████████| 7/7 [00:00<00:00, 23.22it/s]\n"
     ]
    },
    {
     "name": "stdout",
     "output_type": "stream",
     "text": [
      "Training mean loss: 0.547761411578567\n",
      "Validation mean loss: 0.4652042601789747\n",
      "Training dice 0.703362762928009\n",
      "Validation Mean Dice: 0.6696139574050903\n",
      "----------\n",
      "epoch 113/200\n"
     ]
    },
    {
     "name": "stderr",
     "output_type": "stream",
     "text": [
      "100%|██████████| 27/27 [00:11<00:00,  2.37it/s]\n",
      "100%|██████████| 7/7 [00:00<00:00, 22.32it/s]\n"
     ]
    },
    {
     "name": "stdout",
     "output_type": "stream",
     "text": [
      "Training mean loss: 0.5114937336356552\n",
      "Validation mean loss: 0.45661735108920504\n",
      "Training dice 0.691382110118866\n",
      "Validation Mean Dice: 0.6818506121635437\n",
      "----------\n",
      "epoch 114/200\n"
     ]
    },
    {
     "name": "stderr",
     "output_type": "stream",
     "text": [
      "100%|██████████| 27/27 [00:11<00:00,  2.38it/s]\n",
      "100%|██████████| 7/7 [00:00<00:00, 22.84it/s]\n"
     ]
    },
    {
     "name": "stdout",
     "output_type": "stream",
     "text": [
      "Training mean loss: 0.5379269619782766\n",
      "Validation mean loss: 0.4771339552743094\n",
      "Training dice 0.7032961845397949\n",
      "Validation Mean Dice: 0.6610287427902222\n",
      "----------\n",
      "epoch 115/200\n"
     ]
    },
    {
     "name": "stderr",
     "output_type": "stream",
     "text": [
      "100%|██████████| 27/27 [00:11<00:00,  2.37it/s]\n",
      "100%|██████████| 7/7 [00:00<00:00, 22.51it/s]\n"
     ]
    },
    {
     "name": "stdout",
     "output_type": "stream",
     "text": [
      "Training mean loss: 0.5225078099303775\n",
      "Validation mean loss: 0.4639443925448826\n",
      "Training dice 0.7049962282180786\n",
      "Validation Mean Dice: 0.6752087473869324\n",
      "----------\n",
      "epoch 116/200\n"
     ]
    },
    {
     "name": "stderr",
     "output_type": "stream",
     "text": [
      "100%|██████████| 27/27 [00:11<00:00,  2.34it/s]\n",
      "100%|██████████| 7/7 [00:00<00:00, 22.68it/s]\n"
     ]
    },
    {
     "name": "stdout",
     "output_type": "stream",
     "text": [
      "Training mean loss: 0.5138938128948212\n",
      "Validation mean loss: 0.4563273915222713\n",
      "Training dice 0.7151941061019897\n",
      "Validation Mean Dice: 0.6796119809150696\n",
      "----------\n",
      "epoch 117/200\n"
     ]
    },
    {
     "name": "stderr",
     "output_type": "stream",
     "text": [
      "100%|██████████| 27/27 [00:11<00:00,  2.39it/s]\n",
      "100%|██████████| 7/7 [00:00<00:00, 22.30it/s]\n"
     ]
    },
    {
     "name": "stdout",
     "output_type": "stream",
     "text": [
      "Training mean loss: 0.511517490501757\n",
      "Validation mean loss: 0.45998978189059664\n",
      "Training dice 0.7308214902877808\n",
      "Validation Mean Dice: 0.6750872135162354\n",
      "----------\n",
      "epoch 118/200\n"
     ]
    },
    {
     "name": "stderr",
     "output_type": "stream",
     "text": [
      "100%|██████████| 27/27 [00:11<00:00,  2.40it/s]\n",
      "100%|██████████| 7/7 [00:00<00:00, 22.19it/s]\n"
     ]
    },
    {
     "name": "stdout",
     "output_type": "stream",
     "text": [
      "Training mean loss: 0.5187265817765836\n",
      "Validation mean loss: 0.5123754739761353\n",
      "Training dice 0.703400731086731\n",
      "Validation Mean Dice: 0.6432248950004578\n",
      "----------\n",
      "epoch 119/200\n"
     ]
    },
    {
     "name": "stderr",
     "output_type": "stream",
     "text": [
      "100%|██████████| 27/27 [00:11<00:00,  2.39it/s]\n",
      "100%|██████████| 7/7 [00:00<00:00, 21.33it/s]\n"
     ]
    },
    {
     "name": "stdout",
     "output_type": "stream",
     "text": [
      "Training mean loss: 0.5457895519556822\n",
      "Validation mean loss: 0.4704873817307608\n",
      "Training dice 0.7246192693710327\n",
      "Validation Mean Dice: 0.6704739332199097\n",
      "----------\n",
      "epoch 120/200\n"
     ]
    },
    {
     "name": "stderr",
     "output_type": "stream",
     "text": [
      "100%|██████████| 27/27 [00:11<00:00,  2.39it/s]\n",
      "100%|██████████| 7/7 [00:00<00:00, 22.66it/s]\n"
     ]
    },
    {
     "name": "stdout",
     "output_type": "stream",
     "text": [
      "Training mean loss: 0.5138926495004583\n",
      "Validation mean loss: 0.46987676194735933\n",
      "Training dice 0.7238778471946716\n",
      "Validation Mean Dice: 0.6703572273254395\n",
      "----------\n",
      "epoch 121/200\n"
     ]
    },
    {
     "name": "stderr",
     "output_type": "stream",
     "text": [
      "100%|██████████| 27/27 [00:11<00:00,  2.31it/s]\n",
      "100%|██████████| 7/7 [00:00<00:00, 23.18it/s]\n"
     ]
    },
    {
     "name": "stdout",
     "output_type": "stream",
     "text": [
      "Training mean loss: 0.5156827083340397\n",
      "Validation mean loss: 0.48763669388634817\n",
      "Training dice 0.7010114192962646\n",
      "Validation Mean Dice: 0.6576077342033386\n",
      "----------\n",
      "epoch 122/200\n"
     ]
    },
    {
     "name": "stderr",
     "output_type": "stream",
     "text": [
      "100%|██████████| 27/27 [00:11<00:00,  2.36it/s]\n",
      "100%|██████████| 7/7 [00:00<00:00, 23.24it/s]\n"
     ]
    },
    {
     "name": "stdout",
     "output_type": "stream",
     "text": [
      "Training mean loss: 0.5203809120036937\n",
      "Validation mean loss: 0.4933540863650186\n",
      "Training dice 0.7169153690338135\n",
      "Validation Mean Dice: 0.6492987275123596\n",
      "----------\n",
      "epoch 123/200\n"
     ]
    },
    {
     "name": "stderr",
     "output_type": "stream",
     "text": [
      "100%|██████████| 27/27 [00:11<00:00,  2.40it/s]\n",
      "100%|██████████| 7/7 [00:00<00:00, 22.21it/s]\n"
     ]
    },
    {
     "name": "stdout",
     "output_type": "stream",
     "text": [
      "Training mean loss: 0.5248499854847237\n",
      "Validation mean loss: 0.4696257497583117\n",
      "Training dice 0.7323910593986511\n",
      "Validation Mean Dice: 0.6695809960365295\n",
      "----------\n",
      "epoch 124/200\n"
     ]
    },
    {
     "name": "stderr",
     "output_type": "stream",
     "text": [
      "100%|██████████| 27/27 [00:11<00:00,  2.39it/s]\n",
      "100%|██████████| 7/7 [00:00<00:00, 23.33it/s]\n"
     ]
    },
    {
     "name": "stdout",
     "output_type": "stream",
     "text": [
      "Training mean loss: 0.5092081758711073\n",
      "Validation mean loss: 0.47760915756225586\n",
      "Training dice 0.7480279803276062\n",
      "Validation Mean Dice: 0.6691619753837585\n",
      "----------\n",
      "epoch 125/200\n"
     ]
    },
    {
     "name": "stderr",
     "output_type": "stream",
     "text": [
      "100%|██████████| 27/27 [00:11<00:00,  2.36it/s]\n",
      "100%|██████████| 7/7 [00:00<00:00, 23.43it/s]\n"
     ]
    },
    {
     "name": "stdout",
     "output_type": "stream",
     "text": [
      "Training mean loss: 0.5308178884011728\n",
      "Validation mean loss: 0.49023374915122986\n",
      "Training dice 0.7305195927619934\n",
      "Validation Mean Dice: 0.6538628935813904\n",
      "----------\n",
      "epoch 126/200\n"
     ]
    },
    {
     "name": "stderr",
     "output_type": "stream",
     "text": [
      "100%|██████████| 27/27 [00:11<00:00,  2.40it/s]\n",
      "100%|██████████| 7/7 [00:00<00:00, 23.22it/s]\n"
     ]
    },
    {
     "name": "stdout",
     "output_type": "stream",
     "text": [
      "Training mean loss: 0.5206852334517019\n",
      "Validation mean loss: 0.4866535706179483\n",
      "Training dice 0.7294796705245972\n",
      "Validation Mean Dice: 0.6596402525901794\n",
      "----------\n",
      "epoch 127/200\n"
     ]
    },
    {
     "name": "stderr",
     "output_type": "stream",
     "text": [
      "100%|██████████| 27/27 [00:11<00:00,  2.35it/s]\n",
      "100%|██████████| 7/7 [00:00<00:00, 23.17it/s]\n"
     ]
    },
    {
     "name": "stdout",
     "output_type": "stream",
     "text": [
      "Training mean loss: 0.5012493111469127\n",
      "Validation mean loss: 0.4793545390878405\n",
      "Training dice 0.69965660572052\n",
      "Validation Mean Dice: 0.6655497550964355\n",
      "----------\n",
      "epoch 128/200\n"
     ]
    },
    {
     "name": "stderr",
     "output_type": "stream",
     "text": [
      "100%|██████████| 27/27 [00:11<00:00,  2.35it/s]\n",
      "100%|██████████| 7/7 [00:00<00:00, 22.08it/s]\n"
     ]
    },
    {
     "name": "stdout",
     "output_type": "stream",
     "text": [
      "Training mean loss: 0.5246428339569656\n",
      "Validation mean loss: 0.45600398097719463\n",
      "Training dice 0.7363616824150085\n",
      "Validation Mean Dice: 0.6888306140899658\n",
      "----------\n",
      "epoch 129/200\n"
     ]
    },
    {
     "name": "stderr",
     "output_type": "stream",
     "text": [
      "100%|██████████| 27/27 [00:13<00:00,  1.94it/s]\n",
      "100%|██████████| 7/7 [00:00<00:00, 22.20it/s]\n"
     ]
    },
    {
     "name": "stdout",
     "output_type": "stream",
     "text": [
      "Training mean loss: 0.5045439269807603\n",
      "Validation mean loss: 0.45347273349761963\n",
      "Training dice 0.7283799052238464\n",
      "Validation Mean Dice: 0.6856263875961304\n",
      "----------\n",
      "epoch 130/200\n"
     ]
    },
    {
     "name": "stderr",
     "output_type": "stream",
     "text": [
      "100%|██████████| 27/27 [00:11<00:00,  2.32it/s]\n",
      "100%|██████████| 7/7 [00:00<00:00, 23.02it/s]\n"
     ]
    },
    {
     "name": "stdout",
     "output_type": "stream",
     "text": [
      "Training mean loss: 0.4832128198058517\n",
      "Validation mean loss: 0.4863580124718802\n",
      "Training dice 0.7264487147331238\n",
      "Validation Mean Dice: 0.6591916084289551\n",
      "----------\n",
      "epoch 131/200\n"
     ]
    },
    {
     "name": "stderr",
     "output_type": "stream",
     "text": [
      "100%|██████████| 27/27 [00:11<00:00,  2.35it/s]\n",
      "100%|██████████| 7/7 [00:00<00:00, 23.21it/s]\n"
     ]
    },
    {
     "name": "stdout",
     "output_type": "stream",
     "text": [
      "Training mean loss: 0.5016079313225217\n",
      "Validation mean loss: 0.4528570771217346\n",
      "Training dice 0.7096673250198364\n",
      "Validation Mean Dice: 0.6889505982398987\n",
      "----------\n",
      "epoch 132/200\n"
     ]
    },
    {
     "name": "stderr",
     "output_type": "stream",
     "text": [
      "100%|██████████| 27/27 [00:11<00:00,  2.38it/s]\n",
      "100%|██████████| 7/7 [00:00<00:00, 23.22it/s]\n"
     ]
    },
    {
     "name": "stdout",
     "output_type": "stream",
     "text": [
      "Training mean loss: 0.47084986722027816\n",
      "Validation mean loss: 0.45007724847112385\n",
      "Training dice 0.7345786690711975\n",
      "Validation Mean Dice: 0.6911071538925171\n",
      "----------\n",
      "epoch 133/200\n"
     ]
    },
    {
     "name": "stderr",
     "output_type": "stream",
     "text": [
      "100%|██████████| 27/27 [00:11<00:00,  2.38it/s]\n",
      "100%|██████████| 7/7 [00:00<00:00, 22.17it/s]\n"
     ]
    },
    {
     "name": "stdout",
     "output_type": "stream",
     "text": [
      "Training mean loss: 0.5252819138544577\n",
      "Validation mean loss: 0.45834052562713623\n",
      "Training dice 0.7459703087806702\n",
      "Validation Mean Dice: 0.6868983507156372\n",
      "----------\n",
      "epoch 134/200\n"
     ]
    },
    {
     "name": "stderr",
     "output_type": "stream",
     "text": [
      "100%|██████████| 27/27 [00:11<00:00,  2.38it/s]\n",
      "100%|██████████| 7/7 [00:00<00:00, 22.80it/s]\n"
     ]
    },
    {
     "name": "stdout",
     "output_type": "stream",
     "text": [
      "Training mean loss: 0.5118558473057218\n",
      "Validation mean loss: 0.4441350783620562\n",
      "Training dice 0.7130444645881653\n",
      "Validation Mean Dice: 0.698148250579834\n",
      "----------\n",
      "epoch 135/200\n"
     ]
    },
    {
     "name": "stderr",
     "output_type": "stream",
     "text": [
      "100%|██████████| 27/27 [00:11<00:00,  2.36it/s]\n",
      "100%|██████████| 7/7 [00:00<00:00, 22.88it/s]\n"
     ]
    },
    {
     "name": "stdout",
     "output_type": "stream",
     "text": [
      "Training mean loss: 0.5142982458626782\n",
      "Validation mean loss: 0.4604558306080954\n",
      "Training dice 0.7131394147872925\n",
      "Validation Mean Dice: 0.6782251000404358\n",
      "----------\n",
      "epoch 136/200\n"
     ]
    },
    {
     "name": "stderr",
     "output_type": "stream",
     "text": [
      "100%|██████████| 27/27 [00:11<00:00,  2.40it/s]\n",
      "100%|██████████| 7/7 [00:00<00:00, 23.23it/s]\n"
     ]
    },
    {
     "name": "stdout",
     "output_type": "stream",
     "text": [
      "Training mean loss: 0.4980920873306416\n",
      "Validation mean loss: 0.4415841315473829\n",
      "Training dice 0.7509657144546509\n",
      "Validation Mean Dice: 0.6955781579017639\n",
      "----------\n",
      "epoch 137/200\n"
     ]
    },
    {
     "name": "stderr",
     "output_type": "stream",
     "text": [
      "100%|██████████| 27/27 [00:11<00:00,  2.39it/s]\n",
      "100%|██████████| 7/7 [00:00<00:00, 23.20it/s]\n"
     ]
    },
    {
     "name": "stdout",
     "output_type": "stream",
     "text": [
      "Training mean loss: 0.5100970709765399\n",
      "Validation mean loss: 0.4410715784345354\n",
      "Training dice 0.7153058052062988\n",
      "Validation Mean Dice: 0.6939321160316467\n",
      "----------\n",
      "epoch 138/200\n"
     ]
    },
    {
     "name": "stderr",
     "output_type": "stream",
     "text": [
      "100%|██████████| 27/27 [00:11<00:00,  2.39it/s]\n",
      "100%|██████████| 7/7 [00:00<00:00, 21.96it/s]\n"
     ]
    },
    {
     "name": "stdout",
     "output_type": "stream",
     "text": [
      "Training mean loss: 0.5069274416676274\n",
      "Validation mean loss: 0.44714242219924927\n",
      "Training dice 0.7461162805557251\n",
      "Validation Mean Dice: 0.6930587887763977\n",
      "----------\n",
      "epoch 139/200\n"
     ]
    },
    {
     "name": "stderr",
     "output_type": "stream",
     "text": [
      "100%|██████████| 27/27 [00:11<00:00,  2.42it/s]\n",
      "100%|██████████| 7/7 [00:00<00:00, 21.37it/s]\n"
     ]
    },
    {
     "name": "stdout",
     "output_type": "stream",
     "text": [
      "Training mean loss: 0.502665216172183\n",
      "Validation mean loss: 0.45204444442476543\n",
      "Training dice 0.7456322312355042\n",
      "Validation Mean Dice: 0.6914591193199158\n",
      "----------\n",
      "epoch 140/200\n"
     ]
    },
    {
     "name": "stderr",
     "output_type": "stream",
     "text": [
      "100%|██████████| 27/27 [00:11<00:00,  2.38it/s]\n",
      "100%|██████████| 7/7 [00:00<00:00, 23.20it/s]\n"
     ]
    },
    {
     "name": "stdout",
     "output_type": "stream",
     "text": [
      "Training mean loss: 0.5144156835697316\n",
      "Validation mean loss: 0.45782781498772757\n",
      "Training dice 0.7366820573806763\n",
      "Validation Mean Dice: 0.6811155676841736\n",
      "----------\n",
      "epoch 141/200\n"
     ]
    },
    {
     "name": "stderr",
     "output_type": "stream",
     "text": [
      "100%|██████████| 27/27 [00:11<00:00,  2.44it/s]\n",
      "100%|██████████| 7/7 [00:00<00:00, 23.02it/s]\n"
     ]
    },
    {
     "name": "stdout",
     "output_type": "stream",
     "text": [
      "Training mean loss: 0.5347748100757599\n",
      "Validation mean loss: 0.47372162767819\n",
      "Training dice 0.7286943793296814\n",
      "Validation Mean Dice: 0.6702415943145752\n",
      "----------\n",
      "epoch 142/200\n"
     ]
    },
    {
     "name": "stderr",
     "output_type": "stream",
     "text": [
      "100%|██████████| 27/27 [00:11<00:00,  2.40it/s]\n",
      "100%|██████████| 7/7 [00:00<00:00, 23.29it/s]\n"
     ]
    },
    {
     "name": "stdout",
     "output_type": "stream",
     "text": [
      "Training mean loss: 0.5120135115252601\n",
      "Validation mean loss: 0.4651166796684265\n",
      "Training dice 0.7446351647377014\n",
      "Validation Mean Dice: 0.6746786236763\n",
      "----------\n",
      "epoch 143/200\n"
     ]
    },
    {
     "name": "stderr",
     "output_type": "stream",
     "text": [
      "100%|██████████| 27/27 [00:11<00:00,  2.40it/s]\n",
      "100%|██████████| 7/7 [00:00<00:00, 22.36it/s]\n"
     ]
    },
    {
     "name": "stdout",
     "output_type": "stream",
     "text": [
      "Training mean loss: 0.533207564442246\n",
      "Validation mean loss: 0.4587990386145456\n",
      "Training dice 0.728144109249115\n",
      "Validation Mean Dice: 0.684886634349823\n",
      "----------\n",
      "epoch 144/200\n"
     ]
    },
    {
     "name": "stderr",
     "output_type": "stream",
     "text": [
      "100%|██████████| 27/27 [00:11<00:00,  2.35it/s]\n",
      "100%|██████████| 7/7 [00:00<00:00, 22.54it/s]\n"
     ]
    },
    {
     "name": "stdout",
     "output_type": "stream",
     "text": [
      "Training mean loss: 0.5082860291004181\n",
      "Validation mean loss: 0.4551804150853838\n",
      "Training dice 0.7595179080963135\n",
      "Validation Mean Dice: 0.6852560639381409\n",
      "----------\n",
      "epoch 145/200\n"
     ]
    },
    {
     "name": "stderr",
     "output_type": "stream",
     "text": [
      "100%|██████████| 27/27 [00:11<00:00,  2.33it/s]\n",
      "100%|██████████| 7/7 [00:00<00:00, 22.46it/s]\n"
     ]
    },
    {
     "name": "stdout",
     "output_type": "stream",
     "text": [
      "Training mean loss: 0.4969317107288926\n",
      "Validation mean loss: 0.44507422191756113\n",
      "Training dice 0.7319623827934265\n",
      "Validation Mean Dice: 0.6957636475563049\n",
      "----------\n",
      "epoch 146/200\n"
     ]
    },
    {
     "name": "stderr",
     "output_type": "stream",
     "text": [
      "100%|██████████| 27/27 [00:11<00:00,  2.38it/s]\n",
      "100%|██████████| 7/7 [00:00<00:00, 14.09it/s]\n"
     ]
    },
    {
     "name": "stdout",
     "output_type": "stream",
     "text": [
      "Training mean loss: 0.5001333598737363\n",
      "Validation mean loss: 0.4568401447364262\n",
      "Training dice 0.73757004737854\n",
      "Validation Mean Dice: 0.6772193312644958\n",
      "----------\n",
      "epoch 147/200\n"
     ]
    },
    {
     "name": "stderr",
     "output_type": "stream",
     "text": [
      "100%|██████████| 27/27 [00:11<00:00,  2.29it/s]\n",
      "100%|██████████| 7/7 [00:00<00:00, 23.38it/s]\n"
     ]
    },
    {
     "name": "stdout",
     "output_type": "stream",
     "text": [
      "Training mean loss: 0.5210417200017858\n",
      "Validation mean loss: 0.4699019193649292\n",
      "Training dice 0.7019033432006836\n",
      "Validation Mean Dice: 0.6770312786102295\n",
      "----------\n",
      "epoch 148/200\n"
     ]
    },
    {
     "name": "stderr",
     "output_type": "stream",
     "text": [
      "100%|██████████| 27/27 [00:11<00:00,  2.34it/s]\n",
      "100%|██████████| 7/7 [00:00<00:00, 22.00it/s]\n"
     ]
    },
    {
     "name": "stdout",
     "output_type": "stream",
     "text": [
      "Training mean loss: 0.5156563487317827\n",
      "Validation mean loss: 0.46699185030800955\n",
      "Training dice 0.7210148572921753\n",
      "Validation Mean Dice: 0.6796550154685974\n",
      "----------\n",
      "epoch 149/200\n"
     ]
    },
    {
     "name": "stderr",
     "output_type": "stream",
     "text": [
      "100%|██████████| 27/27 [00:11<00:00,  2.37it/s]\n",
      "100%|██████████| 7/7 [00:00<00:00, 22.67it/s]\n"
     ]
    },
    {
     "name": "stdout",
     "output_type": "stream",
     "text": [
      "Training mean loss: 0.5213861531681485\n",
      "Validation mean loss: 0.4513052020754133\n",
      "Training dice 0.7207018733024597\n",
      "Validation Mean Dice: 0.6843461394309998\n",
      "----------\n",
      "epoch 150/200\n"
     ]
    },
    {
     "name": "stderr",
     "output_type": "stream",
     "text": [
      "100%|██████████| 27/27 [00:11<00:00,  2.38it/s]\n",
      "100%|██████████| 7/7 [00:00<00:00, 23.43it/s]\n"
     ]
    },
    {
     "name": "stdout",
     "output_type": "stream",
     "text": [
      "Training mean loss: 0.5131189381634748\n",
      "Validation mean loss: 0.456312962940761\n",
      "Training dice 0.7187274694442749\n",
      "Validation Mean Dice: 0.6872932314872742\n",
      "----------\n",
      "epoch 151/200\n"
     ]
    },
    {
     "name": "stderr",
     "output_type": "stream",
     "text": [
      "100%|██████████| 27/27 [00:11<00:00,  2.40it/s]\n",
      "100%|██████████| 7/7 [00:00<00:00, 23.08it/s]\n"
     ]
    },
    {
     "name": "stdout",
     "output_type": "stream",
     "text": [
      "Training mean loss: 0.5141275392638313\n",
      "Validation mean loss: 0.4395151989800589\n",
      "Training dice 0.7229235172271729\n",
      "Validation Mean Dice: 0.7053790092468262\n",
      "----------\n",
      "epoch 152/200\n"
     ]
    },
    {
     "name": "stderr",
     "output_type": "stream",
     "text": [
      "100%|██████████| 27/27 [00:11<00:00,  2.38it/s]\n",
      "100%|██████████| 7/7 [00:00<00:00, 23.13it/s]\n"
     ]
    },
    {
     "name": "stdout",
     "output_type": "stream",
     "text": [
      "Training mean loss: 0.5152843561437395\n",
      "Validation mean loss: 0.4530161874634879\n",
      "Training dice 0.7379578351974487\n",
      "Validation Mean Dice: 0.6884384155273438\n",
      "----------\n",
      "epoch 153/200\n"
     ]
    },
    {
     "name": "stderr",
     "output_type": "stream",
     "text": [
      "100%|██████████| 27/27 [00:11<00:00,  2.35it/s]\n",
      "100%|██████████| 7/7 [00:00<00:00, 22.05it/s]\n"
     ]
    },
    {
     "name": "stdout",
     "output_type": "stream",
     "text": [
      "Training mean loss: 0.46824401396292226\n",
      "Validation mean loss: 0.44698309472629\n",
      "Training dice 0.7223673462867737\n",
      "Validation Mean Dice: 0.6959001421928406\n",
      "----------\n",
      "epoch 154/200\n"
     ]
    },
    {
     "name": "stderr",
     "output_type": "stream",
     "text": [
      "100%|██████████| 27/27 [00:11<00:00,  2.36it/s]\n",
      "100%|██████████| 7/7 [00:00<00:00, 23.07it/s]\n"
     ]
    },
    {
     "name": "stdout",
     "output_type": "stream",
     "text": [
      "Training mean loss: 0.4972532590230306\n",
      "Validation mean loss: 0.43485285128865925\n",
      "Training dice 0.7466249465942383\n",
      "Validation Mean Dice: 0.7035248279571533\n",
      "----------\n",
      "epoch 155/200\n"
     ]
    },
    {
     "name": "stderr",
     "output_type": "stream",
     "text": [
      "100%|██████████| 27/27 [00:11<00:00,  2.37it/s]\n",
      "100%|██████████| 7/7 [00:00<00:00, 23.36it/s]\n"
     ]
    },
    {
     "name": "stdout",
     "output_type": "stream",
     "text": [
      "Training mean loss: 0.500374537927133\n",
      "Validation mean loss: 0.44909951090812683\n",
      "Training dice 0.7443481683731079\n",
      "Validation Mean Dice: 0.6878457069396973\n",
      "----------\n",
      "epoch 156/200\n"
     ]
    },
    {
     "name": "stderr",
     "output_type": "stream",
     "text": [
      "100%|██████████| 27/27 [00:11<00:00,  2.37it/s]\n",
      "100%|██████████| 7/7 [00:00<00:00, 22.50it/s]\n"
     ]
    },
    {
     "name": "stdout",
     "output_type": "stream",
     "text": [
      "Training mean loss: 0.47765472531318665\n",
      "Validation mean loss: 0.4312349685600826\n",
      "Training dice 0.7670810222625732\n",
      "Validation Mean Dice: 0.7050244212150574\n",
      "----------\n",
      "epoch 157/200\n"
     ]
    },
    {
     "name": "stderr",
     "output_type": "stream",
     "text": [
      "100%|██████████| 27/27 [00:11<00:00,  2.35it/s]\n",
      "100%|██████████| 7/7 [00:00<00:00, 22.47it/s]\n"
     ]
    },
    {
     "name": "stdout",
     "output_type": "stream",
     "text": [
      "Training mean loss: 0.5034420711022837\n",
      "Validation mean loss: 0.4331874762262617\n",
      "Training dice 0.7449683547019958\n",
      "Validation Mean Dice: 0.7023253440856934\n",
      "----------\n",
      "epoch 158/200\n"
     ]
    },
    {
     "name": "stderr",
     "output_type": "stream",
     "text": [
      "100%|██████████| 27/27 [00:11<00:00,  2.35it/s]\n",
      "100%|██████████| 7/7 [00:00<00:00, 21.81it/s]\n"
     ]
    },
    {
     "name": "stdout",
     "output_type": "stream",
     "text": [
      "Training mean loss: 0.5035410854551527\n",
      "Validation mean loss: 0.4497977835791452\n",
      "Training dice 0.7597250938415527\n",
      "Validation Mean Dice: 0.6933033466339111\n",
      "----------\n",
      "epoch 159/200\n"
     ]
    },
    {
     "name": "stderr",
     "output_type": "stream",
     "text": [
      "100%|██████████| 27/27 [00:11<00:00,  2.35it/s]\n",
      "100%|██████████| 7/7 [00:00<00:00, 23.32it/s]\n"
     ]
    },
    {
     "name": "stdout",
     "output_type": "stream",
     "text": [
      "Training mean loss: 0.5149822709737001\n",
      "Validation mean loss: 0.4438766709395817\n",
      "Training dice 0.7504381537437439\n",
      "Validation Mean Dice: 0.6982014179229736\n",
      "----------\n",
      "epoch 160/200\n"
     ]
    },
    {
     "name": "stderr",
     "output_type": "stream",
     "text": [
      "100%|██████████| 27/27 [00:11<00:00,  2.41it/s]\n",
      "100%|██████████| 7/7 [00:00<00:00, 23.41it/s]\n"
     ]
    },
    {
     "name": "stdout",
     "output_type": "stream",
     "text": [
      "Training mean loss: 0.525807985553035\n",
      "Validation mean loss: 0.4486286725316729\n",
      "Training dice 0.767204225063324\n",
      "Validation Mean Dice: 0.6956538558006287\n",
      "----------\n",
      "epoch 161/200\n"
     ]
    },
    {
     "name": "stderr",
     "output_type": "stream",
     "text": [
      "100%|██████████| 27/27 [00:11<00:00,  2.34it/s]\n",
      "100%|██████████| 7/7 [00:00<00:00, 22.76it/s]\n"
     ]
    },
    {
     "name": "stdout",
     "output_type": "stream",
     "text": [
      "Training mean loss: 0.5052240159776475\n",
      "Validation mean loss: 0.4438376724720001\n",
      "Training dice 0.7366215586662292\n",
      "Validation Mean Dice: 0.6950666308403015\n",
      "----------\n",
      "epoch 162/200\n"
     ]
    },
    {
     "name": "stderr",
     "output_type": "stream",
     "text": [
      "100%|██████████| 27/27 [00:11<00:00,  2.33it/s]\n",
      "100%|██████████| 7/7 [00:00<00:00, 22.06it/s]\n"
     ]
    },
    {
     "name": "stdout",
     "output_type": "stream",
     "text": [
      "Training mean loss: 0.5142277479171753\n",
      "Validation mean loss: 0.44420803018978666\n",
      "Training dice 0.7321730852127075\n",
      "Validation Mean Dice: 0.7007478475570679\n",
      "----------\n",
      "epoch 163/200\n"
     ]
    },
    {
     "name": "stderr",
     "output_type": "stream",
     "text": [
      "100%|██████████| 27/27 [00:11<00:00,  2.37it/s]\n",
      "100%|██████████| 7/7 [00:00<00:00, 22.52it/s]\n"
     ]
    },
    {
     "name": "stdout",
     "output_type": "stream",
     "text": [
      "Training mean loss: 0.5039338612997973\n",
      "Validation mean loss: 0.4309002842221941\n",
      "Training dice 0.7171117663383484\n",
      "Validation Mean Dice: 0.7103211879730225\n",
      "----------\n",
      "epoch 164/200\n"
     ]
    },
    {
     "name": "stderr",
     "output_type": "stream",
     "text": [
      "100%|██████████| 27/27 [00:11<00:00,  2.37it/s]\n",
      "100%|██████████| 7/7 [00:00<00:00, 21.74it/s]\n"
     ]
    },
    {
     "name": "stdout",
     "output_type": "stream",
     "text": [
      "Training mean loss: 0.5121054792845691\n",
      "Validation mean loss: 0.4402380755969456\n",
      "Training dice 0.7389456629753113\n",
      "Validation Mean Dice: 0.7036758661270142\n",
      "----------\n",
      "epoch 165/200\n"
     ]
    },
    {
     "name": "stderr",
     "output_type": "stream",
     "text": [
      "100%|██████████| 27/27 [00:11<00:00,  2.36it/s]\n",
      "100%|██████████| 7/7 [00:00<00:00, 23.18it/s]\n"
     ]
    },
    {
     "name": "stdout",
     "output_type": "stream",
     "text": [
      "Training mean loss: 0.4913280115083412\n",
      "Validation mean loss: 0.44217576725142343\n",
      "Training dice 0.7459354996681213\n",
      "Validation Mean Dice: 0.7000671625137329\n",
      "----------\n",
      "epoch 166/200\n"
     ]
    },
    {
     "name": "stderr",
     "output_type": "stream",
     "text": [
      "100%|██████████| 27/27 [00:11<00:00,  2.36it/s]\n",
      "100%|██████████| 7/7 [00:00<00:00, 22.91it/s]\n"
     ]
    },
    {
     "name": "stdout",
     "output_type": "stream",
     "text": [
      "Training mean loss: 0.4895415272977617\n",
      "Validation mean loss: 0.44422451513154165\n",
      "Training dice 0.7581002116203308\n",
      "Validation Mean Dice: 0.6996219754219055\n",
      "----------\n",
      "epoch 167/200\n"
     ]
    },
    {
     "name": "stderr",
     "output_type": "stream",
     "text": [
      "100%|██████████| 27/27 [00:11<00:00,  2.36it/s]\n",
      "100%|██████████| 7/7 [00:00<00:00, 22.79it/s]\n"
     ]
    },
    {
     "name": "stdout",
     "output_type": "stream",
     "text": [
      "Training mean loss: 0.4900428089830611\n",
      "Validation mean loss: 0.4397528554712023\n",
      "Training dice 0.7474639415740967\n",
      "Validation Mean Dice: 0.7016821503639221\n",
      "----------\n",
      "epoch 168/200\n"
     ]
    },
    {
     "name": "stderr",
     "output_type": "stream",
     "text": [
      "100%|██████████| 27/27 [00:11<00:00,  2.35it/s]\n",
      "100%|██████████| 7/7 [00:00<00:00, 22.38it/s]\n"
     ]
    },
    {
     "name": "stdout",
     "output_type": "stream",
     "text": [
      "Training mean loss: 0.5004563784157788\n",
      "Validation mean loss: 0.4558017977646419\n",
      "Training dice 0.7393458485603333\n",
      "Validation Mean Dice: 0.692392885684967\n",
      "----------\n",
      "epoch 169/200\n"
     ]
    },
    {
     "name": "stderr",
     "output_type": "stream",
     "text": [
      "100%|██████████| 27/27 [00:11<00:00,  2.40it/s]\n",
      "100%|██████████| 7/7 [00:00<00:00, 23.18it/s]\n"
     ]
    },
    {
     "name": "stdout",
     "output_type": "stream",
     "text": [
      "Training mean loss: 0.4971234047854388\n",
      "Validation mean loss: 0.4462025335856846\n",
      "Training dice 0.7724465727806091\n",
      "Validation Mean Dice: 0.6932480335235596\n",
      "----------\n",
      "epoch 170/200\n"
     ]
    },
    {
     "name": "stderr",
     "output_type": "stream",
     "text": [
      "100%|██████████| 27/27 [00:11<00:00,  2.40it/s]\n",
      "100%|██████████| 7/7 [00:00<00:00, 23.26it/s]\n"
     ]
    },
    {
     "name": "stdout",
     "output_type": "stream",
     "text": [
      "Training mean loss: 0.4977379430223394\n",
      "Validation mean loss: 0.4525094841207777\n",
      "Training dice 0.7388663291931152\n",
      "Validation Mean Dice: 0.68951815366745\n",
      "----------\n",
      "epoch 171/200\n"
     ]
    },
    {
     "name": "stderr",
     "output_type": "stream",
     "text": [
      "100%|██████████| 27/27 [00:11<00:00,  2.37it/s]\n",
      "100%|██████████| 7/7 [00:00<00:00, 23.23it/s]\n"
     ]
    },
    {
     "name": "stdout",
     "output_type": "stream",
     "text": [
      "Training mean loss: 0.5016435550318824\n",
      "Validation mean loss: 0.44308493392808096\n",
      "Training dice 0.7594398856163025\n",
      "Validation Mean Dice: 0.688017725944519\n",
      "----------\n",
      "epoch 172/200\n"
     ]
    },
    {
     "name": "stderr",
     "output_type": "stream",
     "text": [
      "100%|██████████| 27/27 [00:11<00:00,  2.38it/s]\n",
      "100%|██████████| 7/7 [00:00<00:00, 21.93it/s]\n"
     ]
    },
    {
     "name": "stdout",
     "output_type": "stream",
     "text": [
      "Training mean loss: 0.4999358598832731\n",
      "Validation mean loss: 0.44272655674389433\n",
      "Training dice 0.7527451515197754\n",
      "Validation Mean Dice: 0.6927233338356018\n",
      "----------\n",
      "epoch 173/200\n"
     ]
    },
    {
     "name": "stderr",
     "output_type": "stream",
     "text": [
      "100%|██████████| 27/27 [00:11<00:00,  2.38it/s]\n",
      "100%|██████████| 7/7 [00:00<00:00, 22.16it/s]\n"
     ]
    },
    {
     "name": "stdout",
     "output_type": "stream",
     "text": [
      "Training mean loss: 0.5334729353586832\n",
      "Validation mean loss: 0.4338466780526297\n",
      "Training dice 0.7501193284988403\n",
      "Validation Mean Dice: 0.6977185606956482\n",
      "----------\n",
      "epoch 174/200\n"
     ]
    },
    {
     "name": "stderr",
     "output_type": "stream",
     "text": [
      "100%|██████████| 27/27 [00:11<00:00,  2.38it/s]\n",
      "100%|██████████| 7/7 [00:00<00:00, 23.02it/s]\n"
     ]
    },
    {
     "name": "stdout",
     "output_type": "stream",
     "text": [
      "Training mean loss: 0.5320876880928322\n",
      "Validation mean loss: 0.4330726223332541\n",
      "Training dice 0.7483108043670654\n",
      "Validation Mean Dice: 0.7036868333816528\n",
      "----------\n",
      "epoch 175/200\n"
     ]
    },
    {
     "name": "stderr",
     "output_type": "stream",
     "text": [
      "100%|██████████| 27/27 [00:11<00:00,  2.40it/s]\n",
      "100%|██████████| 7/7 [00:00<00:00, 22.93it/s]\n"
     ]
    },
    {
     "name": "stdout",
     "output_type": "stream",
     "text": [
      "Training mean loss: 0.5029811064402262\n",
      "Validation mean loss: 0.43566460268838064\n",
      "Training dice 0.7462552785873413\n",
      "Validation Mean Dice: 0.7036951184272766\n",
      "----------\n",
      "epoch 176/200\n"
     ]
    },
    {
     "name": "stderr",
     "output_type": "stream",
     "text": [
      "100%|██████████| 27/27 [00:11<00:00,  2.38it/s]\n",
      "100%|██████████| 7/7 [00:00<00:00, 23.07it/s]\n"
     ]
    },
    {
     "name": "stdout",
     "output_type": "stream",
     "text": [
      "Training mean loss: 0.4751398127388071\n",
      "Validation mean loss: 0.43478324157851084\n",
      "Training dice 0.7505167722702026\n",
      "Validation Mean Dice: 0.7049320936203003\n",
      "----------\n",
      "epoch 177/200\n"
     ]
    },
    {
     "name": "stderr",
     "output_type": "stream",
     "text": [
      "100%|██████████| 27/27 [00:11<00:00,  2.38it/s]\n",
      "100%|██████████| 7/7 [00:00<00:00, 22.88it/s]\n"
     ]
    },
    {
     "name": "stdout",
     "output_type": "stream",
     "text": [
      "Training mean loss: 0.5131385105627554\n",
      "Validation mean loss: 0.4420446583202907\n",
      "Training dice 0.73451828956604\n",
      "Validation Mean Dice: 0.6980228424072266\n",
      "----------\n",
      "epoch 178/200\n"
     ]
    },
    {
     "name": "stderr",
     "output_type": "stream",
     "text": [
      "100%|██████████| 27/27 [00:11<00:00,  2.37it/s]\n",
      "100%|██████████| 7/7 [00:00<00:00, 21.51it/s]\n"
     ]
    },
    {
     "name": "stdout",
     "output_type": "stream",
     "text": [
      "Training mean loss: 0.4955255013925058\n",
      "Validation mean loss: 0.45379939675331116\n",
      "Training dice 0.7300545573234558\n",
      "Validation Mean Dice: 0.694204568862915\n",
      "----------\n",
      "epoch 179/200\n"
     ]
    },
    {
     "name": "stderr",
     "output_type": "stream",
     "text": [
      "100%|██████████| 27/27 [00:11<00:00,  2.39it/s]\n",
      "100%|██████████| 7/7 [00:00<00:00, 23.34it/s]\n"
     ]
    },
    {
     "name": "stdout",
     "output_type": "stream",
     "text": [
      "Training mean loss: 0.4986007864828463\n",
      "Validation mean loss: 0.4380936750343868\n",
      "Training dice 0.7559814453125\n",
      "Validation Mean Dice: 0.703000545501709\n",
      "----------\n",
      "epoch 180/200\n"
     ]
    },
    {
     "name": "stderr",
     "output_type": "stream",
     "text": [
      "100%|██████████| 27/27 [00:11<00:00,  2.36it/s]\n",
      "100%|██████████| 7/7 [00:00<00:00, 22.95it/s]\n"
     ]
    },
    {
     "name": "stdout",
     "output_type": "stream",
     "text": [
      "Training mean loss: 0.4869106378820207\n",
      "Validation mean loss: 0.43977077518190655\n",
      "Training dice 0.7533533573150635\n",
      "Validation Mean Dice: 0.6999176740646362\n",
      "----------\n",
      "epoch 181/200\n"
     ]
    },
    {
     "name": "stderr",
     "output_type": "stream",
     "text": [
      "100%|██████████| 27/27 [00:15<00:00,  1.76it/s]\n",
      "100%|██████████| 7/7 [00:00<00:00, 15.17it/s]\n"
     ]
    },
    {
     "name": "stdout",
     "output_type": "stream",
     "text": [
      "Training mean loss: 0.5218784610430399\n",
      "Validation mean loss: 0.4518181596483503\n",
      "Training dice 0.7239753603935242\n",
      "Validation Mean Dice: 0.6934834122657776\n",
      "----------\n",
      "epoch 182/200\n"
     ]
    },
    {
     "name": "stderr",
     "output_type": "stream",
     "text": [
      "100%|██████████| 27/27 [00:11<00:00,  2.37it/s]\n",
      "100%|██████████| 7/7 [00:00<00:00, 22.98it/s]\n"
     ]
    },
    {
     "name": "stdout",
     "output_type": "stream",
     "text": [
      "Training mean loss: 0.5026165302152987\n",
      "Validation mean loss: 0.4588495450360434\n",
      "Training dice 0.7524794936180115\n",
      "Validation Mean Dice: 0.6838138103485107\n",
      "----------\n",
      "epoch 183/200\n"
     ]
    },
    {
     "name": "stderr",
     "output_type": "stream",
     "text": [
      "100%|██████████| 27/27 [00:11<00:00,  2.36it/s]\n",
      "100%|██████████| 7/7 [00:00<00:00, 21.90it/s]\n"
     ]
    },
    {
     "name": "stdout",
     "output_type": "stream",
     "text": [
      "Training mean loss: 0.5079223646057976\n",
      "Validation mean loss: 0.44120082684925627\n",
      "Training dice 0.7448114156723022\n",
      "Validation Mean Dice: 0.6999526023864746\n",
      "----------\n",
      "epoch 184/200\n"
     ]
    },
    {
     "name": "stderr",
     "output_type": "stream",
     "text": [
      "100%|██████████| 27/27 [00:11<00:00,  2.34it/s]\n",
      "100%|██████████| 7/7 [00:00<00:00, 21.72it/s]\n"
     ]
    },
    {
     "name": "stdout",
     "output_type": "stream",
     "text": [
      "Training mean loss: 0.4954231447643704\n",
      "Validation mean loss: 0.4443702059132712\n",
      "Training dice 0.7627002596855164\n",
      "Validation Mean Dice: 0.6986941695213318\n",
      "----------\n",
      "epoch 185/200\n"
     ]
    },
    {
     "name": "stderr",
     "output_type": "stream",
     "text": [
      "100%|██████████| 27/27 [00:11<00:00,  2.36it/s]\n",
      "100%|██████████| 7/7 [00:00<00:00, 23.19it/s]\n"
     ]
    },
    {
     "name": "stdout",
     "output_type": "stream",
     "text": [
      "Training mean loss: 0.5146446250103138\n",
      "Validation mean loss: 0.4409354031085968\n",
      "Training dice 0.7316275238990784\n",
      "Validation Mean Dice: 0.7016100883483887\n",
      "----------\n",
      "epoch 186/200\n"
     ]
    },
    {
     "name": "stderr",
     "output_type": "stream",
     "text": [
      "100%|██████████| 27/27 [00:11<00:00,  2.39it/s]\n",
      "100%|██████████| 7/7 [00:00<00:00, 22.67it/s]\n"
     ]
    },
    {
     "name": "stdout",
     "output_type": "stream",
     "text": [
      "Training mean loss: 0.47731701532999676\n",
      "Validation mean loss: 0.42968231439590454\n",
      "Training dice 0.7189260125160217\n",
      "Validation Mean Dice: 0.7096182107925415\n",
      "----------\n",
      "epoch 187/200\n"
     ]
    },
    {
     "name": "stderr",
     "output_type": "stream",
     "text": [
      "100%|██████████| 27/27 [00:11<00:00,  2.35it/s]\n",
      "100%|██████████| 7/7 [00:00<00:00, 22.89it/s]\n"
     ]
    },
    {
     "name": "stdout",
     "output_type": "stream",
     "text": [
      "Training mean loss: 0.5098841057883369\n",
      "Validation mean loss: 0.42859444447926115\n",
      "Training dice 0.7645635604858398\n",
      "Validation Mean Dice: 0.709205150604248\n",
      "----------\n",
      "epoch 188/200\n"
     ]
    },
    {
     "name": "stderr",
     "output_type": "stream",
     "text": [
      "100%|██████████| 27/27 [00:11<00:00,  2.39it/s]\n",
      "100%|██████████| 7/7 [00:00<00:00, 22.46it/s]\n"
     ]
    },
    {
     "name": "stdout",
     "output_type": "stream",
     "text": [
      "Training mean loss: 0.49757944764914336\n",
      "Validation mean loss: 0.4483500974518912\n",
      "Training dice 0.7623025178909302\n",
      "Validation Mean Dice: 0.6983538269996643\n",
      "----------\n",
      "epoch 189/200\n"
     ]
    },
    {
     "name": "stderr",
     "output_type": "stream",
     "text": [
      "100%|██████████| 27/27 [00:11<00:00,  2.38it/s]\n",
      "100%|██████████| 7/7 [00:00<00:00, 23.19it/s]\n"
     ]
    },
    {
     "name": "stdout",
     "output_type": "stream",
     "text": [
      "Training mean loss: 0.47181783782111275\n",
      "Validation mean loss: 0.4309364812714713\n",
      "Training dice 0.7718087434768677\n",
      "Validation Mean Dice: 0.7089954614639282\n",
      "----------\n",
      "epoch 190/200\n"
     ]
    },
    {
     "name": "stderr",
     "output_type": "stream",
     "text": [
      "100%|██████████| 27/27 [00:11<00:00,  2.37it/s]\n",
      "100%|██████████| 7/7 [00:00<00:00, 23.42it/s]\n"
     ]
    },
    {
     "name": "stdout",
     "output_type": "stream",
     "text": [
      "Training mean loss: 0.49975018037690055\n",
      "Validation mean loss: 0.4447327298777444\n",
      "Training dice 0.7581771612167358\n",
      "Validation Mean Dice: 0.6978698968887329\n",
      "----------\n",
      "epoch 191/200\n"
     ]
    },
    {
     "name": "stderr",
     "output_type": "stream",
     "text": [
      "100%|██████████| 27/27 [00:11<00:00,  2.35it/s]\n",
      "100%|██████████| 7/7 [00:00<00:00, 23.14it/s]\n"
     ]
    },
    {
     "name": "stdout",
     "output_type": "stream",
     "text": [
      "Training mean loss: 0.5000781450006697\n",
      "Validation mean loss: 0.43810691578047617\n",
      "Training dice 0.7265387177467346\n",
      "Validation Mean Dice: 0.7036573886871338\n",
      "----------\n",
      "epoch 192/200\n"
     ]
    },
    {
     "name": "stderr",
     "output_type": "stream",
     "text": [
      "100%|██████████| 27/27 [00:11<00:00,  2.35it/s]\n",
      "100%|██████████| 7/7 [00:00<00:00, 22.27it/s]\n"
     ]
    },
    {
     "name": "stdout",
     "output_type": "stream",
     "text": [
      "Training mean loss: 0.4788525468773312\n",
      "Validation mean loss: 0.44846150279045105\n",
      "Training dice 0.7651647925376892\n",
      "Validation Mean Dice: 0.6931552290916443\n",
      "----------\n",
      "epoch 193/200\n"
     ]
    },
    {
     "name": "stderr",
     "output_type": "stream",
     "text": [
      "100%|██████████| 27/27 [00:11<00:00,  2.41it/s]\n",
      "100%|██████████| 7/7 [00:00<00:00, 22.35it/s]\n"
     ]
    },
    {
     "name": "stdout",
     "output_type": "stream",
     "text": [
      "Training mean loss: 0.497397729644069\n",
      "Validation mean loss: 0.4388407255922045\n",
      "Training dice 0.7410851716995239\n",
      "Validation Mean Dice: 0.7008945345878601\n",
      "----------\n",
      "epoch 194/200\n"
     ]
    },
    {
     "name": "stderr",
     "output_type": "stream",
     "text": [
      "100%|██████████| 27/27 [00:11<00:00,  2.39it/s]\n",
      "100%|██████████| 7/7 [00:00<00:00, 22.44it/s]\n"
     ]
    },
    {
     "name": "stdout",
     "output_type": "stream",
     "text": [
      "Training mean loss: 0.5073571172025468\n",
      "Validation mean loss: 0.4380479156970978\n",
      "Training dice 0.7091975808143616\n",
      "Validation Mean Dice: 0.7002366781234741\n",
      "----------\n",
      "epoch 195/200\n"
     ]
    },
    {
     "name": "stderr",
     "output_type": "stream",
     "text": [
      "100%|██████████| 27/27 [00:11<00:00,  2.40it/s]\n",
      "100%|██████████| 7/7 [00:00<00:00, 23.17it/s]\n"
     ]
    },
    {
     "name": "stdout",
     "output_type": "stream",
     "text": [
      "Training mean loss: 0.48817879403078995\n",
      "Validation mean loss: 0.44402854783194406\n",
      "Training dice 0.7595502138137817\n",
      "Validation Mean Dice: 0.700198233127594\n",
      "----------\n",
      "epoch 196/200\n"
     ]
    },
    {
     "name": "stderr",
     "output_type": "stream",
     "text": [
      "100%|██████████| 27/27 [00:11<00:00,  2.37it/s]\n",
      "100%|██████████| 7/7 [00:00<00:00, 23.20it/s]\n"
     ]
    },
    {
     "name": "stdout",
     "output_type": "stream",
     "text": [
      "Training mean loss: 0.47202340099546647\n",
      "Validation mean loss: 0.45130630901881624\n",
      "Training dice 0.7556662559509277\n",
      "Validation Mean Dice: 0.6935378909111023\n",
      "----------\n",
      "epoch 197/200\n"
     ]
    },
    {
     "name": "stderr",
     "output_type": "stream",
     "text": [
      "100%|██████████| 27/27 [00:11<00:00,  2.36it/s]\n",
      "100%|██████████| 7/7 [00:00<00:00, 23.20it/s]\n"
     ]
    },
    {
     "name": "stdout",
     "output_type": "stream",
     "text": [
      "Training mean loss: 0.50393514279966\n",
      "Validation mean loss: 0.43757839288030353\n",
      "Training dice 0.7599745988845825\n",
      "Validation Mean Dice: 0.7023075819015503\n",
      "----------\n",
      "epoch 198/200\n"
     ]
    },
    {
     "name": "stderr",
     "output_type": "stream",
     "text": [
      "100%|██████████| 27/27 [00:11<00:00,  2.29it/s]\n",
      "100%|██████████| 7/7 [00:00<00:00, 22.01it/s]\n"
     ]
    },
    {
     "name": "stdout",
     "output_type": "stream",
     "text": [
      "Training mean loss: 0.49145763119061786\n",
      "Validation mean loss: 0.4201760377202715\n",
      "Training dice 0.7408268451690674\n",
      "Validation Mean Dice: 0.7173770070075989\n",
      "----------\n",
      "epoch 199/200\n"
     ]
    },
    {
     "name": "stderr",
     "output_type": "stream",
     "text": [
      "100%|██████████| 27/27 [00:11<00:00,  2.38it/s]\n",
      "100%|██████████| 7/7 [00:00<00:00, 23.30it/s]\n"
     ]
    },
    {
     "name": "stdout",
     "output_type": "stream",
     "text": [
      "Training mean loss: 0.5236242413520813\n",
      "Validation mean loss: 0.42747107573917936\n",
      "Training dice 0.7267312407493591\n",
      "Validation Mean Dice: 0.7096487283706665\n",
      "----------\n",
      "epoch 200/200\n"
     ]
    },
    {
     "name": "stderr",
     "output_type": "stream",
     "text": [
      "100%|██████████| 27/27 [00:11<00:00,  2.37it/s]\n",
      "100%|██████████| 7/7 [00:00<00:00, 23.21it/s]"
     ]
    },
    {
     "name": "stdout",
     "output_type": "stream",
     "text": [
      "Training mean loss: 0.49061982057712694\n",
      "Validation mean loss: 0.4306509494781494\n",
      "Training dice 0.725750744342804\n",
      "Validation Mean Dice: 0.7051388621330261\n"
     ]
    },
    {
     "name": "stderr",
     "output_type": "stream",
     "text": [
      "\n"
     ]
    }
   ],
   "source": [
    "import gc\n",
    "from monai.inferers import sliding_window_inference\n",
    "from tqdm import tqdm\n",
    "from collections import defaultdict\n",
    "loss_function = DiceCELoss(to_onehot_y=True, softmax=True)\n",
    "optimizer = torch.optim.Adam(model.parameters())\n",
    "#loss_function = FocalLoss(include_background=True, to_onehot_y=True, weight=class_weights_tensor)\n",
    "#optimizer = torch.optim.Adam(model.parameters())\n",
    "#adamW\n",
    "dice_metric = DiceMetric(include_background=True, reduction=\"mean\")\n",
    "max_epochs = 200\n",
    "post_label = AsDiscrete(to_onehot=3)\n",
    "post_pred = AsDiscrete(argmax=True, to_onehot=3)\n",
    "\n",
    "print(f\"Training: {model_name}\")\n",
    "\n",
    "training_loss_pr_epoch = []\n",
    "validation_loss_pr_epoch = []\n",
    "dice_metric_pr_epoch = []\n",
    "\n",
    "for epoch in range(max_epochs):\n",
    "        \n",
    "        torch.cuda.empty_cache()\n",
    "        gc.collect()\n",
    "\n",
    "        print(\"-\" * 10)\n",
    "        print(f\"epoch {epoch + 1}/{max_epochs}\")\n",
    "        model.train()\n",
    "        training_losses = []\n",
    "        unique_labels_dict = defaultdict(int)\n",
    "        \n",
    "        for batch_data in tqdm(train_dataloader):\n",
    "            images, labels = batch_data[\"image\"].to(device), batch_data[\"label\"].to(device)\n",
    "            optimizer.zero_grad()\n",
    "            outputs = model(images)\n",
    "            \n",
    "            val_labels_list = decollate_batch(labels)\n",
    "            val_labels_convert = [post_label(val_label_tensor) for val_label_tensor in val_labels_list]\n",
    "            val_outputs_list = decollate_batch(outputs)\n",
    "            val_output_convert = [post_pred(val_pred_tensor) for val_pred_tensor in val_outputs_list]\n",
    "            \n",
    "            \n",
    "            loss = loss_function(outputs, labels)\n",
    "            loss.backward()\n",
    "            optimizer.step()\n",
    "            training_losses.append(loss.item())\n",
    "            \n",
    "            dice_metric(y_pred=val_output_convert, y=val_labels_convert)\n",
    "        training_dice = dice_metric.aggregate().item()\n",
    "        dice_metric.reset()\n",
    "\n",
    "        validation_losses = []\n",
    "        model.eval()\n",
    "        unique_labels_dict_val = defaultdict(int)\n",
    "        with torch.no_grad():\n",
    "            dice_scores = []\n",
    "            for batch in tqdm(val_dataloader):\n",
    "                images, labels = batch[\"image\"].to(device), batch[\"label\"].to(device)\n",
    "                \n",
    "                outputs = model(images)\n",
    "                \n",
    "                # Calculate loss\n",
    "                loss = loss_function(outputs, labels)\n",
    "                validation_losses.append(loss.item())\n",
    "                \n",
    "                #segmentation guide\n",
    "                val_labels_list = decollate_batch(labels)\n",
    "                val_labels_convert = [post_label(val_label_tensor) for val_label_tensor in val_labels_list]\n",
    "                val_outputs_list = decollate_batch(outputs)\n",
    "                val_output_convert = [post_pred(val_pred_tensor) for val_pred_tensor in val_outputs_list]\n",
    "                \n",
    "                dice_metric(y_pred=val_output_convert, y=val_labels_convert)\n",
    "            validation_dice = dice_metric.aggregate().item()\n",
    "            dice_metric.reset()\n",
    "            dice_metric_pr_epoch.append(validation_dice)\n",
    "\n",
    "\n",
    "        training_loss_pr_epoch.append(np.mean(training_losses))\n",
    "        validation_loss_pr_epoch.append(np.mean(validation_losses))\n",
    "        print(f\"Training mean loss: {np.mean(training_losses)}\")\n",
    "        print(f\"Validation mean loss: {np.mean(validation_losses)}\")\n",
    "        print(f\"Training dice {training_dice}\")\n",
    "        print(f\"Validation Mean Dice: {validation_dice}\")"
   ]
  },
  {
   "cell_type": "code",
   "execution_count": 72,
   "metadata": {},
   "outputs": [],
   "source": [
    "torch.save(model.state_dict(), \"model_weights.pth\")"
   ]
  },
  {
   "cell_type": "code",
   "execution_count": null,
   "metadata": {},
   "outputs": [],
   "source": [
    "\"\"\"\n",
    "def train(model, device, train_loader, optimizer, epoch, max_epochs):\n",
    "    torch.cuda.empty_cache()\n",
    "    gc.collect()\n",
    "    epoch_loss = []\n",
    "    correct = 0\n",
    "    total = 0\n",
    "    #print(\"-\" * 10)\n",
    "    #print(f\"epoch {epoch + 1}/{max_epochs}\")\n",
    "    model.train()\n",
    "\n",
    "    training_losses = []\n",
    "    for batch_data in train_loader:\n",
    "        images, labels = batch_data[\"image\"].to(device), batch_data[\"label\"].to(device)\n",
    "        optimizer.zero_grad()\n",
    "        outputs = model(images)\n",
    "        #l = np.argmax(outputs[0], axis=0)\n",
    "        #print(np.unique(l))\n",
    "        loss = loss_function(outputs, labels)\n",
    "        loss.backward()\n",
    "        optimizer.step()\n",
    "        epoch_loss.append(loss.item())\n",
    "        training_losses.append(loss.item())\n",
    "        total += 1\n",
    "    return training_losses\n",
    "\"\"\""
   ]
  },
  {
   "cell_type": "code",
   "execution_count": null,
   "metadata": {},
   "outputs": [],
   "source": [
    "\"\"\"\n",
    "def evaluate(model, device, val_loader, optimizer):\n",
    "    validation_losses = []\n",
    "    model.eval()\n",
    "    with torch.no_grad():\n",
    "        dice_scores = []\n",
    "        for batch in val_loader:\n",
    "            images, labels = batch[\"image\"].to(device), batch[\"label\"].to(device)\n",
    "            outputs = model(images)\n",
    "            loss = loss_function(outputs, labels)\n",
    "            #print(f\"Validation loss: {loss}\")\n",
    "            validation_losses.append(loss.item())\n",
    "            dice_metric(y_pred=outputs, y=labels)\n",
    "        mean_dice = dice_metric.aggregate().item()\n",
    "    return np.mean(validation_losses), mean_dice\n",
    "\"\"\""
   ]
  },
  {
   "cell_type": "code",
   "execution_count": null,
   "metadata": {},
   "outputs": [],
   "source": [
    "\"\"\"\n",
    "from sklearn.model_selection import KFold\n",
    "from torch.utils.data import DataLoader, SubsetRandomSampler\n",
    "\n",
    "splits = 5\n",
    "kf = KFold(n_splits=splits, shuffle=True, random_state=42)\n",
    "grid_crop_x_y = [64, 128, 256]\n",
    "grid_crop_z = [16, 32]\n",
    "\n",
    "for x in grid_crop_x_y:\n",
    "    for y in grid_crop_x_y:\n",
    "        for z in grid_crop_z:\n",
    "            \n",
    "            fold_val_loss = []\n",
    "            fold_dice_loss = []\n",
    "            \n",
    "\n",
    "            train_transforms = Compose(\n",
    "                 [\n",
    "                    LoadImaged(keys=[\"image\", \"label\"]),\n",
    "                    EnsureChannelFirstd(keys=[\"image\", \"label\"]),\n",
    "                    RandSpatialCropd(\n",
    "                        keys=[\"image\", \"label\"],\n",
    "                        roi_size = [x, y, z],\n",
    "                        random_center = True,\n",
    "                        random_size = False\n",
    "                    ),\n",
    "                    AsDiscreted(keys=[\"label\"], to_onehot=3),\n",
    "                    ToTensord(keys=[\"image\", \"label\"])\n",
    "                ]\n",
    "            )\n",
    "            \n",
    "            train_ds = CacheDataset(data=training_data, transform=train_transforms, cache_rate=1.0)\n",
    "            \n",
    "            fold_val_loss = []\n",
    "            fold_dice_metric = []\n",
    "            \n",
    "            for fold, (train_idx, val_idx) in enumerate(kf.split(train_ds)):\n",
    "                max_epochs = 10\n",
    "\n",
    "\n",
    "                train_sampler = SubsetRandomSampler(train_idx)\n",
    "                val_sampler = SubsetRandomSampler(val_idx)\n",
    "\n",
    "                train_loader = DataLoader(\n",
    "                    dataset=train_ds,\n",
    "                    sampler=train_sampler,\n",
    "                    batch_size=4,\n",
    "                )\n",
    "\n",
    "                val_loader = DataLoader(\n",
    "                    dataset=train_ds,\n",
    "                    sampler=val_sampler,\n",
    "                    batch_size=4,\n",
    "                )\n",
    "\n",
    "                model = UNet(\n",
    "                    spatial_dims=3,\n",
    "                    in_channels=1,\n",
    "                    out_channels=3,\n",
    "                    channels=(16, 32, 64, 128, 256),\n",
    "                    strides=(2, 2, 2, 2),\n",
    "                ).to(device)\n",
    "\n",
    "                optimizer = torch.optim.Adam(model.parameters())\n",
    "                dice_metric = DiceMetric(include_background=True, reduction=\"mean\")\n",
    "                \n",
    "                for epoch in range(max_epochs):   \n",
    "                    _ = train(model, device, train_loader, optimizer, epoch, max_epochs)\n",
    "                mean_validation_loss, mean_dice = evaluate(model, device, val_loader, optimizer)\n",
    "\n",
    "                fold_val_loss.append(mean_validation_loss)\n",
    "                fold_dice_metric.append(mean_dice)\n",
    "                \n",
    "            mean_val_loss = np.mean(fold_val_loss)\n",
    "            mean_dice_metric = np.mean(fold_dice_metric)\n",
    "            \n",
    "            print(\"-------\")\n",
    "            print(f\"{splits} fold cross validation for x={x}, y={y}, z={z}\")\n",
    "            print(f\"Mean validation loss across folds: {mean_val_loss}\")\n",
    "            print(f\"Mean dice metric: {mean_dice_metric}\")\n",
    "\"\"\""
   ]
  },
  {
   "cell_type": "markdown",
   "metadata": {},
   "source": [
    "## Inspect slices of images"
   ]
  },
  {
   "cell_type": "code",
   "execution_count": 177,
   "metadata": {},
   "outputs": [
    {
     "name": "stdout",
     "output_type": "stream",
     "text": [
      "Unique values: [0]\n",
      "Counts: [3145728]\n"
     ]
    }
   ],
   "source": [
    "image = train_ds[2][\"image\"]\n",
    "label = val_ds[5][\"label\"]\n",
    "image_with_batch = np.expand_dims(image, axis=0)\n",
    "image_with_batch = torch.from_numpy(image_with_batch).float()\n",
    "label_remove_one_hot = np.argmax(label, axis=0)\n",
    "\n",
    "unique_values, counts = np.unique(label_remove_one_hot, return_counts=True)\n",
    "\n",
    "# Print the unique values and their counts\n",
    "print(f\"Unique values: {unique_values}\")\n",
    "print(f\"Counts: {counts}\")"
   ]
  },
  {
   "cell_type": "code",
   "execution_count": 178,
   "metadata": {},
   "outputs": [
    {
     "data": {
      "text/plain": [
       "<matplotlib.image.AxesImage at 0x14cf8aa5c280>"
      ]
     },
     "execution_count": 178,
     "metadata": {},
     "output_type": "execute_result"
    },
    {
     "data": {
      "image/png": "[encoded data removed]",
      "text/plain": [
       "<Figure size 640x480 with 1 Axes>"
      ]
     },
     "metadata": {},
     "output_type": "display_data"
    }
   ],
   "source": [
    "image_vis = np.squeeze(image, axis=0)\n",
    "plt.imshow(image_vis[:, :, 10], cmap='gray')"
   ]
  },
  {
   "cell_type": "code",
   "execution_count": 71,
   "metadata": {},
   "outputs": [
    {
     "name": "stdout",
     "output_type": "stream",
     "text": [
      "[0 2]\n",
      "(array([ 1,  1,  1, 19, 20, 21]), array([45, 47, 49,  1,  7,  1]), array([ 7,  7,  7, 15, 15, 15]))\n"
     ]
    }
   ],
   "source": [
    "image_with_batch = image_with_batch.to(device)\n",
    "\n",
    "\n",
    "model.eval()\n",
    "with torch.no_grad():  \n",
    "    output = model(image_with_batch)\n",
    "    output = output.cpu().numpy()\n",
    "output_label_vis = np.squeeze(output, axis=0)\n",
    "output_remove_one_hot = np.argmax(output_label_vis, axis=0)\n",
    "print(np.unique(output_remove_one_hot))\n",
    "positions = np.where(output_remove_one_hot == 2)\n",
    "print(positions)"
   ]
  },
  {
   "cell_type": "code",
   "execution_count": 74,
   "metadata": {},
   "outputs": [
    {
     "data": {
      "image/png": "[encoded data removed]",
      "text/plain": [
       "<Figure size 1000x1000 with 2 Axes>"
      ]
     },
     "metadata": {},
     "output_type": "display_data"
    }
   ],
   "source": [
    "import matplotlib.pyplot as plt\n",
    "layer=3\n",
    "\n",
    "\n",
    "plt.figure(figsize=(10, 10))\n",
    "plt.subplot(2, 2, 1)  \n",
    "plt.title(\"Ground Truth\")\n",
    "plt.imshow(label_remove_one_hot[:, :, layer], cmap='gray')\n",
    "plt.axis('off') \n",
    "\n",
    "plt.subplot(2, 2, 2) \n",
    "plt.title(\"Model Output\")\n",
    "plt.imshow(output_remove_one_hot[:, :, layer], cmap='gray')\n",
    "plt.axis('off') \n",
    "\n",
    "plt.tight_layout() \n",
    "plt.show()\n"
   ]
  }
 ],
 "metadata": {
  "kernelspec": {
   "display_name": "Python 3 (ipykernel)",
   "language": "python",
   "name": "python3"
  },
  "language_info": {
   "codemirror_mode": {
    "name": "ipython",
    "version": 3
   },
   "file_extension": ".py",
   "mimetype": "text/x-python",
   "name": "python",
   "nbconvert_exporter": "python",
   "pygments_lexer": "ipython3",
   "version": "3.9.13"
  }
 },
 "nbformat": 4,
 "nbformat_minor": 2
}
