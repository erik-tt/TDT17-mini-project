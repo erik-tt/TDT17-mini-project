{
 "cells": [
  {
   "cell_type": "markdown",
   "metadata": {},
   "source": [
    "# Task 1: preRT segmentation"
   ]
  },
  {
   "cell_type": "code",
   "execution_count": null,
   "metadata": {},
   "outputs": [],
   "source": [
    "import numpy as np\n",
    "import matplotlib.pyplot as plt\n",
    "from monai.transforms import LoadImage\n",
    "from monai.data import Dataset, DataLoader, ThreadDataLoader, CacheDataset, decollate_batch\n",
    "from monai.losses import DiceLoss, DiceCELoss, FocalLoss\n",
    "from monai.metrics import DiceMetric\n",
    "from monai.networks.nets import UNet, SwinUNETR, BasicUNetPlusPlus, SegResNet, resnet152, UNETR\n",
    "from monai.utils import set_determinism\n",
    "import os.path\n",
    "import random\n",
    "import torch\n",
    "\n",
    "from monai.transforms import (\n",
    "    Compose,\n",
    "    LoadImaged,\n",
    "    Compose,\n",
    "    LoadImaged,\n",
    "    RandSpatialCropd,\n",
    "    EnsureChannelFirstd,\n",
    "    ToTensord,\n",
    "    Resized,\n",
    "    AsDiscreted,\n",
    "    RandFlipd,\n",
    "    CropForegroundd,\n",
    "    NormalizeIntensityd,\n",
    "    Spacingd,\n",
    "    AsDiscrete,\n",
    "    CenterSpatialCropd,\n",
    "    EnsureTyped\n",
    ")"
   ]
  },
  {
   "cell_type": "code",
   "execution_count": null,
   "metadata": {},
   "outputs": [],
   "source": [
    "data_path = \"/cluster/projects/vc/data/mic/open/HNTS-MRG/train/\""
   ]
  },
  {
   "cell_type": "code",
   "execution_count": null,
   "metadata": {},
   "outputs": [],
   "source": [
    "data_preRT = []\n",
    "for patient_num in os.listdir(data_path):\n",
    "    patient = f\"{data_path}{patient_num}\"\n",
    "    image = f\"{patient}/preRT/{patient_num}_preRT_T2.nii.gz\"\n",
    "    mask = f\"{patient}/preRT/{patient_num}_preRT_mask.nii.gz\"\n",
    "    \n",
    "    data_preRT.append({\"image\": image, \"label\": mask})\n",
    "\n",
    "print(len(data_preRT))"
   ]
  },
  {
   "cell_type": "code",
   "execution_count": null,
   "metadata": {},
   "outputs": [],
   "source": [
    "set_determinism(seed=1)\n",
    "\n",
    "training_data = data_preRT[:105]\n",
    "validation_data = data_preRT[105:]\n",
    "roi = (256, 256, 32)\n",
    "\n",
    "train_transforms = Compose(\n",
    "     [\n",
    "        LoadImaged(keys=[\"image\", \"label\"]),\n",
    "        EnsureTyped(keys=[\"image\", \"label\"]),\n",
    "        EnsureChannelFirstd(keys=[\"image\", \"label\"]),\n",
    "        RandSpatialCropd(\n",
    "            keys=[\"image\", \"label\"],\n",
    "            roi_size = [roi[0], roi[1], roi[2]],\n",
    "            random_center = True,\n",
    "            random_size = False\n",
    "            ),\n",
    "        RandFlipd(keys=[\"image\", \"label\"], prob=0.5, spatial_axis=0),\n",
    "        RandFlipd(keys=[\"image\", \"label\"], prob=0.5, spatial_axis=1),\n",
    "        RandFlipd(keys=[\"image\", \"label\"], prob=0.5, spatial_axis=2),\n",
    "        NormalizeIntensityd(keys=\"image\", nonzero=True, channel_wise=True),\n",
    "        ToTensord(keys=[\"image\", \"label\"])\n",
    "    ]\n",
    ")\n",
    "\n",
    "val_transforms = Compose(\n",
    "     [\n",
    "        LoadImaged(keys=[\"image\", \"label\"]),\n",
    "        EnsureTyped(keys=[\"image\", \"label\"]),\n",
    "        EnsureChannelFirstd(keys=[\"image\", \"label\"]),\n",
    "        NormalizeIntensityd(keys=\"image\", nonzero=True, channel_wise=True),\n",
    "        ToTensord(keys=[\"image\", \"label\"])\n",
    "    ]\n",
    ")"
   ]
  },
  {
   "cell_type": "code",
   "execution_count": null,
   "metadata": {},
   "outputs": [],
   "source": [
    "train_ds = CacheDataset(data=training_data, transform=train_transforms, cache_rate=1.0)\n",
    "val_ds = CacheDataset(data=validation_data, transform=val_transforms, cache_rate=1.0)"
   ]
  },
  {
   "cell_type": "code",
   "execution_count": null,
   "metadata": {},
   "outputs": [],
   "source": [
    "train_dataloader = DataLoader(train_ds, batch_size=2, shuffle=True, num_workers=0)\n",
    "val_dataloader = DataLoader(val_ds, batch_size=1, shuffle=False, num_workers=0)"
   ]
  },
  {
   "cell_type": "code",
   "execution_count": null,
   "metadata": {},
   "outputs": [],
   "source": [
    "device = torch.device(\"cuda\" if torch.cuda.is_available() else \"cpu\")\n",
    "model = None"
   ]
  },
  {
   "cell_type": "markdown",
   "metadata": {},
   "source": [
    "## Choose a model"
   ]
  },
  {
   "cell_type": "code",
   "execution_count": null,
   "metadata": {},
   "outputs": [],
   "source": [
    "#Run this cell for UNet\n",
    "model = UNet(\n",
    "    spatial_dims=3,\n",
    "    in_channels=1,\n",
    "    out_channels=3,\n",
    "    channels=(16,32,64,128,256),\n",
    "    strides=(2, 2, 2, 2),\n",
    ").to(device)\n",
    "\n",
    "model_name = \"U-Net\""
   ]
  },
  {
   "cell_type": "code",
   "execution_count": null,
   "metadata": {},
   "outputs": [],
   "source": [
    "model = SwinUNETR(\n",
    "    img_size = roi,\n",
    "    in_channels=1,\n",
    "    out_channels=3,\n",
    ").to(device)\n",
    "\n",
    "model_name = \"Swin-UNet\""
   ]
  },
  {
   "cell_type": "code",
   "execution_count": null,
   "metadata": {},
   "outputs": [],
   "source": [
    "model = BasicUNetPlusPlus(\n",
    "    spatial_dims=3,\n",
    "    in_channels=1,\n",
    "    out_channels=3,\n",
    ")\n",
    "\n",
    "model_name = \"Basic U-Net++\""
   ]
  },
  {
   "cell_type": "code",
   "execution_count": null,
   "metadata": {},
   "outputs": [],
   "source": [
    "model = SegResNet(\n",
    "    blocks_down=[1, 2, 2, 4],\n",
    "    blocks_up=[1, 1, 1],\n",
    "    init_filters=16,\n",
    "    in_channels=1,\n",
    "    out_channels=3,\n",
    "    dropout_prob=0.2,\n",
    ").to(device)\n",
    "\n",
    "model_name = \"SegResNet\""
   ]
  },
  {
   "cell_type": "markdown",
   "metadata": {},
   "source": [
    "## Run weighted loss\n",
    "Based on this paper https://arxiv.org/pdf/1901.05555"
   ]
  },
  {
   "cell_type": "code",
   "execution_count": null,
   "metadata": {},
   "outputs": [],
   "source": [
    "from collections import Counter\n",
    "\n",
    "class_counts = Counter()\n",
    "\n",
    "for idx in range(len(train_ds)):\n",
    "    label = train_ds[idx][\"label\"]\n",
    "\n",
    "    if label.ndim > 1 and label.shape[0] > 1:  \n",
    "        label = np.argmax(label, axis=0)\n",
    "    unique_values, counts = np.unique(label, return_counts=True)\n",
    "    class_counts.update(dict(zip(unique_values, counts)))\n",
    "\n",
    "class_counts = np.array([class_counts.get(cls, 0) for cls in range(3)])\n",
    "class_counts = class_counts / class_counts.min()\n",
    "print(f\"Class counts: {class_counts}\")\n"
   ]
  },
  {
   "cell_type": "code",
   "execution_count": null,
   "metadata": {},
   "outputs": [],
   "source": [
    "beta = 0.99\n",
    "effective_num = (1 - np.power(beta, class_counts)) / (1 - beta)\n",
    "\n",
    "class_weights = 1.0 / effective_num\n",
    "\n",
    "class_weights = class_weights / np.sum(class_weights)\n",
    "\n",
    "class_weights_tensor = torch.tensor(class_weights).float().to(device)\n",
    "print(class_weights_tensor)"
   ]
  },
  {
   "cell_type": "markdown",
   "metadata": {},
   "source": [
    "## Load model weights"
   ]
  },
  {
   "cell_type": "code",
   "execution_count": null,
   "metadata": {},
   "outputs": [],
   "source": [
    "# Step 2: Load the state dictionary\n",
    "state_dict = torch.load(\"model_weights.pth\")\n",
    "\n",
    "# Step 3: Load the weights into the model\n",
    "model.load_state_dict(state_dict)"
   ]
  },
  {
   "cell_type": "markdown",
   "metadata": {},
   "source": [
    "## Train the model"
   ]
  },
  {
   "cell_type": "code",
   "execution_count": null,
   "metadata": {},
   "outputs": [],
   "source": [
    "import gc\n",
    "from monai.inferers import sliding_window_inference\n",
    "from tqdm import tqdm\n",
    "from collections import defaultdict\n",
    "import time\n",
    "loss_function = DiceCELoss(to_onehot_y=True, softmax=True)\n",
    "optimizer = torch.optim.Adam(model.parameters())\n",
    "#loss_function = FocalLoss(include_background=True, to_onehot_y=True, weight=class_weights_tensor)\n",
    "#optimizer = torch.optim.Adam(model.parameters())\n",
    "#adamW\n",
    "dice_metric = DiceMetric(include_background=True, reduction=\"mean\")\n",
    "max_epochs = 200\n",
    "post_label = AsDiscrete(to_onehot=3)\n",
    "post_pred = AsDiscrete(argmax=True, to_onehot=3)\n",
    "\n",
    "print(f\"Training: {model_name}\")\n",
    "\n",
    "training_loss_pr_epoch = []\n",
    "validation_loss_pr_epoch = []\n",
    "dice_metric_pr_epoch = []\n",
    "training_dice_pr_epoch = []\n",
    "\n",
    "start = time.time()\n",
    "\n",
    "for epoch in range(max_epochs):\n",
    "        \n",
    "        torch.cuda.empty_cache()\n",
    "        gc.collect()\n",
    "\n",
    "        print(\"-\" * 10)\n",
    "        print(f\"epoch {epoch + 1}/{max_epochs}\")\n",
    "        model.train()\n",
    "        training_losses = []\n",
    "        unique_labels_dict = defaultdict(int)\n",
    "        \n",
    "        for batch_data in tqdm(train_dataloader):\n",
    "            images, labels = batch_data[\"image\"].to(device), batch_data[\"label\"].to(device)\n",
    "            optimizer.zero_grad()\n",
    "            outputs = model(images)\n",
    "            \n",
    "            val_labels_list = decollate_batch(labels)\n",
    "            val_labels_convert = [post_label(val_label_tensor) for val_label_tensor in val_labels_list]\n",
    "            val_outputs_list = decollate_batch(outputs)\n",
    "            val_output_convert = [post_pred(val_pred_tensor) for val_pred_tensor in val_outputs_list]\n",
    "            \n",
    "            \n",
    "            loss = loss_function(outputs, labels)\n",
    "            loss.backward()\n",
    "            optimizer.step()\n",
    "            training_losses.append(loss.item())\n",
    "            \n",
    "            dice_metric(y_pred=val_output_convert, y=val_labels_convert)\n",
    "        training_dice = dice_metric.aggregate().item()\n",
    "        training_dice_pr_epoch.append(training_dice)\n",
    "        dice_metric.reset()\n",
    "\n",
    "        validation_losses = []\n",
    "        model.eval()\n",
    "        unique_labels_dict_val = defaultdict(int)\n",
    "        with torch.no_grad():\n",
    "            dice_scores = []\n",
    "            for batch in tqdm(val_dataloader):\n",
    "                images, labels = batch[\"image\"].to(device), batch[\"label\"].to(device)\n",
    "                \n",
    "                outputs = sliding_window_inference(\n",
    "                    images,                      \n",
    "                    roi_size=(roi[0], roi[1], roi[2]),     \n",
    "                    sw_batch_size=4,             \n",
    "                    predictor=model,            \n",
    "                    overlap=0.5                \n",
    "                )\n",
    "                \n",
    "                loss = loss_function(outputs, labels)\n",
    "                validation_losses.append(loss.item())\n",
    "                \n",
    "                #segmentation guide\n",
    "                val_labels_list = decollate_batch(labels)\n",
    "                val_labels_convert = [post_label(val_label_tensor) for val_label_tensor in val_labels_list]\n",
    "                val_outputs_list = decollate_batch(outputs)\n",
    "                val_output_convert = [post_pred(val_pred_tensor) for val_pred_tensor in val_outputs_list]\n",
    "                \n",
    "                dice_metric(y_pred=val_output_convert, y=val_labels_convert)\n",
    "            validation_dice = dice_metric.aggregate().item()\n",
    "            dice_metric.reset()\n",
    "            dice_metric_pr_epoch.append(validation_dice)\n",
    "\n",
    "\n",
    "        training_loss_pr_epoch.append(np.mean(training_losses))\n",
    "        validation_loss_pr_epoch.append(np.mean(validation_losses))\n",
    "        print(f\"Training mean loss: {np.mean(training_losses)}\")\n",
    "        print(f\"Validation mean loss: {np.mean(validation_losses)}\")\n",
    "        print(f\"Training dice {training_dice}\")\n",
    "        print(f\"Validation Mean Dice: {validation_dice}\")\n",
    "\n",
    "end = time.time()\n",
    "print(f\"{max_epochs} took {start - end} time.\")"
   ]
  },
  {
   "cell_type": "code",
   "execution_count": null,
   "metadata": {},
   "outputs": [],
   "source": [
    "save_name = f\"{model_name} {len(training_dice_pr_epoch)}\"\n",
    "torch.save(model.state_dict(), save_name)"
   ]
  },
  {
   "cell_type": "markdown",
   "metadata": {},
   "source": [
    "## Cross validation code\n",
    "Was used for exploration of hyperparameters"
   ]
  },
  {
   "cell_type": "code",
   "execution_count": null,
   "metadata": {},
   "outputs": [],
   "source": [
    "\n",
    "def train(model, device, train_loader, optimizer, epoch, max_epochs):\n",
    "    torch.cuda.empty_cache()\n",
    "    gc.collect()\n",
    "    epoch_loss = []\n",
    "    correct = 0\n",
    "    total = 0\n",
    "    #print(\"-\" * 10)\n",
    "    #print(f\"epoch {epoch + 1}/{max_epochs}\")\n",
    "    model.train()\n",
    "\n",
    "    training_losses = []\n",
    "    for batch_data in train_loader:\n",
    "        images, labels = batch_data[\"image\"].to(device), batch_data[\"label\"].to(device)\n",
    "        optimizer.zero_grad()\n",
    "        outputs = model(images)\n",
    "        #l = np.argmax(outputs[0], axis=0)\n",
    "        #print(np.unique(l))\n",
    "        loss = loss_function(outputs, labels)\n",
    "        loss.backward()\n",
    "        optimizer.step()\n",
    "        epoch_loss.append(loss.item())\n",
    "        training_losses.append(loss.item())\n",
    "        total += 1\n",
    "    return training_losses\n"
   ]
  },
  {
   "cell_type": "code",
   "execution_count": null,
   "metadata": {},
   "outputs": [],
   "source": [
    "\n",
    "def evaluate(model, device, val_loader, optimizer):\n",
    "    validation_losses = []\n",
    "    model.eval()\n",
    "    with torch.no_grad():\n",
    "        dice_scores = []\n",
    "        for batch in val_loader:\n",
    "            images, labels = batch[\"image\"].to(device), batch[\"label\"].to(device)\n",
    "            outputs = model(images)\n",
    "            loss = loss_function(outputs, labels)\n",
    "            #print(f\"Validation loss: {loss}\")\n",
    "            validation_losses.append(loss.item())\n",
    "            dice_metric(y_pred=outputs, y=labels)\n",
    "        mean_dice = dice_metric.aggregate().item()\n",
    "    return np.mean(validation_losses), mean_dice\n"
   ]
  },
  {
   "cell_type": "code",
   "execution_count": null,
   "metadata": {},
   "outputs": [],
   "source": [
    "from sklearn.model_selection import KFold\n",
    "from torch.utils.data import DataLoader, SubsetRandomSampler\n",
    "\n",
    "splits = 5\n",
    "kf = KFold(n_splits=splits, shuffle=True, random_state=42)\n",
    "grid_crop_x_y = [64, 128, 256]\n",
    "grid_crop_z = [16, 32]\n",
    "\n",
    "for x in grid_crop_x_y:\n",
    "    for y in grid_crop_x_y:\n",
    "        for z in grid_crop_z:\n",
    "            \n",
    "            fold_val_loss = []\n",
    "            fold_dice_loss = []\n",
    "            \n",
    "\n",
    "            train_transforms = Compose(\n",
    "                 [\n",
    "                    LoadImaged(keys=[\"image\", \"label\"]),\n",
    "                    EnsureChannelFirstd(keys=[\"image\", \"label\"]),\n",
    "                    RandSpatialCropd(\n",
    "                        keys=[\"image\", \"label\"],\n",
    "                        roi_size = [x, y, z],\n",
    "                        random_center = True,\n",
    "                        random_size = False\n",
    "                    ),\n",
    "                    AsDiscreted(keys=[\"label\"], to_onehot=3),\n",
    "                    ToTensord(keys=[\"image\", \"label\"])\n",
    "                ]\n",
    "            )\n",
    "            \n",
    "            train_ds = CacheDataset(data=training_data, transform=train_transforms, cache_rate=1.0)\n",
    "            \n",
    "            fold_val_loss = []\n",
    "            fold_dice_metric = []\n",
    "            \n",
    "            for fold, (train_idx, val_idx) in enumerate(kf.split(train_ds)):\n",
    "                max_epochs = 10\n",
    "\n",
    "\n",
    "                train_sampler = SubsetRandomSampler(train_idx)\n",
    "                val_sampler = SubsetRandomSampler(val_idx)\n",
    "\n",
    "                train_loader = DataLoader(\n",
    "                    dataset=train_ds,\n",
    "                    sampler=train_sampler,\n",
    "                    batch_size=4,\n",
    "                )\n",
    "\n",
    "                val_loader = DataLoader(\n",
    "                    dataset=train_ds,\n",
    "                    sampler=val_sampler,\n",
    "                    batch_size=4,\n",
    "                )\n",
    "\n",
    "                model = UNet(\n",
    "                    spatial_dims=3,\n",
    "                    in_channels=1,\n",
    "                    out_channels=3,\n",
    "                    channels=(16, 32, 64, 128, 256),\n",
    "                    strides=(2, 2, 2, 2),\n",
    "                ).to(device)\n",
    "\n",
    "                optimizer = torch.optim.Adam(model.parameters())\n",
    "                dice_metric = DiceMetric(include_background=True, reduction=\"mean\")\n",
    "                \n",
    "                for epoch in range(max_epochs):   \n",
    "                    _ = train(model, device, train_loader, optimizer, epoch, max_epochs)\n",
    "                mean_validation_loss, mean_dice = evaluate(model, device, val_loader, optimizer)\n",
    "\n",
    "                fold_val_loss.append(mean_validation_loss)\n",
    "                fold_dice_metric.append(mean_dice)\n",
    "                \n",
    "            mean_val_loss = np.mean(fold_val_loss)\n",
    "            mean_dice_metric = np.mean(fold_dice_metric)\n",
    "            \n",
    "            print(\"-------\")\n",
    "            print(f\"{splits} fold cross validation for x={x}, y={y}, z={z}\")\n",
    "            print(f\"Mean validation loss across folds: {mean_val_loss}\")\n",
    "            print(f\"Mean dice metric: {mean_dice_metric}\")"
   ]
  },
  {
   "cell_type": "markdown",
   "metadata": {},
   "source": [
    "## Inspect slices of images"
   ]
  },
  {
   "cell_type": "code",
   "execution_count": null,
   "metadata": {},
   "outputs": [],
   "source": [
    "image = train_ds[2][\"image\"]\n",
    "label = val_ds[5][\"label\"]\n",
    "image_with_batch = np.expand_dims(image, axis=0)\n",
    "image_with_batch = torch.from_numpy(image_with_batch).float()\n",
    "label_remove_one_hot = np.argmax(label, axis=0)\n",
    "\n",
    "unique_values, counts = np.unique(label_remove_one_hot, return_counts=True)\n",
    "\n",
    "# Print the unique values and their counts\n",
    "print(f\"Unique values: {unique_values}\")\n",
    "print(f\"Counts: {counts}\")"
   ]
  },
  {
   "cell_type": "code",
   "execution_count": null,
   "metadata": {},
   "outputs": [],
   "source": [
    "image_vis = np.squeeze(image, axis=0)\n",
    "plt.imshow(image_vis[:, :, 10], cmap='gray')"
   ]
  },
  {
   "cell_type": "code",
   "execution_count": null,
   "metadata": {},
   "outputs": [],
   "source": [
    "image_with_batch = image_with_batch.to(device)\n",
    "\n",
    "\n",
    "model.eval()\n",
    "with torch.no_grad():  \n",
    "    output = model(image_with_batch)\n",
    "    output = output.cpu().numpy()\n",
    "output_label_vis = np.squeeze(output, axis=0)\n",
    "output_remove_one_hot = np.argmax(output_label_vis, axis=0)\n",
    "print(np.unique(output_remove_one_hot))\n",
    "positions = np.where(output_remove_one_hot == 2)\n",
    "print(positions)"
   ]
  },
  {
   "cell_type": "code",
   "execution_count": null,
   "metadata": {},
   "outputs": [],
   "source": [
    "import matplotlib.pyplot as plt\n",
    "layer=3\n",
    "\n",
    "\n",
    "plt.figure(figsize=(10, 10))\n",
    "plt.subplot(2, 2, 1)  \n",
    "plt.title(\"Ground Truth\")\n",
    "plt.imshow(label_remove_one_hot[:, :, layer], cmap='gray')\n",
    "plt.axis('off') \n",
    "\n",
    "plt.subplot(2, 2, 2) \n",
    "plt.title(\"Model Output\")\n",
    "plt.imshow(output_remove_one_hot[:, :, layer], cmap='gray')\n",
    "plt.axis('off') \n",
    "\n",
    "plt.tight_layout() \n",
    "plt.show()\n"
   ]
  }
 ],
 "metadata": {
  "kernelspec": {
   "display_name": "vi",
   "language": "python",
   "name": "python3"
  },
  "language_info": {
   "codemirror_mode": {
    "name": "ipython",
    "version": 3
   },
   "file_extension": ".py",
   "mimetype": "text/x-python",
   "name": "python",
   "nbconvert_exporter": "python",
   "pygments_lexer": "ipython3",
   "version": "3.12.7"
  }
 },
 "nbformat": 4,
 "nbformat_minor": 2
}
