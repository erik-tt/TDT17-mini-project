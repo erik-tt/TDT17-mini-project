{
 "cells": [
  {
   "cell_type": "markdown",
   "metadata": {},
   "source": [
    "# Task 1: preRT segmentation"
   ]
  },
  {
   "cell_type": "code",
   "execution_count": null,
   "metadata": {},
   "outputs": [],
   "source": [
    "import numpy as np\n",
    "import matplotlib.pyplot as plt\n",
    "from monai.transforms import LoadImage\n",
    "from monai.data import Dataset, DataLoader\n",
    "from monai.losses import DiceLoss\n",
    "from monai.metrics import DiceMetric\n",
    "from monai.networks.nets import UNet\n",
    "from monai.utils import set_determinism\n",
    "import os.path\n",
    "import random\n",
    "import torch\n",
    "\n",
    "from monai.transforms import (\n",
    "    Compose,\n",
    "    LoadImaged,\n",
    "    Compose,\n",
    "    LoadImaged,\n",
    "    NormalizeIntensityd,\n",
    "    Orientationd,\n",
    "    Spacingd,\n",
    "    EnsureTyped,\n",
    "    EnsureChannelFirstd,\n",
    "    ToTensord,\n",
    "    Resized,\n",
    "    AsDiscreted\n",
    ")"
   ]
  },
  {
   "cell_type": "code",
   "execution_count": null,
   "metadata": {},
   "outputs": [],
   "source": [
    "data_path = \"/cluster/projects/vc/data/mic/open/HNTS-MRG/train/\""
   ]
  },
  {
   "cell_type": "code",
   "execution_count": null,
   "metadata": {},
   "outputs": [],
   "source": [
    "data_preRT = []\n",
    "for patient_num in os.listdir(data_path):\n",
    "    patient = f\"{data_path}{patient_num}\"\n",
    "    image = f\"{patient}/preRT/{patient_num}_preRT_T2.nii.gz\"\n",
    "    mask = f\"{patient}/preRT/{patient_num}_preRT_mask.nii.gz\"\n",
    "    \n",
    "    data_preRT.append({\"image\": image, \"label\": mask})\n",
    "\n",
    "print(len(data_preRT))"
   ]
  },
  {
   "cell_type": "code",
   "execution_count": null,
   "metadata": {},
   "outputs": [],
   "source": [
    "set_determinism(seed=0)\n",
    "\n",
    "training_data = data_preRT[:105]\n",
    "validation_data = data_preRT[105:]\n",
    "\n",
    "train_transforms = Compose(\n",
    "     [\n",
    "        LoadImaged(keys=[\"image\", \"label\"]),\n",
    "        EnsureChannelFirstd(keys=[\"image\", \"label\"]),\n",
    "        Resized(keys=[\"image\", \"label\"], spatial_size=(128, 128, 64)),\n",
    "        AsDiscreted(keys=[\"label\"], to_onehot=3),\n",
    "        ToTensord(keys=[\"image\", \"label\"])\n",
    "    ]\n",
    ")\n",
    "\n",
    "train_ds = Dataset(data=data_preRT, transform=train_transforms)\n",
    "val_ds = Dataset(data=validation_data, transform=train_transforms)\n",
    "\n",
    "\n",
    "train_dataloader = DataLoader(train_ds, batch_size=4, shuffle=True, num_workers=0)\n",
    "val_dataloader = DataLoader(val_ds, batch_size=4, shuffle=False, num_workers=0)"
   ]
  },
  {
   "cell_type": "code",
   "execution_count": null,
   "metadata": {},
   "outputs": [],
   "source": [
    "device = torch.device(\"cuda\" if torch.cuda.is_available() else \"cpu\")"
   ]
  },
  {
   "cell_type": "code",
   "execution_count": null,
   "metadata": {},
   "outputs": [],
   "source": [
    "import gc\n",
    "import time\n",
    "from tqdm import tqdm \n",
    "\n",
    "model = UNet(\n",
    "    spatial_dims=3,\n",
    "    in_channels=1,\n",
    "    out_channels=3,\n",
    "    channels=(16,32,64,128,256),\n",
    "    strides=(2, 2, 2, 2),\n",
    ").to(device)\n",
    "\n",
    "loss_function = DiceLoss(softmax=True)\n",
    "optimizer = torch.optim.Adam(model.parameters())\n",
    "dice_metric = DiceMetric(include_background=True, reduction=\"mean\")\n",
    "max_epochs = 5\n",
    "\n",
    "for epoch in range(max_epochs):\n",
    "        torch.cuda.empty_cache()\n",
    "        gc.collect()\n",
    "        epoch_start = time.time()\n",
    "        epoch_loss = []\n",
    "        correct = 0\n",
    "        total = 0\n",
    "        print(\"-\" * 10)\n",
    "        print(f\"epoch {epoch + 1}/{max_epochs}\")\n",
    "        model.train()\n",
    "        \n",
    "        training_losses = []\n",
    "        for batch_data in tqdm(train_dataloader):\n",
    "            images, labels = batch_data[\"image\"].to(device), batch_data[\"label\"].to(device)\n",
    "            optimizer.zero_grad()\n",
    "            outputs = model(images)\n",
    "            #l = np.argmax(outputs[0], axis=0)\n",
    "            #print(np.unique(l))\n",
    "            loss = loss_function(outputs, labels)\n",
    "            loss.backward()\n",
    "            optimizer.step()\n",
    "            epoch_loss.append(loss.item())\n",
    "            training_losses.append(loss.item())\n",
    "            total += 1\n",
    "\n",
    "            #print(f\"train loss: {loss.item()}\")\n",
    "        \n",
    "        #print(f\"epoch {epoch + 1} average loss: {sum(epoch_loss)/total:.6f}\")\n",
    "        \n",
    "        validation_losses = []\n",
    "        with torch.no_grad():\n",
    "            dice_scores = []\n",
    "            for batch in tqdm(val_dataloader):\n",
    "                images, labels = batch[\"image\"].to(device), batch[\"label\"].to(device)\n",
    "                outputs = model(images)\n",
    "                loss = loss_function(outputs, labels)\n",
    "                #print(f\"Validation loss: {loss}\")\n",
    "                validation_losses.append(loss.item())\n",
    "                dice_metric(y_pred=outputs, y=labels)\n",
    "            mean_dice = dice_metric.aggregate().item()\n",
    "        print(f\"Training mean loss: {np.mean(training_losses)}\")\n",
    "        print(f\"Validation mean loss: {np.mean(validation_losses)}\")\n",
    "        print(f\"Validation Mean Dice: {mean_dice:.6f}\")\n",
    "\n",
    "\n",
    "\n"
   ]
  },
  {
   "cell_type": "code",
   "execution_count": null,
   "metadata": {},
   "outputs": [],
   "source": [
    "image = val_ds[1][\"image\"]\n",
    "label = val_ds[1][\"label\"]\n",
    "image_with_batch = np.expand_dims(image, axis=0)\n",
    "image_with_batch = torch.from_numpy(image_with_batch).float()\n",
    "label_remove_one_hot = np.argmax(label, axis=0)"
   ]
  },
  {
   "cell_type": "code",
   "execution_count": null,
   "metadata": {},
   "outputs": [],
   "source": [
    "image_vis = np.squeeze(image, axis=0)\n",
    "plt.imshow(image_vis[:, :, 40], cmap='gray')"
   ]
  },
  {
   "cell_type": "code",
   "execution_count": null,
   "metadata": {},
   "outputs": [],
   "source": [
    "image_with_batch = image_with_batch.to(device)\n",
    "\n",
    "\n",
    "model.eval()\n",
    "with torch.no_grad():  \n",
    "    output = model(image_with_batch)\n",
    "    output = output.cpu().numpy()\n",
    "output_label_vis = np.squeeze(output, axis=0)\n",
    "output_remove_one_hot = np.argmax(output_label_vis, axis=0)\n",
    "print(np.unique(output_remove_one_hot))\n",
    "positions = np.where(output_remove_one_hot == 1)\n",
    "print(positions)"
   ]
  },
  {
   "cell_type": "code",
   "execution_count": null,
   "metadata": {},
   "outputs": [],
   "source": [
    "import matplotlib.pyplot as plt\n",
    "\n",
    "plt.figure(figsize=(10, 10))\n",
    "plt.subplot(2, 2, 1)  \n",
    "plt.title(\"Ground Truth\")\n",
    "plt.imshow(label_remove_one_hot[:, :, 31], cmap='gray')\n",
    "plt.axis('off') \n",
    "\n",
    "plt.subplot(2, 2, 2) \n",
    "plt.title(\"Model Output\")\n",
    "plt.imshow(output_remove_one_hot[:, :, 31], cmap='gray')\n",
    "plt.axis('off') \n",
    "\n",
    "plt.tight_layout() \n",
    "plt.show()\n"
   ]
  }
 ],
 "metadata": {
  "kernelspec": {
   "display_name": "Python 3 (ipykernel)",
   "language": "python",
   "name": "python3"
  },
  "language_info": {
   "codemirror_mode": {
    "name": "ipython",
    "version": 3
   },
   "file_extension": ".py",
   "mimetype": "text/x-python",
   "name": "python",
   "nbconvert_exporter": "python",
   "pygments_lexer": "ipython3",
   "version": "3.9.13"
  }
 },
 "nbformat": 4,
 "nbformat_minor": 2
}
