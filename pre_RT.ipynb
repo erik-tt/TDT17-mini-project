{
 "cells": [
  {
   "cell_type": "markdown",
   "metadata": {},
   "source": [
    "# Task 1: preRT segmentation"
   ]
  },
  {
   "cell_type": "code",
   "execution_count": null,
   "metadata": {},
   "outputs": [],
   "source": [
    "import numpy as np\n",
    "import matplotlib.pyplot as plt\n",
    "from monai.transforms import LoadImage\n",
    "from monai.data import Dataset, DataLoader\n",
    "from monai.losses import DiceLoss\n",
    "from monai.networks.nets import UNet\n",
    "from monai.utils import set_determinism\n",
    "import os.path\n",
    "import random\n",
    "import torch\n",
    "\n",
    "from monai.transforms import (\n",
    "    Compose,\n",
    "    LoadImaged,\n",
    "    Compose,\n",
    "    LoadImaged,\n",
    "    NormalizeIntensityd,\n",
    "    Orientationd,\n",
    "    Spacingd,\n",
    "    EnsureTyped,\n",
    "    EnsureChannelFirstd,\n",
    "    ToTensord,\n",
    "    Resized,\n",
    "    AsDiscreted\n",
    ")"
   ]
  },
  {
   "cell_type": "code",
   "execution_count": null,
   "metadata": {},
   "outputs": [],
   "source": [
    "data_path = \"/cluster/projects/vc/data/mic/open/HNTS-MRG/train/\""
   ]
  },
  {
   "cell_type": "code",
   "execution_count": null,
   "metadata": {},
   "outputs": [],
   "source": [
    "data_preRT = []\n",
    "for patient_num in os.listdir(data_path):\n",
    "    patient = f\"{data_path}{patient_num}\"\n",
    "    image = f\"{patient}/preRT/{patient_num}_preRT_T2.nii.gz\"\n",
    "    mask = f\"{patient}/preRT/{patient_num}_preRT_mask.nii.gz\"\n",
    "    \n",
    "    data_preRT.append({\"image\": image, \"label\": mask})\n",
    "\n",
    "print(len(data_preRT))"
   ]
  },
  {
   "cell_type": "code",
   "execution_count": null,
   "metadata": {},
   "outputs": [],
   "source": [
    "set_determinism(seed=0)\n",
    "\n",
    "training_data = data_preRT[:105]\n",
    "validation_data = data_preRT[105:]\n",
    "\n",
    "train_transforms = Compose(\n",
    "     [\n",
    "        LoadImaged(keys=[\"image\", \"label\"]),\n",
    "        EnsureChannelFirstd(keys=[\"image\", \"label\"]),\n",
    "        Resized(keys=[\"image\", \"label\"], spatial_size=(128, 128, 16)),\n",
    "        AsDiscreted(keys=[\"label\"], to_onehot=3),\n",
    "        ToTensord(keys=[\"image\", \"label\"])\n",
    "    ]\n",
    ")\n",
    "\n",
    "train_ds = Dataset(data=data_preRT, transform=train_transforms)\n",
    "val_ds = Dataset(data=validation_data, transform=train_transforms)\n",
    "\n",
    "\n",
    "train_dataloader = DataLoader(train_ds, batch_size=16, shuffle=True, num_workers=0)\n",
    "val_dataloader = DataLoader(val_ds, batch_size=16, shuffle=False, num_workers=0)"
   ]
  },
  {
   "cell_type": "code",
   "execution_count": null,
   "metadata": {},
   "outputs": [],
   "source": [
    "device = torch.device(\"cuda\" if torch.cuda.is_available() else \"cpu\")"
   ]
  },
  {
   "cell_type": "code",
   "execution_count": null,
   "metadata": {},
   "outputs": [],
   "source": [
    "import gc\n",
    "import time\n",
    "from tqdm import tqdm \n",
    "\n",
    "model = UNet(\n",
    "    spatial_dims=3,\n",
    "    in_channels=1,\n",
    "    out_channels=3,\n",
    "    channels=(16,32,64,128,256),\n",
    "    strides=(2, 2, 2, 2),\n",
    ").to(device)\n",
    "\n",
    "loss_function = DiceLoss(softmax=True)\n",
    "optimizer = torch.optim.Adam(model.parameters())\n",
    "\n",
    "maxepochs = 2\n",
    "\n",
    "for epoch in range(maxepochs):\n",
    "        torch.cuda.empty_cache()\n",
    "        gc.collect()\n",
    "        epoch_start = time.time()\n",
    "        epoch_loss = []\n",
    "        correct = 0\n",
    "        total = 0\n",
    "        print(\"-\" * 10)\n",
    "        print(f\"epoch {epoch + 1}/{maxepochs}\")\n",
    "        model.train()\n",
    "\n",
    "        for batch_data in tqdm(train_dataloader):\n",
    "            print(batch_data[\"image\"].shape)\n",
    "            print(batch_data[\"label\"].shape)\n",
    "            images, labels = batch_data[\"image\"].to(device), batch_data[\"label\"].to(device)\n",
    "            optimizer.zero_grad()\n",
    "            outputs = model(images)\n",
    "            print(outputs.shape)\n",
    "            loss = loss_function(outputs, labels)\n",
    "            loss.backward()\n",
    "            optimizer.step()\n",
    "            epoch_loss.append(loss.item())\n",
    "\n",
    "            total += 1\n",
    "\n",
    "            print(f\"train loss: {loss.item()}\")\n",
    "        print(f\"epoch {epoch + 1} average loss: {sum(epoch_loss)/total:.4f}\")\n",
    "\n"
   ]
  },
  {
   "cell_type": "code",
   "execution_count": null,
   "metadata": {},
   "outputs": [],
   "source": []
  }
 ],
 "metadata": {
  "kernelspec": {
   "display_name": "vi",
   "language": "python",
   "name": "vi"
  },
  "language_info": {
   "codemirror_mode": {
    "name": "ipython",
    "version": 3
   },
   "file_extension": ".py",
   "mimetype": "text/x-python",
   "name": "python",
   "nbconvert_exporter": "python",
   "pygments_lexer": "ipython3",
   "version": "3.12.7"
  }
 },
 "nbformat": 4,
 "nbformat_minor": 2
}
