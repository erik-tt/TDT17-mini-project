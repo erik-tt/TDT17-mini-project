{
 "cells": [
  {
   "cell_type": "markdown",
   "metadata": {},
   "source": [
    "# Exploratory Data Analysis\n",
    "Short EDA to load the data and look at dimensions and size of the data set."
   ]
  },
  {
   "cell_type": "code",
   "execution_count": null,
   "metadata": {},
   "outputs": [],
   "source": [
    "# install relevant packages\n",
    "import numpy as np\n",
    "import matplotlib.pyplot as plt\n",
    "from monai.transforms import LoadImage\n",
    "from monai.data import Dataset, DataLoader\n",
    "import os.path"
   ]
  },
  {
   "cell_type": "code",
   "execution_count": null,
   "metadata": {},
   "outputs": [],
   "source": [
    "data_path = \"/cluster/projects/vc/data/mic/open/HNTS-MRG/train\""
   ]
  },
  {
   "cell_type": "markdown",
   "metadata": {},
   "source": [
    "## Task 1: preRT data"
   ]
  },
  {
   "cell_type": "code",
   "execution_count": null,
   "metadata": {},
   "outputs": [],
   "source": [
    "data_preRT = []\n",
    "for study in range(0, 202):\n",
    "    patient_nr_as_str = str(study)\n",
    "    patient_path = f\"{data_path}/{patient_nr_as_str}/preRT/\"\n",
    "    if os.path.isdir(patient_path):\n",
    "        image_path = patient_path + f\"{patient_nr_as_str}_preRT_T2.nii.gz\"\n",
    "        mask_path = patient_path + f\"{patient_nr_as_str}_preRT_mask.nii.gz\"\n",
    "        if os.path.exists(image_path) and os.path.exists(mask_path):\n",
    "            data_preRT.append({\"image_path\": image_path, \"mask_path\": mask_path})\n",
    "\n",
    "\n",
    "print(data_preRT[:2])\n",
    "print(len(data_preRT))\n",
    "        \n"
   ]
  },
  {
   "cell_type": "markdown",
   "metadata": {},
   "source": [
    "We collect all of the preRT training data in data_preRT and observe that there are 130 training instances."
   ]
  },
  {
   "cell_type": "markdown",
   "metadata": {},
   "source": [
    "### Visualize a 2D slice of an image and the corresponding mask"
   ]
  },
  {
   "cell_type": "code",
   "execution_count": null,
   "metadata": {},
   "outputs": [],
   "source": [
    "img_loader = LoadImage(image_only=True)\n",
    "img_data = img_loader(data_preRT[0].get(\"image_path\"))\n",
    "print(img_data.shape)\n",
    "plt.imshow(img_data[:, :, 43], cmap='gray')"
   ]
  },
  {
   "cell_type": "code",
   "execution_count": null,
   "metadata": {},
   "outputs": [],
   "source": [
    "img_loader = LoadImage(image_only=True)\n",
    "img_data = img_loader(data_preRT[0].get(\"mask_path\"))\n",
    "print(img_data.shape)\n",
    "plt.imshow(img_data[:, :, 43], cmap='gray')"
   ]
  },
  {
   "cell_type": "markdown",
   "metadata": {},
   "source": [
    "## Task 2: midRT data\n",
    "Here we have access to midRT mask and preRT"
   ]
  },
  {
   "cell_type": "code",
   "execution_count": null,
   "metadata": {},
   "outputs": [],
   "source": [
    "data_midRT = []\n",
    "for study in range(0, 202):\n",
    "    patient_nr_as_str = str(study)\n",
    "    patient_path = f\"{data_path}/{patient_nr_as_str}/midRT/\"\n",
    "    if os.path.isdir(patient_path):\n",
    "        #The midRT data\n",
    "        mid_image_path = patient_path + f\"{patient_nr_as_str}_midRT_T2.nii.gz\"\n",
    "        mid_mask_path = patient_path + f\"{patient_nr_as_str}_midRT_mask.nii.gz\"\n",
    "        #The preRT data\n",
    "        pre_image_path = patient_path + f\"{patient_nr_as_str}_preRT_T2_registered.nii.gz\"\n",
    "        pre_mask_path = patient_path + f\"{patient_nr_as_str}_preRT_mask_registered.nii.gz\"\n",
    "        if os.path.exists(mid_image_path) and os.path.exists(mid_mask_path):\n",
    "            data_midRT.append({\n",
    "                \"mid_image_path\": mid_image_path,\n",
    "                \"mid_mask_path\": mid_mask_path,\n",
    "                \"pre_image_path\": pre_image_path,\n",
    "                \"pre_mask_path\": pre_mask_path\n",
    "                 })\n",
    "\n",
    "\n",
    "print(data_midRT[:2])\n",
    "print(len(data_midRT))"
   ]
  },
  {
   "cell_type": "markdown",
   "metadata": {},
   "source": [
    "### Visualize a 2D slice of an image and a corresponding mask"
   ]
  },
  {
   "cell_type": "code",
   "execution_count": null,
   "metadata": {},
   "outputs": [],
   "source": [
    "img_loader = LoadImage(image_only=True)\n",
    "img_data = img_loader(data_midRT[0].get(\"mid_image_path\"))\n",
    "print(img_data.shape)\n",
    "plt.imshow(img_data[:, :, 43], cmap='gray')"
   ]
  },
  {
   "cell_type": "code",
   "execution_count": null,
   "metadata": {},
   "outputs": [],
   "source": [
    "img_loader = LoadImage(image_only=True)\n",
    "img_data = img_loader(data_midRT[0].get(\"mid_mask_path\"))\n",
    "print(img_data.shape)\n",
    "plt.imshow(img_data[:, :, 43], cmap='gray')"
   ]
  },
  {
   "cell_type": "code",
   "execution_count": null,
   "metadata": {},
   "outputs": [],
   "source": []
  }
 ],
 "metadata": {
  "kernelspec": {
   "display_name": "vi",
   "language": "python",
   "name": "vi"
  },
  "language_info": {
   "codemirror_mode": {
    "name": "ipython",
    "version": 3
   },
   "file_extension": ".py",
   "mimetype": "text/x-python",
   "name": "python",
   "nbconvert_exporter": "python",
   "pygments_lexer": "ipython3",
   "version": "3.12.7"
  }
 },
 "nbformat": 4,
 "nbformat_minor": 2
}
