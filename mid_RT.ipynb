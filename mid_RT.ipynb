{
 "cells": [
  {
   "cell_type": "markdown",
   "metadata": {},
   "source": [
    "# Task 2: midRT Segmentation\n",
    "This task reuses code written for task 1 and adapts it to solve task 2."
   ]
  },
  {
   "cell_type": "markdown",
   "metadata": {},
   "source": []
  },
  {
   "cell_type": "code",
   "execution_count": null,
   "metadata": {},
   "outputs": [],
   "source": [
    "import numpy as np\n",
    "import matplotlib.pyplot as plt\n",
    "from monai.transforms import LoadImage\n",
    "from monai.data import Dataset, DataLoader, ThreadDataLoader\n",
    "from monai.losses import DiceLoss\n",
    "from monai.metrics import DiceMetric\n",
    "from monai.networks.nets import UNet, SwinUNETR, BasicUNetPlusPlus\n",
    "from monai.utils import set_determinism\n",
    "import os.path\n",
    "import random\n",
    "import torch\n",
    "\n",
    "from monai.transforms import (\n",
    "    Compose,\n",
    "    LoadImaged,\n",
    "    Compose,\n",
    "    LoadImaged,\n",
    "    RandSpatialCropd,\n",
    "    EnsureChannelFirstd,\n",
    "    ToTensord,\n",
    "    Resized,\n",
    "    AsDiscreted\n",
    ")"
   ]
  },
  {
   "cell_type": "code",
   "execution_count": null,
   "metadata": {},
   "outputs": [],
   "source": [
    "data_path = \"/cluster/projects/vc/data/mic/open/HNTS-MRG/train/\""
   ]
  },
  {
   "cell_type": "code",
   "execution_count": null,
   "metadata": {},
   "outputs": [],
   "source": [
    "data_midRT = []\n",
    "for patient_num in os.listdir(data_path):\n",
    "    patient = f\"{data_path}{patient_num}\"\n",
    "    image = f\"{patient}/midRT/{patient_num}_midRT_T2.nii.gz\"\n",
    "    mask = f\"{patient}/midRT/{patient_num}_midRT_mask.nii.gz\"\n",
    "    \n",
    "    data_midRT.append({\"image\": image, \"label\": mask})\n",
    "\n",
    "print(len(data_midRT))"
   ]
  },
  {
   "cell_type": "code",
   "execution_count": null,
   "metadata": {},
   "outputs": [],
   "source": [
    "set_determinism(seed=0)\n",
    "\n",
    "training_data = data_midRT[:105]\n",
    "validation_data = data_midRT[105:]\n",
    "\n",
    "train_transforms = Compose(\n",
    "     [\n",
    "        LoadImaged(keys=[\"image\", \"label\"]),\n",
    "        EnsureChannelFirstd(keys=[\"image\", \"label\"]),\n",
    "        #Resized(keys=[\"image\", \"label\"], spatial_size=(128, 128, 64)),\n",
    "        RandSpatialCropd(\n",
    "            keys=[\"image\", \"label\"],\n",
    "            roi_size = [256, 256, 32],\n",
    "            random_center = True,\n",
    "            random_size = False\n",
    "            ),\n",
    "        AsDiscreted(keys=[\"label\"], to_onehot=3),\n",
    "        ToTensord(keys=[\"image\", \"label\"])\n",
    "    ]\n",
    ")\n",
    "train_ds = Dataset(data=training_data, transform=train_transforms)\n",
    "val_ds = Dataset(data=validation_data, transform=train_transforms)\n",
    "\n",
    "\n",
    "train_dataloader = DataLoader(train_ds, batch_size=4, shuffle=True, num_workers=0)\n",
    "val_dataloader = DataLoader(val_ds, batch_size=4, shuffle=False, num_workers=0)"
   ]
  },
  {
   "cell_type": "code",
   "execution_count": null,
   "metadata": {},
   "outputs": [],
   "source": [
    "device = torch.device(\"cuda\" if torch.cuda.is_available() else \"cpu\")"
   ]
  },
  {
   "cell_type": "code",
   "execution_count": null,
   "metadata": {},
   "outputs": [],
   "source": [
    "model = UNet(\n",
    "    spatial_dims=3,\n",
    "    in_channels=1,\n",
    "    out_channels=3,\n",
    "    channels=(16,32,64,128,256),\n",
    "    strides=(2, 2, 2, 2),\n",
    ").to(device)\n",
    "\n",
    "model_name = \"U-Net\""
   ]
  },
  {
   "cell_type": "code",
   "execution_count": null,
   "metadata": {},
   "outputs": [],
   "source": [
    "import gc\n",
    "from tqdm import tqdm \n",
    "\n",
    "loss_function = DiceLoss(softmax=True)\n",
    "optimizer = torch.optim.Adam(model.parameters())\n",
    "dice_metric = DiceMetric(include_background=True, reduction=\"mean\")\n",
    "max_epochs = 10\n",
    "\n",
    "print(f\"Training: {model_name}\")\n",
    "\n",
    "for epoch in range(max_epochs):\n",
    "        torch.cuda.empty_cache()\n",
    "        gc.collect()\n",
    "        epoch_loss = []\n",
    "        correct = 0\n",
    "        total = 0\n",
    "        print(\"-\" * 10)\n",
    "        print(f\"epoch {epoch + 1}/{max_epochs}\")\n",
    "        model.train()\n",
    "        \n",
    "        training_losses = []\n",
    "        for batch_data in tqdm(train_dataloader):\n",
    "            images, labels = batch_data[\"image\"].to(device), batch_data[\"label\"].to(device)\n",
    "            optimizer.zero_grad()\n",
    "            outputs = model(images)\n",
    "            #l = np.argmax(outputs[0], axis=0)\n",
    "            #print(np.unique(l))\n",
    "            loss = loss_function(outputs, labels)\n",
    "            loss.backward()\n",
    "            optimizer.step()\n",
    "            epoch_loss.append(loss.item())\n",
    "            training_losses.append(loss.item())\n",
    "            total += 1\n",
    "\n",
    "            #print(f\"train loss: {loss.item()}\")\n",
    "        \n",
    "        #print(f\"epoch {epoch + 1} average loss: {sum(epoch_loss)/total:.6f}\")\n",
    "        \n",
    "        validation_losses = []\n",
    "        model.eval()\n",
    "        with torch.no_grad():\n",
    "            dice_scores = []\n",
    "            for batch in tqdm(val_dataloader):\n",
    "                images, labels = batch[\"image\"].to(device), batch[\"label\"].to(device)\n",
    "                outputs = model(images)\n",
    "                loss = loss_function(outputs, labels)\n",
    "                #print(f\"Validation loss: {loss}\")\n",
    "                validation_losses.append(loss.item())\n",
    "                dice_metric(y_pred=outputs, y=labels)\n",
    "            mean_dice = dice_metric.aggregate().item()\n",
    "        print(f\"Training mean loss: {np.mean(training_losses)}\")\n",
    "        print(f\"Validation mean loss: {np.mean(validation_losses)}\")\n",
    "        print(f\"Validation Mean Dice: {mean_dice:.6f}\")"
   ]
  },
  {
   "cell_type": "code",
   "execution_count": null,
   "metadata": {},
   "outputs": [],
   "source": []
  }
 ],
 "metadata": {
  "kernelspec": {
   "display_name": "vi",
   "language": "python",
   "name": "python3"
  },
  "language_info": {
   "codemirror_mode": {
    "name": "ipython",
    "version": 3
   },
   "file_extension": ".py",
   "mimetype": "text/x-python",
   "name": "python",
   "nbconvert_exporter": "python",
   "pygments_lexer": "ipython3",
   "version": "3.12.7"
  }
 },
 "nbformat": 4,
 "nbformat_minor": 2
}
