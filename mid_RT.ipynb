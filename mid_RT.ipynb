{
 "cells": [
  {
   "cell_type": "markdown",
   "metadata": {},
   "source": [
    "# Task 2: midRT Segmentation\n",
    "This task reuses code written for task 1 and adapts it to solve task 2."
   ]
  },
  {
   "cell_type": "markdown",
   "metadata": {},
   "source": []
  },
  {
   "cell_type": "code",
   "execution_count": null,
   "metadata": {},
   "outputs": [],
   "source": [
    "import numpy as np\n",
    "import matplotlib.pyplot as plt\n",
    "from monai.transforms import LoadImage\n",
    "from monai.data import Dataset, DataLoader, ThreadDataLoader, CacheDataset, decollate_batch\n",
    "from monai.losses import DiceLoss, DiceCELoss\n",
    "from monai.metrics import DiceMetric\n",
    "from monai.networks.nets import UNet, SwinUNETR, BasicUNetPlusPlus\n",
    "from monai.utils import set_determinism\n",
    "import os.path\n",
    "import random\n",
    "import torch\n",
    "import gc\n",
    "from monai.inferers import sliding_window_inference\n",
    "from tqdm import tqdm\n",
    "from collections import defaultdict\n",
    "import time\n",
    "\n",
    "from monai.transforms import (\n",
    "    Compose,\n",
    "    LoadImaged,\n",
    "    Compose,\n",
    "    LoadImaged,\n",
    "    RandSpatialCropd,\n",
    "    EnsureChannelFirstd,\n",
    "    ToTensord,\n",
    "    Resized,\n",
    "    AsDiscreted,\n",
    "    EnsureTyped,\n",
    "    RandFlipd,\n",
    "    NormalizeIntensityd,\n",
    "    AsDiscrete\n",
    ")"
   ]
  },
  {
   "cell_type": "code",
   "execution_count": null,
   "metadata": {},
   "outputs": [],
   "source": [
    "data_path = \"/cluster/projects/vc/data/mic/open/HNTS-MRG/train/\"\n",
    "test_data_path = \"/cluster/projects/vc/data/mic/open/HNTS-MRG/test/\""
   ]
  },
  {
   "cell_type": "code",
   "execution_count": null,
   "metadata": {},
   "outputs": [],
   "source": [
    "data_midRT = []\n",
    "for patient_num in os.listdir(data_path):\n",
    "    patient = f\"{data_path}{patient_num}\"\n",
    "    image = f\"{patient}/midRT/{patient_num}_midRT_T2.nii.gz\"\n",
    "    mask = f\"{patient}/midRT/{patient_num}_midRT_mask.nii.gz\"\n",
    "    \n",
    "    data_midRT.append({\"image\": image, \"label\": mask})\n",
    "\n",
    "print(len(data_midRT))"
   ]
  },
  {
   "cell_type": "code",
   "execution_count": null,
   "metadata": {},
   "outputs": [],
   "source": [
    "# Load test data\n",
    "test_midRT = []\n",
    "for patient_num in os.listdir(test_data_path):\n",
    "    patient = f\"{test_data_path}{patient_num}\"\n",
    "    image = f\"{patient}/midRT/{patient_num}_midRT_T2.nii.gz\"\n",
    "    mask = f\"{patient}/midRT/{patient_num}_midRT_mask.nii.gz\"\n",
    "    \n",
    "    test_midRT.append({\"image\": image, \"label\": mask})\n",
    "\n",
    "print(len(test_midRT))"
   ]
  },
  {
   "cell_type": "code",
   "execution_count": null,
   "metadata": {},
   "outputs": [],
   "source": [
    "set_determinism(seed=1)\n",
    "\n",
    "training_data = data_midRT[:105]\n",
    "validation_data = data_midRT[105:]\n",
    "roi = (256, 256, 32)\n",
    "\n",
    "train_transforms = Compose(\n",
    "     [\n",
    "        LoadImaged(keys=[\"image\", \"label\"]),\n",
    "        EnsureTyped(keys=[\"image\", \"label\"]),\n",
    "        EnsureChannelFirstd(keys=[\"image\", \"label\"]),\n",
    "        RandSpatialCropd(\n",
    "            keys=[\"image\", \"label\"],\n",
    "            roi_size = [roi[0], roi[1], roi[2]],\n",
    "            random_center = True,\n",
    "            random_size = False\n",
    "            ),\n",
    "        RandFlipd(keys=[\"image\", \"label\"], prob=0.5, spatial_axis=0),\n",
    "        RandFlipd(keys=[\"image\", \"label\"], prob=0.5, spatial_axis=1),\n",
    "        RandFlipd(keys=[\"image\", \"label\"], prob=0.5, spatial_axis=2),\n",
    "        NormalizeIntensityd(keys=\"image\", nonzero=True, channel_wise=True),\n",
    "        ToTensord(keys=[\"image\", \"label\"])\n",
    "    ]\n",
    ")\n",
    "\n",
    "val_transforms = Compose(\n",
    "     [\n",
    "        LoadImaged(keys=[\"image\", \"label\"]),\n",
    "        EnsureTyped(keys=[\"image\", \"label\"]),\n",
    "        EnsureChannelFirstd(keys=[\"image\", \"label\"]),\n",
    "        NormalizeIntensityd(keys=\"image\", nonzero=True, channel_wise=True),\n",
    "        ToTensord(keys=[\"image\", \"label\"])\n",
    "    ]\n",
    ")"
   ]
  },
  {
   "cell_type": "code",
   "execution_count": null,
   "metadata": {},
   "outputs": [],
   "source": [
    "train_ds = CacheDataset(data=training_data, transform=train_transforms, cache_rate=1.0)\n",
    "val_ds = CacheDataset(data=validation_data, transform=val_transforms, cache_rate=1.0)"
   ]
  },
  {
   "cell_type": "code",
   "execution_count": null,
   "metadata": {},
   "outputs": [],
   "source": [
    "train_dataloader = DataLoader(train_ds, batch_size=4, shuffle=True, num_workers=0)\n",
    "val_dataloader = DataLoader(val_ds, batch_size=1, shuffle=False, num_workers=0)"
   ]
  },
  {
   "cell_type": "code",
   "execution_count": null,
   "metadata": {},
   "outputs": [],
   "source": [
    "device = torch.device(\"cuda\" if torch.cuda.is_available() else \"cpu\")"
   ]
  },
  {
   "cell_type": "code",
   "execution_count": null,
   "metadata": {},
   "outputs": [],
   "source": [
    "model = UNet(\n",
    "    spatial_dims=3,\n",
    "    in_channels=1,\n",
    "    out_channels=3,\n",
    "    channels=(16,32,64,128,256),\n",
    "    strides=(2, 2, 2, 2),\n",
    ").to(device)\n",
    "\n",
    "model_name = \"U-Net\""
   ]
  },
  {
   "cell_type": "code",
   "execution_count": null,
   "metadata": {},
   "outputs": [],
   "source": [
    "model = SwinUNETR(\n",
    "    img_size = roi,\n",
    "    in_channels=1,\n",
    "    out_channels=3,\n",
    ").to(device)\n",
    "\n",
    "model_name = \"Swin-UNet\""
   ]
  },
  {
   "cell_type": "markdown",
   "metadata": {},
   "source": [
    "### Train the model"
   ]
  },
  {
   "cell_type": "code",
   "execution_count": null,
   "metadata": {},
   "outputs": [],
   "source": [
    "loss_function = DiceCELoss(to_onehot_y=True, softmax=True)\n",
    "optimizer = torch.optim.Adam(model.parameters())\n",
    "#loss_function = FocalLoss(include_background=True, to_onehot_y=True, weight=class_weights_tensor)\n",
    "#optimizer = torch.optim.Adam(model.parameters())\n",
    "#adamW\n",
    "dice_metric = DiceMetric(include_background=True, reduction=\"mean\")\n",
    "max_epochs = 200\n",
    "post_label = AsDiscrete(to_onehot=3)\n",
    "post_pred = AsDiscrete(argmax=True, to_onehot=3)\n",
    "\n",
    "print(f\"Training: {model_name}\")\n",
    "\n",
    "training_loss_pr_epoch = []\n",
    "validation_loss_pr_epoch = []\n",
    "dice_metric_pr_epoch = []\n",
    "training_dice_pr_epoch = []\n",
    "\n",
    "start = time.time()\n",
    "\n",
    "for epoch in range(max_epochs):\n",
    "        \n",
    "        torch.cuda.empty_cache()\n",
    "        gc.collect()\n",
    "\n",
    "        print(\"-\" * 10)\n",
    "        print(f\"epoch {epoch + 1}/{max_epochs}\")\n",
    "        model.train()\n",
    "        training_losses = []\n",
    "        unique_labels_dict = defaultdict(int)\n",
    "        \n",
    "        for batch_data in tqdm(train_dataloader):\n",
    "            images, labels = batch_data[\"image\"].to(device), batch_data[\"label\"].to(device)\n",
    "            optimizer.zero_grad()\n",
    "            outputs = model(images)\n",
    "            \n",
    "            val_labels_list = decollate_batch(labels)\n",
    "            val_labels_convert = [post_label(val_label_tensor) for val_label_tensor in val_labels_list]\n",
    "            val_outputs_list = decollate_batch(outputs)\n",
    "            val_output_convert = [post_pred(val_pred_tensor) for val_pred_tensor in val_outputs_list]\n",
    "            \n",
    "            \n",
    "            loss = loss_function(outputs, labels)\n",
    "            loss.backward()\n",
    "            optimizer.step()\n",
    "            training_losses.append(loss.item())\n",
    "            \n",
    "            dice_metric(y_pred=val_output_convert, y=val_labels_convert)\n",
    "            \n",
    "        training_dice = dice_metric.aggregate().item()\n",
    "        training_dice_pr_epoch.append(training_dice)\n",
    "        dice_metric.reset()\n",
    "\n",
    "        validation_losses = []\n",
    "        model.eval()\n",
    "        unique_labels_dict_val = defaultdict(int)\n",
    "        with torch.no_grad():\n",
    "            dice_scores = []\n",
    "            for batch in tqdm(val_dataloader):\n",
    "                images, labels = batch[\"image\"].to(device), batch[\"label\"].to(device)\n",
    "                \n",
    "                outputs = sliding_window_inference(\n",
    "                    images,                      \n",
    "                    roi_size=(roi[0], roi[1], roi[2]),     \n",
    "                    sw_batch_size=4,             \n",
    "                    predictor=model,            \n",
    "                    overlap=0.5                \n",
    "                )\n",
    "                \n",
    "                loss = loss_function(outputs, labels)\n",
    "                validation_losses.append(loss.item())\n",
    "                \n",
    "                #segmentation guide\n",
    "                val_labels_list = decollate_batch(labels)\n",
    "                val_labels_convert = [post_label(val_label_tensor) for val_label_tensor in val_labels_list]\n",
    "                val_outputs_list = decollate_batch(outputs)\n",
    "                val_output_convert = [post_pred(val_pred_tensor) for val_pred_tensor in val_outputs_list]\n",
    "                \n",
    "                dice_metric(y_pred=val_output_convert, y=val_labels_convert)\n",
    "            validation_dice = dice_metric.aggregate().item()\n",
    "            dice_metric.reset()\n",
    "            dice_metric_pr_epoch.append(validation_dice)\n",
    "\n",
    "\n",
    "        training_loss_pr_epoch.append(np.mean(training_losses))\n",
    "        validation_loss_pr_epoch.append(np.mean(validation_losses))\n",
    "        print(f\"Training mean loss: {np.mean(training_losses)}\")\n",
    "        print(f\"Validation mean loss: {np.mean(validation_losses)}\")\n",
    "        print(f\"Training dice {training_dice}\")\n",
    "        print(f\"Validation Mean Dice: {validation_dice}\")\n",
    "\n",
    "end = time.time()\n",
    "print(f\"{max_epochs} took {start - end} time.\")"
   ]
  },
  {
   "cell_type": "code",
   "execution_count": null,
   "metadata": {},
   "outputs": [],
   "source": [
    "save_name = f\"{model_name} {len(training_dice_pr_epoch)}\"\n",
    "torch.save(model.state_dict(), save_name)"
   ]
  },
  {
   "cell_type": "code",
   "execution_count": null,
   "metadata": {},
   "outputs": [],
   "source": [
    "# Loss\n",
    "plt.plot(training_loss_pr_epoch, label=\"Training loss\")\n",
    "plt.plot(validation_loss_pr_epoch, label=\"Validation loss \")\n",
    "plt.xlabel(\"Epoch\")\n",
    "plt.ylabel(\"Loss\")\n",
    "plt.title(f\"Training and validation loss - {model_name} - DiceCELoss\")\n",
    "plt.legend()"
   ]
  },
  {
   "cell_type": "code",
   "execution_count": null,
   "metadata": {},
   "outputs": [],
   "source": [
    "plt.plot(dice_metric_pr_epoch, label=\"Dice Metric\")\n",
    "plt.xlabel(\"Epoch\")\n",
    "plt.ylabel(\"Dice Metric\")\n",
    "plt.title(f\"Validation Dice Metric {model_name}-DiceCELoss\")\n",
    "plt.legend()"
   ]
  },
  {
   "cell_type": "markdown",
   "metadata": {},
   "source": [
    "## Running the model on the test set"
   ]
  },
  {
   "cell_type": "code",
   "execution_count": null,
   "metadata": {},
   "outputs": [],
   "source": [
    "#Using the validation transform on the test data set\n",
    "test_ds = Dataset(data=test_midRT, transform=val_transforms)\n",
    "test_dataloader = DataLoader(test_ds, batch_size=1, shuffle=False, num_workers=0)"
   ]
  },
  {
   "cell_type": "markdown",
   "metadata": {},
   "source": [
    "### Load the weights if needed"
   ]
  },
  {
   "cell_type": "code",
   "execution_count": null,
   "metadata": {},
   "outputs": [],
   "source": [
    "# Load the state dictionary\n",
    "state_dict = torch.load(\"UNet_400.pth\")\n",
    "# Load the weights into the model\n",
    "model.load_state_dict(state_dict)"
   ]
  },
  {
   "cell_type": "code",
   "execution_count": null,
   "metadata": {},
   "outputs": [],
   "source": [
    "model.eval()\n",
    "with torch.no_grad():\n",
    "    dice_scores = []\n",
    "    for batch in tqdm(test_dataloader):\n",
    "        images, labels = batch[\"image\"].to(device), batch[\"label\"].to(device)\n",
    "        \n",
    "        outputs = sliding_window_inference(\n",
    "            images,                      \n",
    "            roi_size=(roi[0], roi[1], roi[2]),     \n",
    "            sw_batch_size=4,             \n",
    "            predictor=model,            \n",
    "            overlap=0.5                \n",
    "        )\n",
    "        \n",
    "        #segmentation guide\n",
    "        test_labels_list = decollate_batch(labels)\n",
    "        test_labels_convert = [post_label(test_label_tensor) for test_label_tensor in test_labels_list]\n",
    "        test_outputs_list = decollate_batch(outputs)\n",
    "        test_output_convert = [post_pred(test_pred_tensor) for test_pred_tensor in test_outputs_list]\n",
    "        \n",
    "        dice_metric(y_pred=test_output_convert, y=test_labels_convert)\n",
    "    test_dice = dice_metric.aggregate().item()\n",
    "    dice_metric.reset()\n",
    "    \n",
    "    print(f\"The mean test dice is {test_dice}\")\n"
   ]
  },
  {
   "cell_type": "code",
   "execution_count": null,
   "metadata": {},
   "outputs": [],
   "source": []
  }
 ],
 "metadata": {
  "kernelspec": {
   "display_name": "vi",
   "language": "python",
   "name": "python3"
  },
  "language_info": {
   "codemirror_mode": {
    "name": "ipython",
    "version": 3
   },
   "file_extension": ".py",
   "mimetype": "text/x-python",
   "name": "python",
   "nbconvert_exporter": "python",
   "pygments_lexer": "ipython3",
   "version": "3.12.7"
  }
 },
 "nbformat": 4,
 "nbformat_minor": 2
}
